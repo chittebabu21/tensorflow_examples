{
  "nbformat": 4,
  "nbformat_minor": 0,
  "metadata": {
    "colab": {
      "name": "05_transfer_learning_part_2_fine_tuning.ipynb",
      "provenance": []
    },
    "kernelspec": {
      "name": "python3",
      "display_name": "Python 3"
    },
    "language_info": {
      "name": "python"
    },
    "accelerator": "GPU"
  },
  "cells": [
    {
      "cell_type": "markdown",
      "source": [
        "#### Transfer learning with tensorflow part 2: Fine tuning"
      ],
      "metadata": {
        "id": "RWksmin3iBrn"
      }
    },
    {
      "cell_type": "code",
      "source": [
        "!nvidia-smi"
      ],
      "metadata": {
        "colab": {
          "base_uri": "https://localhost:8080/"
        },
        "id": "Kc4p_0wIjKo7",
        "outputId": "846c8072-26d4-4ee5-e326-d9574ec31dab"
      },
      "execution_count": null,
      "outputs": [
        {
          "output_type": "stream",
          "name": "stdout",
          "text": [
            "Thu May 19 03:33:48 2022       \n",
            "+-----------------------------------------------------------------------------+\n",
            "| NVIDIA-SMI 460.32.03    Driver Version: 460.32.03    CUDA Version: 11.2     |\n",
            "|-------------------------------+----------------------+----------------------+\n",
            "| GPU  Name        Persistence-M| Bus-Id        Disp.A | Volatile Uncorr. ECC |\n",
            "| Fan  Temp  Perf  Pwr:Usage/Cap|         Memory-Usage | GPU-Util  Compute M. |\n",
            "|                               |                      |               MIG M. |\n",
            "|===============================+======================+======================|\n",
            "|   0  Tesla T4            Off  | 00000000:00:04.0 Off |                    0 |\n",
            "| N/A   52C    P8    10W /  70W |      0MiB / 15109MiB |      0%      Default |\n",
            "|                               |                      |                  N/A |\n",
            "+-------------------------------+----------------------+----------------------+\n",
            "                                                                               \n",
            "+-----------------------------------------------------------------------------+\n",
            "| Processes:                                                                  |\n",
            "|  GPU   GI   CI        PID   Type   Process name                  GPU Memory |\n",
            "|        ID   ID                                                   Usage      |\n",
            "|=============================================================================|\n",
            "|  No running processes found                                                 |\n",
            "+-----------------------------------------------------------------------------+\n"
          ]
        }
      ]
    },
    {
      "cell_type": "code",
      "source": [
        "!wget https://raw.githubusercontent.com/mrdbourke/tensorflow-deep-learning/main/extras/helper_functions.py"
      ],
      "metadata": {
        "colab": {
          "base_uri": "https://localhost:8080/"
        },
        "id": "QHFemPySjMON",
        "outputId": "5c1e973b-c701-4bd6-d288-10768acbfa28"
      },
      "execution_count": null,
      "outputs": [
        {
          "output_type": "stream",
          "name": "stdout",
          "text": [
            "--2022-05-19 03:33:48--  https://raw.githubusercontent.com/mrdbourke/tensorflow-deep-learning/main/extras/helper_functions.py\n",
            "Resolving raw.githubusercontent.com (raw.githubusercontent.com)... 185.199.108.133, 185.199.109.133, 185.199.110.133, ...\n",
            "Connecting to raw.githubusercontent.com (raw.githubusercontent.com)|185.199.108.133|:443... connected.\n",
            "HTTP request sent, awaiting response... 200 OK\n",
            "Length: 10246 (10K) [text/plain]\n",
            "Saving to: ‘helper_functions.py’\n",
            "\n",
            "helper_functions.py 100%[===================>]  10.01K  --.-KB/s    in 0s      \n",
            "\n",
            "2022-05-19 03:33:48 (51.9 MB/s) - ‘helper_functions.py’ saved [10246/10246]\n",
            "\n"
          ]
        }
      ]
    },
    {
      "cell_type": "markdown",
      "source": [
        "Import helper functions"
      ],
      "metadata": {
        "id": "Kvg5MwedjTMV"
      }
    },
    {
      "cell_type": "code",
      "source": [
        "from helper_functions import create_tensorboard_callback, plot_loss_curves, unzip_data, walk_through_dir # re-download the helper_functions.py when google colab disconnects"
      ],
      "metadata": {
        "id": "B6G5K3NJjOwS"
      },
      "execution_count": null,
      "outputs": []
    },
    {
      "cell_type": "markdown",
      "source": [
        "#### Get data from tf.keras.applications and apply them to our own problem"
      ],
      "metadata": {
        "id": "kRif6BZVj0TC"
      }
    },
    {
      "cell_type": "code",
      "source": [
        "!wget https://storage.googleapis.com/ztm_tf_course/food_vision/10_food_classes_10_percent.zip # import our dataset from github\n",
        "\n",
        "unzip_data(\"10_food_classes_10_percent.zip\") # unzip the file using unzip_data function"
      ],
      "metadata": {
        "colab": {
          "base_uri": "https://localhost:8080/"
        },
        "id": "T_hkj8WNkQur",
        "outputId": "5b96fa61-3e3c-4109-e1e0-7d739b36bb1a"
      },
      "execution_count": null,
      "outputs": [
        {
          "output_type": "stream",
          "name": "stdout",
          "text": [
            "--2022-05-19 03:33:51--  https://storage.googleapis.com/ztm_tf_course/food_vision/10_food_classes_10_percent.zip\n",
            "Resolving storage.googleapis.com (storage.googleapis.com)... 74.125.197.128, 74.125.142.128, 74.125.195.128, ...\n",
            "Connecting to storage.googleapis.com (storage.googleapis.com)|74.125.197.128|:443... connected.\n",
            "HTTP request sent, awaiting response... 200 OK\n",
            "Length: 168546183 (161M) [application/zip]\n",
            "Saving to: ‘10_food_classes_10_percent.zip’\n",
            "\n",
            "10_food_classes_10_ 100%[===================>] 160.74M   198MB/s    in 0.8s    \n",
            "\n",
            "2022-05-19 03:33:52 (198 MB/s) - ‘10_food_classes_10_percent.zip’ saved [168546183/168546183]\n",
            "\n"
          ]
        }
      ]
    },
    {
      "cell_type": "code",
      "source": [
        "walk_through_dir(\"10_food_classes_10_percent\") # walk through function with os"
      ],
      "metadata": {
        "colab": {
          "base_uri": "https://localhost:8080/"
        },
        "id": "OB15kBOYkn7J",
        "outputId": "3cea9b94-4989-4568-948a-cca8402651da"
      },
      "execution_count": null,
      "outputs": [
        {
          "output_type": "stream",
          "name": "stdout",
          "text": [
            "There are 2 directories and 0 images in '10_food_classes_10_percent'.\n",
            "There are 10 directories and 0 images in '10_food_classes_10_percent/test'.\n",
            "There are 0 directories and 250 images in '10_food_classes_10_percent/test/sushi'.\n",
            "There are 0 directories and 250 images in '10_food_classes_10_percent/test/chicken_wings'.\n",
            "There are 0 directories and 250 images in '10_food_classes_10_percent/test/ice_cream'.\n",
            "There are 0 directories and 250 images in '10_food_classes_10_percent/test/grilled_salmon'.\n",
            "There are 0 directories and 250 images in '10_food_classes_10_percent/test/chicken_curry'.\n",
            "There are 0 directories and 250 images in '10_food_classes_10_percent/test/ramen'.\n",
            "There are 0 directories and 250 images in '10_food_classes_10_percent/test/hamburger'.\n",
            "There are 0 directories and 250 images in '10_food_classes_10_percent/test/fried_rice'.\n",
            "There are 0 directories and 250 images in '10_food_classes_10_percent/test/steak'.\n",
            "There are 0 directories and 250 images in '10_food_classes_10_percent/test/pizza'.\n",
            "There are 10 directories and 0 images in '10_food_classes_10_percent/train'.\n",
            "There are 0 directories and 75 images in '10_food_classes_10_percent/train/sushi'.\n",
            "There are 0 directories and 75 images in '10_food_classes_10_percent/train/chicken_wings'.\n",
            "There are 0 directories and 75 images in '10_food_classes_10_percent/train/ice_cream'.\n",
            "There are 0 directories and 75 images in '10_food_classes_10_percent/train/grilled_salmon'.\n",
            "There are 0 directories and 75 images in '10_food_classes_10_percent/train/chicken_curry'.\n",
            "There are 0 directories and 75 images in '10_food_classes_10_percent/train/ramen'.\n",
            "There are 0 directories and 75 images in '10_food_classes_10_percent/train/hamburger'.\n",
            "There are 0 directories and 75 images in '10_food_classes_10_percent/train/fried_rice'.\n",
            "There are 0 directories and 75 images in '10_food_classes_10_percent/train/steak'.\n",
            "There are 0 directories and 75 images in '10_food_classes_10_percent/train/pizza'.\n"
          ]
        }
      ]
    },
    {
      "cell_type": "markdown",
      "source": [
        "#### Create training and test directory paths"
      ],
      "metadata": {
        "id": "95rQNc7xk27s"
      }
    },
    {
      "cell_type": "code",
      "source": [
        "train_dir = \"10_food_classes_10_percent/train/\"\n",
        "test_dir = \"10_food_classes_10_percent/test/\""
      ],
      "metadata": {
        "id": "vPAS3wSmlB3G"
      },
      "execution_count": null,
      "outputs": []
    },
    {
      "cell_type": "code",
      "source": [
        "import tensorflow as tf\n",
        "import numpy as np\n",
        "import matplotlib.pyplot as plt"
      ],
      "metadata": {
        "id": "LTML1vK9lPZj"
      },
      "execution_count": null,
      "outputs": []
    },
    {
      "cell_type": "code",
      "source": [
        "from tensorflow.python.ops.gen_array_ops import BatchToSpace\n",
        "IMAGE_SHAPE = (224, 224)\n",
        "BATCH_SIZE = 32\n",
        "\n",
        "train_data_10_percent = tf.keras.preprocessing.image_dataset_from_directory(directory=train_dir,\n",
        "                                                                            image_size=IMAGE_SHAPE,\n",
        "                                                                            label_mode=\"categorical\",\n",
        "                                                                            batch_size=BATCH_SIZE)\n",
        "\n",
        "test_data = tf.keras.preprocessing.image_dataset_from_directory(directory=test_dir,\n",
        "                                                                image_size=IMAGE_SHAPE,\n",
        "                                                                label_mode=\"categorical\",\n",
        "                                                                batch_size=BATCH_SIZE)"
      ],
      "metadata": {
        "colab": {
          "base_uri": "https://localhost:8080/"
        },
        "id": "bxgEZHrhlXq2",
        "outputId": "8b501da1-7d8a-4d1a-a6dd-8ef9a4ff167d"
      },
      "execution_count": null,
      "outputs": [
        {
          "output_type": "stream",
          "name": "stdout",
          "text": [
            "Found 750 files belonging to 10 classes.\n",
            "Found 2500 files belonging to 10 classes.\n"
          ]
        }
      ]
    },
    {
      "cell_type": "code",
      "source": [
        "train_data_10_percent"
      ],
      "metadata": {
        "colab": {
          "base_uri": "https://localhost:8080/"
        },
        "id": "5FuyTUHamgyf",
        "outputId": "0615b5fe-6303-445b-fd87-f15496f1e3d7"
      },
      "execution_count": null,
      "outputs": [
        {
          "output_type": "execute_result",
          "data": {
            "text/plain": [
              "<BatchDataset element_spec=(TensorSpec(shape=(None, 224, 224, 3), dtype=tf.float32, name=None), TensorSpec(shape=(None, 10), dtype=tf.float32, name=None))>"
            ]
          },
          "metadata": {},
          "execution_count": 9
        }
      ]
    },
    {
      "cell_type": "markdown",
      "source": [
        "#### Check out the class names"
      ],
      "metadata": {
        "id": "3SU3fP2VmkvV"
      }
    },
    {
      "cell_type": "code",
      "source": [
        "train_data_10_percent.class_names"
      ],
      "metadata": {
        "colab": {
          "base_uri": "https://localhost:8080/"
        },
        "id": "xt40q1HLnIOR",
        "outputId": "8a87bcd6-27ff-4b0f-d541-4c16cc5f040b"
      },
      "execution_count": null,
      "outputs": [
        {
          "output_type": "execute_result",
          "data": {
            "text/plain": [
              "['chicken_curry',\n",
              " 'chicken_wings',\n",
              " 'fried_rice',\n",
              " 'grilled_salmon',\n",
              " 'hamburger',\n",
              " 'ice_cream',\n",
              " 'pizza',\n",
              " 'ramen',\n",
              " 'steak',\n",
              " 'sushi']"
            ]
          },
          "metadata": {},
          "execution_count": 10
        }
      ]
    },
    {
      "cell_type": "code",
      "source": [
        "for images, labels in train_data_10_percent.take(1): # take function splits the data into tuples of images and labels\n",
        "  print(images, labels)"
      ],
      "metadata": {
        "colab": {
          "base_uri": "https://localhost:8080/"
        },
        "id": "4sCxbZtGnKiN",
        "outputId": "83b884f9-018b-44f1-c376-149536776540"
      },
      "execution_count": null,
      "outputs": [
        {
          "output_type": "stream",
          "name": "stdout",
          "text": [
            "tf.Tensor(\n",
            "[[[[1.94811218e+02 1.47882645e+02 1.22025513e+02]\n",
            "   [1.91168365e+02 1.44882660e+02 1.15188774e+02]\n",
            "   [1.97045914e+02 1.52755096e+02 1.18765305e+02]\n",
            "   ...\n",
            "   [3.42397156e+01 4.08264923e+01 4.89642334e+01]\n",
            "   [2.58880100e+01 3.36022949e+01 4.12451515e+01]\n",
            "   [7.20464020e+01 8.10464020e+01 8.80464020e+01]]\n",
            "\n",
            "  [[1.92806122e+02 1.49734695e+02 1.15306122e+02]\n",
            "   [1.92785721e+02 1.49714294e+02 1.15285713e+02]\n",
            "   [2.01392853e+02 1.57892868e+02 1.25005104e+02]\n",
            "   ...\n",
            "   [1.29229584e+02 1.40372452e+02 1.46372452e+02]\n",
            "   [9.66224289e+01 1.05765289e+02 1.12693863e+02]\n",
            "   [1.22250717e+02 1.31250717e+02 1.38250717e+02]]\n",
            "\n",
            "  [[1.91525513e+02 1.45954086e+02 1.28382645e+02]\n",
            "   [1.64479584e+02 1.18122437e+02 9.97652969e+01]\n",
            "   [1.39397949e+02 9.27806015e+01 7.25612106e+01]\n",
            "   ...\n",
            "   [1.32214264e+02 1.46785690e+02 1.51999985e+02]\n",
            "   [1.34561111e+02 1.45448853e+02 1.51504990e+02]\n",
            "   [1.17535553e+02 1.24964127e+02 1.32749847e+02]]\n",
            "\n",
            "  ...\n",
            "\n",
            "  [[2.86223936e+00 3.86223936e+00 8.07653332e+00]\n",
            "   [6.84183693e+00 5.84183693e+00 1.08418369e+01]\n",
            "   [8.85714340e+00 6.42857170e+00 8.66326904e+00]\n",
            "   ...\n",
            "   [1.21112434e+02 9.48981705e+01 7.10919800e+01]\n",
            "   [1.07744911e+02 8.17449112e+01 5.51735039e+01]\n",
            "   [1.02535973e+02 7.73216782e+01 4.71788559e+01]]\n",
            "\n",
            "  [[2.68878174e+00 3.68878174e+00 8.68878174e+00]\n",
            "   [5.92345381e+00 4.92345381e+00 9.92345333e+00]\n",
            "   [8.85714340e+00 6.42857170e+00 9.00000000e+00]\n",
            "   ...\n",
            "   [1.06933487e+02 8.07192230e+01 5.81477547e+01]\n",
            "   [1.09275505e+02 8.32755051e+01 5.82755013e+01]\n",
            "   [1.08387917e+02 8.23879166e+01 5.53879128e+01]]\n",
            "\n",
            "  [[2.71428561e+00 3.71428561e+00 8.71428585e+00]\n",
            "   [5.78571510e+00 4.78571510e+00 1.07857151e+01]\n",
            "   [8.64285755e+00 6.21428585e+00 1.03571424e+01]\n",
            "   ...\n",
            "   [1.13627678e+02 8.76276779e+01 6.13419762e+01]\n",
            "   [1.03658279e+02 7.86582794e+01 4.86582832e+01]\n",
            "   [1.13347008e+02 8.83470078e+01 5.73470078e+01]]]\n",
            "\n",
            "\n",
            " [[[1.90642853e+02 1.81000000e+02 1.69214279e+02]\n",
            "   [1.93265305e+02 1.83265305e+02 1.73193878e+02]\n",
            "   [1.93556122e+02 1.82836731e+02 1.77709183e+02]\n",
            "   ...\n",
            "   [1.85387726e+02 1.57188766e+02 1.33244965e+02]\n",
            "   [1.84999969e+02 1.60239807e+02 1.38882660e+02]\n",
            "   [1.80505035e+02 1.59887726e+02 1.39474457e+02]]\n",
            "\n",
            "  [[1.99188782e+02 1.89525513e+02 1.92285721e+02]\n",
            "   [1.96204071e+02 1.87000000e+02 1.91632645e+02]\n",
            "   [1.93459183e+02 1.83045929e+02 1.90989792e+02]\n",
            "   ...\n",
            "   [1.83729813e+02 1.52388016e+02 1.21189072e+02]\n",
            "   [1.88704086e+02 1.61785721e+02 1.33209213e+02]\n",
            "   [1.90591934e+02 1.64739899e+02 1.38071533e+02]]\n",
            "\n",
            "  [[1.93862244e+02 1.86500000e+02 2.03714294e+02]\n",
            "   [1.97260208e+02 1.90530624e+02 2.09459183e+02]\n",
            "   [1.96928574e+02 1.89051025e+02 2.11168365e+02]\n",
            "   ...\n",
            "   [1.94168457e+02 1.57852173e+02 1.18520576e+02]\n",
            "   [1.99969376e+02 1.65413269e+02 1.27484726e+02]\n",
            "   [2.00852066e+02 1.67576569e+02 1.31428604e+02]]\n",
            "\n",
            "  ...\n",
            "\n",
            "  [[7.03623657e+01 3.44336891e+01 1.90764790e+01]\n",
            "   [7.39032745e+01 3.71888580e+01 2.41888580e+01]\n",
            "   [7.12145004e+01 3.65001297e+01 2.35255814e+01]\n",
            "   ...\n",
            "   [3.68111458e+01 1.81478558e+01 1.09795017e+01]\n",
            "   [3.36989250e+01 1.46989260e+01 7.69892597e+00]\n",
            "   [3.79286194e+01 1.89286194e+01 1.19286194e+01]]\n",
            "\n",
            "  [[8.30511017e+01 3.98826981e+01 2.28163586e+01]\n",
            "   [8.12908401e+01 3.81479607e+01 2.10050755e+01]\n",
            "   [8.08010635e+01 3.78571548e+01 2.09132500e+01]\n",
            "   ...\n",
            "   [3.30867500e+01 1.60867481e+01 8.08674908e+00]\n",
            "   [3.50714417e+01 1.80714417e+01 1.00714417e+01]\n",
            "   [3.71887779e+01 2.01887779e+01 1.21887770e+01]]\n",
            "\n",
            "  [[8.27293320e+01 3.57293358e+01 1.77293358e+01]\n",
            "   [7.93314514e+01 3.23314552e+01 1.24232864e+01]\n",
            "   [8.29948196e+01 3.57141800e+01 1.57141800e+01]\n",
            "   ...\n",
            "   [3.24335251e+01 1.54335251e+01 7.43352509e+00]\n",
            "   [3.28112221e+01 1.58112230e+01 7.81122303e+00]\n",
            "   [3.68419304e+01 1.98419323e+01 1.18419313e+01]]]\n",
            "\n",
            "\n",
            " [[[1.05357147e+02 2.83571415e+01 8.41836751e-01]\n",
            "   [1.13882660e+02 3.74795914e+01 6.33673477e+00]\n",
            "   [1.16642860e+02 4.57142868e+01 6.71938944e+00]\n",
            "   ...\n",
            "   [6.92804031e+01 1.62805767e+01 5.97955751e+00]\n",
            "   [5.49234543e+01 1.17806244e+01 3.77554774e-01]\n",
            "   [5.39745216e+01 1.42296495e+01 2.10208559e+00]]\n",
            "\n",
            "  [[1.02071426e+02 2.40714302e+01 1.28571439e+00]\n",
            "   [1.11714287e+02 3.45765305e+01 8.99489784e+00]\n",
            "   [1.17530609e+02 4.56020432e+01 9.94387913e+00]\n",
            "   ...\n",
            "   [6.19284630e+01 1.41428566e+01 4.00002193e+00]\n",
            "   [5.29183540e+01 1.50714149e+01 3.99998689e+00]\n",
            "   [5.06173096e+01 1.34745226e+01 2.07142854e+00]]\n",
            "\n",
            "  [[1.03214287e+02 2.44285736e+01 8.35714340e+00]\n",
            "   [1.09969391e+02 3.19132652e+01 9.99489689e+00]\n",
            "   [1.12454079e+02 3.95714302e+01 8.85714436e+00]\n",
            "   ...\n",
            "   [5.78825264e+01 1.77397785e+01 8.69386578e+00]\n",
            "   [4.97550812e+01 1.54693947e+01 4.98469114e+00]\n",
            "   [4.97805710e+01 1.60663548e+01 5.35714340e+00]]\n",
            "\n",
            "  ...\n",
            "\n",
            "  [[1.23000000e+02 8.00000000e+00 2.57141113e+00]\n",
            "   [1.27841843e+02 1.28418369e+01 7.41324806e+00]\n",
            "   [1.24954079e+02 9.95407963e+00 4.61734867e+00]\n",
            "   ...\n",
            "   [1.08897774e+02 2.90297127e+00 3.06095034e-01]\n",
            "   [9.87856750e+01 5.07144165e+00 3.14288330e+00]\n",
            "   [9.33621826e+01 6.07654142e+00 5.07654142e+00]]\n",
            "\n",
            "  [[1.23331635e+02 8.33163834e+00 1.33163881e+00]\n",
            "   [1.26923454e+02 1.19234533e+01 4.92345381e+00]\n",
            "   [1.24785713e+02 9.78571415e+00 4.78571415e+00]\n",
            "   ...\n",
            "   [1.12754860e+02 3.86717200e+00 1.43864405e+00]\n",
            "   [9.87856750e+01 4.20919275e+00 2.28063440e+00]\n",
            "   [9.42397385e+01 6.95409536e+00 5.95409536e+00]]\n",
            "\n",
            "  [[1.23943878e+02 8.94387627e+00 1.94387579e+00]\n",
            "   [1.25811226e+02 1.08112259e+01 3.81122541e+00]\n",
            "   [1.24785713e+02 9.78571415e+00 4.78571415e+00]\n",
            "   ...\n",
            "   [1.20351639e+02 1.07752056e+01 7.56094170e+00]\n",
            "   [9.93825989e+01 4.73980951e+00 2.81125116e+00]\n",
            "   [9.26428223e+01 7.35717773e+00 6.00000000e+00]]]\n",
            "\n",
            "\n",
            " ...\n",
            "\n",
            "\n",
            " [[[5.33571434e+01 4.13571434e+01 2.73571434e+01]\n",
            "   [5.10714264e+01 3.90714264e+01 2.50714283e+01]\n",
            "   [4.57857132e+01 3.67857132e+01 2.17857132e+01]\n",
            "   ...\n",
            "   [7.00000000e+00 2.00000000e+00 0.00000000e+00]\n",
            "   [7.00000000e+00 2.00000000e+00 0.00000000e+00]\n",
            "   [7.00000000e+00 2.00000000e+00 0.00000000e+00]]\n",
            "\n",
            "  [[5.38651161e+01 4.18651161e+01 2.78651142e+01]\n",
            "   [5.11278687e+01 3.91278687e+01 2.51278687e+01]\n",
            "   [4.57857132e+01 3.67857132e+01 2.17857132e+01]\n",
            "   ...\n",
            "   [7.00000000e+00 2.00000000e+00 0.00000000e+00]\n",
            "   [7.00000000e+00 2.00000000e+00 0.00000000e+00]\n",
            "   [7.00000000e+00 2.00000000e+00 0.00000000e+00]]\n",
            "\n",
            "  [[5.45609055e+01 4.25609055e+01 2.85609055e+01]\n",
            "   [5.20940666e+01 4.00940666e+01 2.60940685e+01]\n",
            "   [4.67857132e+01 3.77857132e+01 2.27857132e+01]\n",
            "   ...\n",
            "   [7.00000000e+00 2.00000000e+00 0.00000000e+00]\n",
            "   [7.00000000e+00 2.00000000e+00 0.00000000e+00]\n",
            "   [7.00000000e+00 2.00000000e+00 0.00000000e+00]]\n",
            "\n",
            "  ...\n",
            "\n",
            "  [[1.68274841e+01 3.18462682e+00 0.00000000e+00]\n",
            "   [1.32943163e+01 2.29431605e+00 2.94315964e-01]\n",
            "   [1.48571434e+01 6.42857552e-01 0.00000000e+00]\n",
            "   ...\n",
            "   [7.00000000e+00 1.93208790e+00 6.79121390e-02]\n",
            "   [7.00000000e+00 2.00000000e+00 0.00000000e+00]\n",
            "   [7.31695557e+00 2.31695557e+00 0.00000000e+00]]\n",
            "\n",
            "  [[1.98983765e+01 8.18409061e+00 3.46980524e+00]\n",
            "   [1.60121899e+01 5.95574903e+00 3.95574903e+00]\n",
            "   [1.56878233e+01 2.05808830e+00 0.00000000e+00]\n",
            "   ...\n",
            "   [9.41967773e+00 1.41967773e+00 0.00000000e+00]\n",
            "   [9.20983887e+00 1.20983887e+00 0.00000000e+00]\n",
            "   [9.20983887e+00 1.20983887e+00 0.00000000e+00]]\n",
            "\n",
            "  [[2.72509403e+01 1.60627995e+01 1.13485126e+01]\n",
            "   [2.16007500e+01 1.16007500e+01 9.60074997e+00]\n",
            "   [1.71725044e+01 5.74393368e+00 1.31536198e+00]\n",
            "   ...\n",
            "   [1.17366028e+01 4.47320557e+00 0.00000000e+00]\n",
            "   [1.07366028e+01 2.73660278e+00 0.00000000e+00]\n",
            "   [1.07366028e+01 2.73660278e+00 0.00000000e+00]]]\n",
            "\n",
            "\n",
            " [[[1.65846939e+02 1.60846939e+02 1.04846939e+02]\n",
            "   [1.66428574e+02 1.61428574e+02 1.06428574e+02]\n",
            "   [1.65566330e+02 1.57566330e+02 1.08994904e+02]\n",
            "   ...\n",
            "   [2.06428589e+02 2.08214325e+02 1.69000061e+02]\n",
            "   [2.06285721e+02 2.07285721e+02 1.75285721e+02]\n",
            "   [2.07540848e+02 2.07540848e+02 1.79540848e+02]]\n",
            "\n",
            "  [[1.69025513e+02 1.64025513e+02 1.09025505e+02]\n",
            "   [1.64066330e+02 1.57066330e+02 1.03066322e+02]\n",
            "   [1.67627548e+02 1.59183670e+02 1.10229591e+02]\n",
            "   ...\n",
            "   [2.05285690e+02 2.06872467e+02 1.69515350e+02]\n",
            "   [2.09066345e+02 2.10066345e+02 1.78066345e+02]\n",
            "   [2.08311157e+02 2.08908066e+02 1.79117340e+02]]\n",
            "\n",
            "  [[1.68867340e+02 1.62867340e+02 1.04010208e+02]\n",
            "   [1.70857147e+02 1.64428574e+02 1.05571426e+02]\n",
            "   [1.68596939e+02 1.59382645e+02 1.03096939e+02]\n",
            "   ...\n",
            "   [2.04382629e+02 2.05785736e+02 1.69168411e+02]\n",
            "   [2.06785721e+02 2.07785721e+02 1.75785721e+02]\n",
            "   [2.06581619e+02 2.07581619e+02 1.76581619e+02]]\n",
            "\n",
            "  ...\n",
            "\n",
            "  [[1.88489746e+02 1.90209122e+02 1.28050995e+02]\n",
            "   [1.84300949e+02 1.89300949e+02 1.23443810e+02]\n",
            "   [1.86520401e+02 1.91520401e+02 1.24520401e+02]\n",
            "   ...\n",
            "   [2.16214264e+02 2.15663284e+02 1.63403122e+02]\n",
            "   [2.14127518e+02 2.14142822e+02 1.61556107e+02]\n",
            "   [2.12214264e+02 2.12428528e+02 1.57785736e+02]]\n",
            "\n",
            "  [[1.92163254e+02 1.93163254e+02 1.33969391e+02]\n",
            "   [1.89862244e+02 1.94724487e+02 1.31147980e+02]\n",
            "   [1.83158142e+02 1.88158142e+02 1.21959160e+02]\n",
            "   ...\n",
            "   [2.14428528e+02 2.14000000e+02 1.63785736e+02]\n",
            "   [2.14142883e+02 2.14142883e+02 1.64142883e+02]\n",
            "   [2.12739777e+02 2.15071442e+02 1.64076462e+02]]\n",
            "\n",
            "  [[1.88112228e+02 1.89112228e+02 1.31698990e+02]\n",
            "   [1.86403030e+02 1.90403030e+02 1.29545883e+02]\n",
            "   [1.83637894e+02 1.88637894e+02 1.22637886e+02]\n",
            "   ...\n",
            "   [2.13362137e+02 2.12147873e+02 1.63933609e+02]\n",
            "   [2.12142883e+02 2.14142883e+02 1.65142883e+02]\n",
            "   [2.14000000e+02 2.16000000e+02 1.67000000e+02]]]\n",
            "\n",
            "\n",
            " [[[7.46428604e+01 4.26428566e+01 1.76428566e+01]\n",
            "   [7.39030609e+01 4.19030609e+01 1.89030609e+01]\n",
            "   [7.35714264e+01 4.15714302e+01 1.90000000e+01]\n",
            "   ...\n",
            "   [4.53112297e+01 3.19540215e+01 2.31122923e+00]\n",
            "   [4.96633987e+01 3.36633987e+01 8.80628300e+00]\n",
            "   [6.35814018e+01 4.55814018e+01 2.55814037e+01]]\n",
            "\n",
            "  [[7.07602081e+01 3.87602043e+01 1.57602043e+01]\n",
            "   [7.37908173e+01 4.17908134e+01 1.87908173e+01]\n",
            "   [7.41275558e+01 4.21275520e+01 1.95561218e+01]\n",
            "   ...\n",
            "   [4.48416405e+01 3.38416405e+01 5.44372320e+00]\n",
            "   [4.22041435e+01 2.62704716e+01 1.54600525e+00]\n",
            "   [5.50510597e+01 3.80510597e+01 1.80510597e+01]]\n",
            "\n",
            "  [[7.32091827e+01 4.12091866e+01 1.82091827e+01]\n",
            "   [7.46428604e+01 4.26428566e+01 1.96428585e+01]\n",
            "   [7.14285736e+01 3.94285698e+01 1.68571434e+01]\n",
            "   ...\n",
            "   [4.19182968e+01 3.17040100e+01 4.48972416e+00]\n",
            "   [4.17296219e+01 2.89030571e+01 5.17347527e+00]\n",
            "   [4.81531105e+01 3.27245407e+01 1.19388247e+01]]\n",
            "\n",
            "  ...\n",
            "\n",
            "  [[6.85717773e+00 5.85717773e+00 3.85717773e+00]\n",
            "   [8.80105591e+00 7.15817261e+00 3.37246728e+00]\n",
            "   [1.07653198e+01 8.61734009e+00 5.00000000e+00]\n",
            "   ...\n",
            "   [1.12739792e+02 8.07397919e+01 6.97397919e+01]\n",
            "   [1.14785706e+02 8.27857056e+01 7.17857056e+01]\n",
            "   [1.14505066e+02 8.25050659e+01 7.15050659e+01]]\n",
            "\n",
            "  [[1.18571777e+01 1.08571777e+01 8.85717773e+00]\n",
            "   [1.29285889e+01 8.92858887e+00 5.92858887e+00]\n",
            "   [1.21989832e+01 8.19898319e+00 5.19898367e+00]\n",
            "   ...\n",
            "   [1.10857147e+02 7.88571472e+01 6.78571472e+01]\n",
            "   [1.11214233e+02 7.92142334e+01 6.82142334e+01]\n",
            "   [1.12474495e+02 8.04744949e+01 6.94744949e+01]]\n",
            "\n",
            "  [[1.00714417e+01 6.07144165e+00 5.07144165e+00]\n",
            "   [1.13112297e+01 7.31122923e+00 4.31122923e+00]\n",
            "   [1.48571386e+01 1.08571386e+01 7.85713863e+00]\n",
            "   ...\n",
            "   [1.13576553e+02 8.15765533e+01 7.05765533e+01]\n",
            "   [1.12239777e+02 8.02397766e+01 6.92397766e+01]\n",
            "   [1.13229645e+02 8.12296448e+01 7.02296448e+01]]]], shape=(32, 224, 224, 3), dtype=float32) tf.Tensor(\n",
            "[[0. 0. 0. 0. 0. 0. 0. 1. 0. 0.]\n",
            " [0. 1. 0. 0. 0. 0. 0. 0. 0. 0.]\n",
            " [0. 0. 0. 1. 0. 0. 0. 0. 0. 0.]\n",
            " [0. 0. 0. 0. 0. 0. 0. 0. 1. 0.]\n",
            " [0. 0. 0. 0. 0. 1. 0. 0. 0. 0.]\n",
            " [0. 0. 0. 0. 0. 1. 0. 0. 0. 0.]\n",
            " [0. 0. 0. 0. 0. 0. 0. 0. 0. 1.]\n",
            " [0. 0. 1. 0. 0. 0. 0. 0. 0. 0.]\n",
            " [1. 0. 0. 0. 0. 0. 0. 0. 0. 0.]\n",
            " [0. 0. 0. 0. 0. 0. 1. 0. 0. 0.]\n",
            " [0. 0. 0. 1. 0. 0. 0. 0. 0. 0.]\n",
            " [0. 0. 0. 0. 0. 0. 0. 0. 1. 0.]\n",
            " [0. 0. 0. 0. 0. 1. 0. 0. 0. 0.]\n",
            " [0. 0. 0. 0. 0. 0. 1. 0. 0. 0.]\n",
            " [0. 0. 0. 1. 0. 0. 0. 0. 0. 0.]\n",
            " [0. 0. 0. 0. 0. 0. 0. 0. 0. 1.]\n",
            " [0. 0. 0. 0. 1. 0. 0. 0. 0. 0.]\n",
            " [0. 0. 0. 0. 0. 0. 1. 0. 0. 0.]\n",
            " [0. 0. 0. 0. 0. 0. 0. 0. 1. 0.]\n",
            " [0. 0. 0. 1. 0. 0. 0. 0. 0. 0.]\n",
            " [0. 0. 0. 0. 0. 0. 1. 0. 0. 0.]\n",
            " [0. 1. 0. 0. 0. 0. 0. 0. 0. 0.]\n",
            " [0. 0. 0. 0. 0. 0. 0. 0. 0. 1.]\n",
            " [0. 0. 0. 0. 0. 1. 0. 0. 0. 0.]\n",
            " [0. 0. 1. 0. 0. 0. 0. 0. 0. 0.]\n",
            " [0. 0. 0. 0. 0. 0. 0. 0. 0. 1.]\n",
            " [0. 0. 0. 1. 0. 0. 0. 0. 0. 0.]\n",
            " [0. 0. 0. 0. 0. 0. 1. 0. 0. 0.]\n",
            " [0. 0. 0. 1. 0. 0. 0. 0. 0. 0.]\n",
            " [0. 0. 0. 0. 0. 0. 0. 1. 0. 0.]\n",
            " [0. 0. 0. 0. 0. 0. 0. 1. 0. 0.]\n",
            " [0. 0. 0. 0. 0. 0. 1. 0. 0. 0.]], shape=(32, 10), dtype=float32)\n"
          ]
        }
      ]
    },
    {
      "cell_type": "markdown",
      "source": [
        "#### Tensorflow functional API\n",
        "\n",
        "1. Create a base model\n",
        "2. Freeze the base model\n",
        "3. Create inputs into base model\n",
        "4. For ResNet50V2, add Rescaling to speed up model\n",
        "5. Pass the inputs to the base model\n",
        "6. Average pool the outputs\n",
        "7. Create the output activation layer\n",
        "8. Combine the inputs with the outputs\n",
        "9. Compile the model\n",
        "10. Fit the model"
      ],
      "metadata": {
        "id": "rFSawgo-nauD"
      }
    },
    {
      "cell_type": "code",
      "source": [
        "# 1.create the base model with tf.keras.applications\n",
        "base_model = tf.keras.applications.EfficientNetB0(include_top=False) # change ouput layer to include only your own classes\n",
        "\n",
        "# 2. freeze the base model so that the underlying pre-trained patterns are not updated during training\n",
        "base_model.trainable = False\n",
        "\n",
        "# 3. create inputs into our model\n",
        "inputs = tf.keras.layers.Input(shape=(224, 224, 3), name=\"input_layer\")\n",
        "\n",
        "# 4. rescale the inputs for resnet50v2 only\n",
        "# x = tf.keras.layers.experimental.preprocessing.Rescaling(1./255)(inputs)\n",
        "\n",
        "# 5. pass the inputs to the base_model\n",
        "x = base_model(inputs)\n",
        "print(f\"Shape after passing inputs through base model: {x.shape}\")\n",
        "\n",
        "# 6. average pool the outputs of the base model\n",
        "x = tf.keras.layers.GlobalAveragePooling2D(name=\"global_average_pooling_layer\")(x)\n",
        "print(f\"Shape after GlobalAveragePooling2D: {x.shape}\")\n",
        "\n",
        "# 7. create the output activation layer\n",
        "outputs = tf.keras.layers.Dense(10, activation=\"softmax\", name=\"output_layer\")(x)\n",
        "\n",
        "# 8. combine the inputs with the outputs into the model\n",
        "model_0 = tf.keras.Model(inputs, outputs)\n",
        "\n",
        "# 9. compile the model\n",
        "model_0.compile(loss=\"categorical_crossentropy\",\n",
        "                optimizer=tf.keras.optimizers.Adam(),\n",
        "                metrics=[\"accuracy\"])\n",
        "\n",
        "# 10. fit the model\n",
        "history_0 = model_0.fit(train_data_10_percent,\n",
        "            epochs=5,\n",
        "            steps_per_epoch=len(train_data_10_percent),\n",
        "            validation_data=test_data,\n",
        "            validation_steps=int(0.25 * len(test_data)),\n",
        "            callbacks=[create_tensorboard_callback(dir_name=\"transfer_learning\",\n",
        "                                                   experiment_name=\"10_percent_feature_extraction\")]) "
      ],
      "metadata": {
        "colab": {
          "base_uri": "https://localhost:8080/"
        },
        "id": "TH7XT7UTqZOD",
        "outputId": "9a7d3a86-c7f8-4a4a-d1b5-60e605a8d59a"
      },
      "execution_count": null,
      "outputs": [
        {
          "output_type": "stream",
          "name": "stdout",
          "text": [
            "Shape after passing inputs through base model: (None, 7, 7, 1280)\n",
            "Shape after GlobalAveragePooling2D: (None, 1280)\n",
            "Saving TensorBoard log files to: transfer_learning/10_percent_feature_extraction/20220519-042542\n",
            "Epoch 1/5\n",
            "24/24 [==============================] - 11s 212ms/step - loss: 1.9045 - accuracy: 0.4053 - val_loss: 1.3356 - val_accuracy: 0.7089\n",
            "Epoch 2/5\n",
            "24/24 [==============================] - 5s 186ms/step - loss: 1.1528 - accuracy: 0.7320 - val_loss: 0.8894 - val_accuracy: 0.8076\n",
            "Epoch 3/5\n",
            "24/24 [==============================] - 5s 184ms/step - loss: 0.8515 - accuracy: 0.7920 - val_loss: 0.7467 - val_accuracy: 0.8207\n",
            "Epoch 4/5\n",
            "24/24 [==============================] - 5s 183ms/step - loss: 0.7037 - accuracy: 0.8280 - val_loss: 0.6386 - val_accuracy: 0.8355\n",
            "Epoch 5/5\n",
            "24/24 [==============================] - 5s 185ms/step - loss: 0.5992 - accuracy: 0.8467 - val_loss: 0.5902 - val_accuracy: 0.8520\n"
          ]
        }
      ]
    },
    {
      "cell_type": "code",
      "source": [
        "# evaluate the model\n",
        "model_0.evaluate(test_data)"
      ],
      "metadata": {
        "id": "9COp1xS4lVjN",
        "colab": {
          "base_uri": "https://localhost:8080/"
        },
        "outputId": "6d78d23e-94e0-4089-d404-bb7804931530"
      },
      "execution_count": null,
      "outputs": [
        {
          "output_type": "stream",
          "name": "stdout",
          "text": [
            "79/79 [==============================] - 6s 71ms/step - loss: 0.6148 - accuracy: 0.8396\n"
          ]
        },
        {
          "output_type": "execute_result",
          "data": {
            "text/plain": [
              "[0.6148046851158142, 0.8396000266075134]"
            ]
          },
          "metadata": {},
          "execution_count": 95
        }
      ]
    },
    {
      "cell_type": "code",
      "source": [
        "for layer_number, layer in enumerate(base_model.layers): # check the layers in the pre-trained model\n",
        "  print(layer_number, layer.name)"
      ],
      "metadata": {
        "id": "AJ4jLkd3pHyR",
        "colab": {
          "base_uri": "https://localhost:8080/"
        },
        "outputId": "a1c9edb4-199b-40a2-cfe6-c215c00e9880"
      },
      "execution_count": null,
      "outputs": [
        {
          "output_type": "stream",
          "name": "stdout",
          "text": [
            "0 input_4\n",
            "1 rescaling_3\n",
            "2 normalization_3\n",
            "3 stem_conv_pad\n",
            "4 stem_conv\n",
            "5 stem_bn\n",
            "6 stem_activation\n",
            "7 block1a_dwconv\n",
            "8 block1a_bn\n",
            "9 block1a_activation\n",
            "10 block1a_se_squeeze\n",
            "11 block1a_se_reshape\n",
            "12 block1a_se_reduce\n",
            "13 block1a_se_expand\n",
            "14 block1a_se_excite\n",
            "15 block1a_project_conv\n",
            "16 block1a_project_bn\n",
            "17 block2a_expand_conv\n",
            "18 block2a_expand_bn\n",
            "19 block2a_expand_activation\n",
            "20 block2a_dwconv_pad\n",
            "21 block2a_dwconv\n",
            "22 block2a_bn\n",
            "23 block2a_activation\n",
            "24 block2a_se_squeeze\n",
            "25 block2a_se_reshape\n",
            "26 block2a_se_reduce\n",
            "27 block2a_se_expand\n",
            "28 block2a_se_excite\n",
            "29 block2a_project_conv\n",
            "30 block2a_project_bn\n",
            "31 block2b_expand_conv\n",
            "32 block2b_expand_bn\n",
            "33 block2b_expand_activation\n",
            "34 block2b_dwconv\n",
            "35 block2b_bn\n",
            "36 block2b_activation\n",
            "37 block2b_se_squeeze\n",
            "38 block2b_se_reshape\n",
            "39 block2b_se_reduce\n",
            "40 block2b_se_expand\n",
            "41 block2b_se_excite\n",
            "42 block2b_project_conv\n",
            "43 block2b_project_bn\n",
            "44 block2b_drop\n",
            "45 block2b_add\n",
            "46 block3a_expand_conv\n",
            "47 block3a_expand_bn\n",
            "48 block3a_expand_activation\n",
            "49 block3a_dwconv_pad\n",
            "50 block3a_dwconv\n",
            "51 block3a_bn\n",
            "52 block3a_activation\n",
            "53 block3a_se_squeeze\n",
            "54 block3a_se_reshape\n",
            "55 block3a_se_reduce\n",
            "56 block3a_se_expand\n",
            "57 block3a_se_excite\n",
            "58 block3a_project_conv\n",
            "59 block3a_project_bn\n",
            "60 block3b_expand_conv\n",
            "61 block3b_expand_bn\n",
            "62 block3b_expand_activation\n",
            "63 block3b_dwconv\n",
            "64 block3b_bn\n",
            "65 block3b_activation\n",
            "66 block3b_se_squeeze\n",
            "67 block3b_se_reshape\n",
            "68 block3b_se_reduce\n",
            "69 block3b_se_expand\n",
            "70 block3b_se_excite\n",
            "71 block3b_project_conv\n",
            "72 block3b_project_bn\n",
            "73 block3b_drop\n",
            "74 block3b_add\n",
            "75 block4a_expand_conv\n",
            "76 block4a_expand_bn\n",
            "77 block4a_expand_activation\n",
            "78 block4a_dwconv_pad\n",
            "79 block4a_dwconv\n",
            "80 block4a_bn\n",
            "81 block4a_activation\n",
            "82 block4a_se_squeeze\n",
            "83 block4a_se_reshape\n",
            "84 block4a_se_reduce\n",
            "85 block4a_se_expand\n",
            "86 block4a_se_excite\n",
            "87 block4a_project_conv\n",
            "88 block4a_project_bn\n",
            "89 block4b_expand_conv\n",
            "90 block4b_expand_bn\n",
            "91 block4b_expand_activation\n",
            "92 block4b_dwconv\n",
            "93 block4b_bn\n",
            "94 block4b_activation\n",
            "95 block4b_se_squeeze\n",
            "96 block4b_se_reshape\n",
            "97 block4b_se_reduce\n",
            "98 block4b_se_expand\n",
            "99 block4b_se_excite\n",
            "100 block4b_project_conv\n",
            "101 block4b_project_bn\n",
            "102 block4b_drop\n",
            "103 block4b_add\n",
            "104 block4c_expand_conv\n",
            "105 block4c_expand_bn\n",
            "106 block4c_expand_activation\n",
            "107 block4c_dwconv\n",
            "108 block4c_bn\n",
            "109 block4c_activation\n",
            "110 block4c_se_squeeze\n",
            "111 block4c_se_reshape\n",
            "112 block4c_se_reduce\n",
            "113 block4c_se_expand\n",
            "114 block4c_se_excite\n",
            "115 block4c_project_conv\n",
            "116 block4c_project_bn\n",
            "117 block4c_drop\n",
            "118 block4c_add\n",
            "119 block5a_expand_conv\n",
            "120 block5a_expand_bn\n",
            "121 block5a_expand_activation\n",
            "122 block5a_dwconv\n",
            "123 block5a_bn\n",
            "124 block5a_activation\n",
            "125 block5a_se_squeeze\n",
            "126 block5a_se_reshape\n",
            "127 block5a_se_reduce\n",
            "128 block5a_se_expand\n",
            "129 block5a_se_excite\n",
            "130 block5a_project_conv\n",
            "131 block5a_project_bn\n",
            "132 block5b_expand_conv\n",
            "133 block5b_expand_bn\n",
            "134 block5b_expand_activation\n",
            "135 block5b_dwconv\n",
            "136 block5b_bn\n",
            "137 block5b_activation\n",
            "138 block5b_se_squeeze\n",
            "139 block5b_se_reshape\n",
            "140 block5b_se_reduce\n",
            "141 block5b_se_expand\n",
            "142 block5b_se_excite\n",
            "143 block5b_project_conv\n",
            "144 block5b_project_bn\n",
            "145 block5b_drop\n",
            "146 block5b_add\n",
            "147 block5c_expand_conv\n",
            "148 block5c_expand_bn\n",
            "149 block5c_expand_activation\n",
            "150 block5c_dwconv\n",
            "151 block5c_bn\n",
            "152 block5c_activation\n",
            "153 block5c_se_squeeze\n",
            "154 block5c_se_reshape\n",
            "155 block5c_se_reduce\n",
            "156 block5c_se_expand\n",
            "157 block5c_se_excite\n",
            "158 block5c_project_conv\n",
            "159 block5c_project_bn\n",
            "160 block5c_drop\n",
            "161 block5c_add\n",
            "162 block6a_expand_conv\n",
            "163 block6a_expand_bn\n",
            "164 block6a_expand_activation\n",
            "165 block6a_dwconv_pad\n",
            "166 block6a_dwconv\n",
            "167 block6a_bn\n",
            "168 block6a_activation\n",
            "169 block6a_se_squeeze\n",
            "170 block6a_se_reshape\n",
            "171 block6a_se_reduce\n",
            "172 block6a_se_expand\n",
            "173 block6a_se_excite\n",
            "174 block6a_project_conv\n",
            "175 block6a_project_bn\n",
            "176 block6b_expand_conv\n",
            "177 block6b_expand_bn\n",
            "178 block6b_expand_activation\n",
            "179 block6b_dwconv\n",
            "180 block6b_bn\n",
            "181 block6b_activation\n",
            "182 block6b_se_squeeze\n",
            "183 block6b_se_reshape\n",
            "184 block6b_se_reduce\n",
            "185 block6b_se_expand\n",
            "186 block6b_se_excite\n",
            "187 block6b_project_conv\n",
            "188 block6b_project_bn\n",
            "189 block6b_drop\n",
            "190 block6b_add\n",
            "191 block6c_expand_conv\n",
            "192 block6c_expand_bn\n",
            "193 block6c_expand_activation\n",
            "194 block6c_dwconv\n",
            "195 block6c_bn\n",
            "196 block6c_activation\n",
            "197 block6c_se_squeeze\n",
            "198 block6c_se_reshape\n",
            "199 block6c_se_reduce\n",
            "200 block6c_se_expand\n",
            "201 block6c_se_excite\n",
            "202 block6c_project_conv\n",
            "203 block6c_project_bn\n",
            "204 block6c_drop\n",
            "205 block6c_add\n",
            "206 block6d_expand_conv\n",
            "207 block6d_expand_bn\n",
            "208 block6d_expand_activation\n",
            "209 block6d_dwconv\n",
            "210 block6d_bn\n",
            "211 block6d_activation\n",
            "212 block6d_se_squeeze\n",
            "213 block6d_se_reshape\n",
            "214 block6d_se_reduce\n",
            "215 block6d_se_expand\n",
            "216 block6d_se_excite\n",
            "217 block6d_project_conv\n",
            "218 block6d_project_bn\n",
            "219 block6d_drop\n",
            "220 block6d_add\n",
            "221 block7a_expand_conv\n",
            "222 block7a_expand_bn\n",
            "223 block7a_expand_activation\n",
            "224 block7a_dwconv\n",
            "225 block7a_bn\n",
            "226 block7a_activation\n",
            "227 block7a_se_squeeze\n",
            "228 block7a_se_reshape\n",
            "229 block7a_se_reduce\n",
            "230 block7a_se_expand\n",
            "231 block7a_se_excite\n",
            "232 block7a_project_conv\n",
            "233 block7a_project_bn\n",
            "234 top_conv\n",
            "235 top_bn\n",
            "236 top_activation\n"
          ]
        }
      ]
    },
    {
      "cell_type": "code",
      "source": [
        "base_model.summary() # summary of the base_model"
      ],
      "metadata": {
        "id": "v9aBtQbhptJ0",
        "colab": {
          "base_uri": "https://localhost:8080/"
        },
        "outputId": "f7ea73cd-4ce1-4a01-90ab-2622db087072"
      },
      "execution_count": null,
      "outputs": [
        {
          "output_type": "stream",
          "name": "stdout",
          "text": [
            "Model: \"efficientnetb0\"\n",
            "__________________________________________________________________________________________________\n",
            " Layer (type)                   Output Shape         Param #     Connected to                     \n",
            "==================================================================================================\n",
            " input_4 (InputLayer)           [(None, None, None,  0           []                               \n",
            "                                 3)]                                                              \n",
            "                                                                                                  \n",
            " rescaling_3 (Rescaling)        (None, None, None,   0           ['input_4[0][0]']                \n",
            "                                3)                                                                \n",
            "                                                                                                  \n",
            " normalization_3 (Normalization  (None, None, None,   7          ['rescaling_3[0][0]']            \n",
            " )                              3)                                                                \n",
            "                                                                                                  \n",
            " stem_conv_pad (ZeroPadding2D)  (None, None, None,   0           ['normalization_3[0][0]']        \n",
            "                                3)                                                                \n",
            "                                                                                                  \n",
            " stem_conv (Conv2D)             (None, None, None,   864         ['stem_conv_pad[0][0]']          \n",
            "                                32)                                                               \n",
            "                                                                                                  \n",
            " stem_bn (BatchNormalization)   (None, None, None,   128         ['stem_conv[0][0]']              \n",
            "                                32)                                                               \n",
            "                                                                                                  \n",
            " stem_activation (Activation)   (None, None, None,   0           ['stem_bn[0][0]']                \n",
            "                                32)                                                               \n",
            "                                                                                                  \n",
            " block1a_dwconv (DepthwiseConv2  (None, None, None,   288        ['stem_activation[0][0]']        \n",
            " D)                             32)                                                               \n",
            "                                                                                                  \n",
            " block1a_bn (BatchNormalization  (None, None, None,   128        ['block1a_dwconv[0][0]']         \n",
            " )                              32)                                                               \n",
            "                                                                                                  \n",
            " block1a_activation (Activation  (None, None, None,   0          ['block1a_bn[0][0]']             \n",
            " )                              32)                                                               \n",
            "                                                                                                  \n",
            " block1a_se_squeeze (GlobalAver  (None, 32)          0           ['block1a_activation[0][0]']     \n",
            " agePooling2D)                                                                                    \n",
            "                                                                                                  \n",
            " block1a_se_reshape (Reshape)   (None, 1, 1, 32)     0           ['block1a_se_squeeze[0][0]']     \n",
            "                                                                                                  \n",
            " block1a_se_reduce (Conv2D)     (None, 1, 1, 8)      264         ['block1a_se_reshape[0][0]']     \n",
            "                                                                                                  \n",
            " block1a_se_expand (Conv2D)     (None, 1, 1, 32)     288         ['block1a_se_reduce[0][0]']      \n",
            "                                                                                                  \n",
            " block1a_se_excite (Multiply)   (None, None, None,   0           ['block1a_activation[0][0]',     \n",
            "                                32)                               'block1a_se_expand[0][0]']      \n",
            "                                                                                                  \n",
            " block1a_project_conv (Conv2D)  (None, None, None,   512         ['block1a_se_excite[0][0]']      \n",
            "                                16)                                                               \n",
            "                                                                                                  \n",
            " block1a_project_bn (BatchNorma  (None, None, None,   64         ['block1a_project_conv[0][0]']   \n",
            " lization)                      16)                                                               \n",
            "                                                                                                  \n",
            " block2a_expand_conv (Conv2D)   (None, None, None,   1536        ['block1a_project_bn[0][0]']     \n",
            "                                96)                                                               \n",
            "                                                                                                  \n",
            " block2a_expand_bn (BatchNormal  (None, None, None,   384        ['block2a_expand_conv[0][0]']    \n",
            " ization)                       96)                                                               \n",
            "                                                                                                  \n",
            " block2a_expand_activation (Act  (None, None, None,   0          ['block2a_expand_bn[0][0]']      \n",
            " ivation)                       96)                                                               \n",
            "                                                                                                  \n",
            " block2a_dwconv_pad (ZeroPaddin  (None, None, None,   0          ['block2a_expand_activation[0][0]\n",
            " g2D)                           96)                              ']                               \n",
            "                                                                                                  \n",
            " block2a_dwconv (DepthwiseConv2  (None, None, None,   864        ['block2a_dwconv_pad[0][0]']     \n",
            " D)                             96)                                                               \n",
            "                                                                                                  \n",
            " block2a_bn (BatchNormalization  (None, None, None,   384        ['block2a_dwconv[0][0]']         \n",
            " )                              96)                                                               \n",
            "                                                                                                  \n",
            " block2a_activation (Activation  (None, None, None,   0          ['block2a_bn[0][0]']             \n",
            " )                              96)                                                               \n",
            "                                                                                                  \n",
            " block2a_se_squeeze (GlobalAver  (None, 96)          0           ['block2a_activation[0][0]']     \n",
            " agePooling2D)                                                                                    \n",
            "                                                                                                  \n",
            " block2a_se_reshape (Reshape)   (None, 1, 1, 96)     0           ['block2a_se_squeeze[0][0]']     \n",
            "                                                                                                  \n",
            " block2a_se_reduce (Conv2D)     (None, 1, 1, 4)      388         ['block2a_se_reshape[0][0]']     \n",
            "                                                                                                  \n",
            " block2a_se_expand (Conv2D)     (None, 1, 1, 96)     480         ['block2a_se_reduce[0][0]']      \n",
            "                                                                                                  \n",
            " block2a_se_excite (Multiply)   (None, None, None,   0           ['block2a_activation[0][0]',     \n",
            "                                96)                               'block2a_se_expand[0][0]']      \n",
            "                                                                                                  \n",
            " block2a_project_conv (Conv2D)  (None, None, None,   2304        ['block2a_se_excite[0][0]']      \n",
            "                                24)                                                               \n",
            "                                                                                                  \n",
            " block2a_project_bn (BatchNorma  (None, None, None,   96         ['block2a_project_conv[0][0]']   \n",
            " lization)                      24)                                                               \n",
            "                                                                                                  \n",
            " block2b_expand_conv (Conv2D)   (None, None, None,   3456        ['block2a_project_bn[0][0]']     \n",
            "                                144)                                                              \n",
            "                                                                                                  \n",
            " block2b_expand_bn (BatchNormal  (None, None, None,   576        ['block2b_expand_conv[0][0]']    \n",
            " ization)                       144)                                                              \n",
            "                                                                                                  \n",
            " block2b_expand_activation (Act  (None, None, None,   0          ['block2b_expand_bn[0][0]']      \n",
            " ivation)                       144)                                                              \n",
            "                                                                                                  \n",
            " block2b_dwconv (DepthwiseConv2  (None, None, None,   1296       ['block2b_expand_activation[0][0]\n",
            " D)                             144)                             ']                               \n",
            "                                                                                                  \n",
            " block2b_bn (BatchNormalization  (None, None, None,   576        ['block2b_dwconv[0][0]']         \n",
            " )                              144)                                                              \n",
            "                                                                                                  \n",
            " block2b_activation (Activation  (None, None, None,   0          ['block2b_bn[0][0]']             \n",
            " )                              144)                                                              \n",
            "                                                                                                  \n",
            " block2b_se_squeeze (GlobalAver  (None, 144)         0           ['block2b_activation[0][0]']     \n",
            " agePooling2D)                                                                                    \n",
            "                                                                                                  \n",
            " block2b_se_reshape (Reshape)   (None, 1, 1, 144)    0           ['block2b_se_squeeze[0][0]']     \n",
            "                                                                                                  \n",
            " block2b_se_reduce (Conv2D)     (None, 1, 1, 6)      870         ['block2b_se_reshape[0][0]']     \n",
            "                                                                                                  \n",
            " block2b_se_expand (Conv2D)     (None, 1, 1, 144)    1008        ['block2b_se_reduce[0][0]']      \n",
            "                                                                                                  \n",
            " block2b_se_excite (Multiply)   (None, None, None,   0           ['block2b_activation[0][0]',     \n",
            "                                144)                              'block2b_se_expand[0][0]']      \n",
            "                                                                                                  \n",
            " block2b_project_conv (Conv2D)  (None, None, None,   3456        ['block2b_se_excite[0][0]']      \n",
            "                                24)                                                               \n",
            "                                                                                                  \n",
            " block2b_project_bn (BatchNorma  (None, None, None,   96         ['block2b_project_conv[0][0]']   \n",
            " lization)                      24)                                                               \n",
            "                                                                                                  \n",
            " block2b_drop (Dropout)         (None, None, None,   0           ['block2b_project_bn[0][0]']     \n",
            "                                24)                                                               \n",
            "                                                                                                  \n",
            " block2b_add (Add)              (None, None, None,   0           ['block2b_drop[0][0]',           \n",
            "                                24)                               'block2a_project_bn[0][0]']     \n",
            "                                                                                                  \n",
            " block3a_expand_conv (Conv2D)   (None, None, None,   3456        ['block2b_add[0][0]']            \n",
            "                                144)                                                              \n",
            "                                                                                                  \n",
            " block3a_expand_bn (BatchNormal  (None, None, None,   576        ['block3a_expand_conv[0][0]']    \n",
            " ization)                       144)                                                              \n",
            "                                                                                                  \n",
            " block3a_expand_activation (Act  (None, None, None,   0          ['block3a_expand_bn[0][0]']      \n",
            " ivation)                       144)                                                              \n",
            "                                                                                                  \n",
            " block3a_dwconv_pad (ZeroPaddin  (None, None, None,   0          ['block3a_expand_activation[0][0]\n",
            " g2D)                           144)                             ']                               \n",
            "                                                                                                  \n",
            " block3a_dwconv (DepthwiseConv2  (None, None, None,   3600       ['block3a_dwconv_pad[0][0]']     \n",
            " D)                             144)                                                              \n",
            "                                                                                                  \n",
            " block3a_bn (BatchNormalization  (None, None, None,   576        ['block3a_dwconv[0][0]']         \n",
            " )                              144)                                                              \n",
            "                                                                                                  \n",
            " block3a_activation (Activation  (None, None, None,   0          ['block3a_bn[0][0]']             \n",
            " )                              144)                                                              \n",
            "                                                                                                  \n",
            " block3a_se_squeeze (GlobalAver  (None, 144)         0           ['block3a_activation[0][0]']     \n",
            " agePooling2D)                                                                                    \n",
            "                                                                                                  \n",
            " block3a_se_reshape (Reshape)   (None, 1, 1, 144)    0           ['block3a_se_squeeze[0][0]']     \n",
            "                                                                                                  \n",
            " block3a_se_reduce (Conv2D)     (None, 1, 1, 6)      870         ['block3a_se_reshape[0][0]']     \n",
            "                                                                                                  \n",
            " block3a_se_expand (Conv2D)     (None, 1, 1, 144)    1008        ['block3a_se_reduce[0][0]']      \n",
            "                                                                                                  \n",
            " block3a_se_excite (Multiply)   (None, None, None,   0           ['block3a_activation[0][0]',     \n",
            "                                144)                              'block3a_se_expand[0][0]']      \n",
            "                                                                                                  \n",
            " block3a_project_conv (Conv2D)  (None, None, None,   5760        ['block3a_se_excite[0][0]']      \n",
            "                                40)                                                               \n",
            "                                                                                                  \n",
            " block3a_project_bn (BatchNorma  (None, None, None,   160        ['block3a_project_conv[0][0]']   \n",
            " lization)                      40)                                                               \n",
            "                                                                                                  \n",
            " block3b_expand_conv (Conv2D)   (None, None, None,   9600        ['block3a_project_bn[0][0]']     \n",
            "                                240)                                                              \n",
            "                                                                                                  \n",
            " block3b_expand_bn (BatchNormal  (None, None, None,   960        ['block3b_expand_conv[0][0]']    \n",
            " ization)                       240)                                                              \n",
            "                                                                                                  \n",
            " block3b_expand_activation (Act  (None, None, None,   0          ['block3b_expand_bn[0][0]']      \n",
            " ivation)                       240)                                                              \n",
            "                                                                                                  \n",
            " block3b_dwconv (DepthwiseConv2  (None, None, None,   6000       ['block3b_expand_activation[0][0]\n",
            " D)                             240)                             ']                               \n",
            "                                                                                                  \n",
            " block3b_bn (BatchNormalization  (None, None, None,   960        ['block3b_dwconv[0][0]']         \n",
            " )                              240)                                                              \n",
            "                                                                                                  \n",
            " block3b_activation (Activation  (None, None, None,   0          ['block3b_bn[0][0]']             \n",
            " )                              240)                                                              \n",
            "                                                                                                  \n",
            " block3b_se_squeeze (GlobalAver  (None, 240)         0           ['block3b_activation[0][0]']     \n",
            " agePooling2D)                                                                                    \n",
            "                                                                                                  \n",
            " block3b_se_reshape (Reshape)   (None, 1, 1, 240)    0           ['block3b_se_squeeze[0][0]']     \n",
            "                                                                                                  \n",
            " block3b_se_reduce (Conv2D)     (None, 1, 1, 10)     2410        ['block3b_se_reshape[0][0]']     \n",
            "                                                                                                  \n",
            " block3b_se_expand (Conv2D)     (None, 1, 1, 240)    2640        ['block3b_se_reduce[0][0]']      \n",
            "                                                                                                  \n",
            " block3b_se_excite (Multiply)   (None, None, None,   0           ['block3b_activation[0][0]',     \n",
            "                                240)                              'block3b_se_expand[0][0]']      \n",
            "                                                                                                  \n",
            " block3b_project_conv (Conv2D)  (None, None, None,   9600        ['block3b_se_excite[0][0]']      \n",
            "                                40)                                                               \n",
            "                                                                                                  \n",
            " block3b_project_bn (BatchNorma  (None, None, None,   160        ['block3b_project_conv[0][0]']   \n",
            " lization)                      40)                                                               \n",
            "                                                                                                  \n",
            " block3b_drop (Dropout)         (None, None, None,   0           ['block3b_project_bn[0][0]']     \n",
            "                                40)                                                               \n",
            "                                                                                                  \n",
            " block3b_add (Add)              (None, None, None,   0           ['block3b_drop[0][0]',           \n",
            "                                40)                               'block3a_project_bn[0][0]']     \n",
            "                                                                                                  \n",
            " block4a_expand_conv (Conv2D)   (None, None, None,   9600        ['block3b_add[0][0]']            \n",
            "                                240)                                                              \n",
            "                                                                                                  \n",
            " block4a_expand_bn (BatchNormal  (None, None, None,   960        ['block4a_expand_conv[0][0]']    \n",
            " ization)                       240)                                                              \n",
            "                                                                                                  \n",
            " block4a_expand_activation (Act  (None, None, None,   0          ['block4a_expand_bn[0][0]']      \n",
            " ivation)                       240)                                                              \n",
            "                                                                                                  \n",
            " block4a_dwconv_pad (ZeroPaddin  (None, None, None,   0          ['block4a_expand_activation[0][0]\n",
            " g2D)                           240)                             ']                               \n",
            "                                                                                                  \n",
            " block4a_dwconv (DepthwiseConv2  (None, None, None,   2160       ['block4a_dwconv_pad[0][0]']     \n",
            " D)                             240)                                                              \n",
            "                                                                                                  \n",
            " block4a_bn (BatchNormalization  (None, None, None,   960        ['block4a_dwconv[0][0]']         \n",
            " )                              240)                                                              \n",
            "                                                                                                  \n",
            " block4a_activation (Activation  (None, None, None,   0          ['block4a_bn[0][0]']             \n",
            " )                              240)                                                              \n",
            "                                                                                                  \n",
            " block4a_se_squeeze (GlobalAver  (None, 240)         0           ['block4a_activation[0][0]']     \n",
            " agePooling2D)                                                                                    \n",
            "                                                                                                  \n",
            " block4a_se_reshape (Reshape)   (None, 1, 1, 240)    0           ['block4a_se_squeeze[0][0]']     \n",
            "                                                                                                  \n",
            " block4a_se_reduce (Conv2D)     (None, 1, 1, 10)     2410        ['block4a_se_reshape[0][0]']     \n",
            "                                                                                                  \n",
            " block4a_se_expand (Conv2D)     (None, 1, 1, 240)    2640        ['block4a_se_reduce[0][0]']      \n",
            "                                                                                                  \n",
            " block4a_se_excite (Multiply)   (None, None, None,   0           ['block4a_activation[0][0]',     \n",
            "                                240)                              'block4a_se_expand[0][0]']      \n",
            "                                                                                                  \n",
            " block4a_project_conv (Conv2D)  (None, None, None,   19200       ['block4a_se_excite[0][0]']      \n",
            "                                80)                                                               \n",
            "                                                                                                  \n",
            " block4a_project_bn (BatchNorma  (None, None, None,   320        ['block4a_project_conv[0][0]']   \n",
            " lization)                      80)                                                               \n",
            "                                                                                                  \n",
            " block4b_expand_conv (Conv2D)   (None, None, None,   38400       ['block4a_project_bn[0][0]']     \n",
            "                                480)                                                              \n",
            "                                                                                                  \n",
            " block4b_expand_bn (BatchNormal  (None, None, None,   1920       ['block4b_expand_conv[0][0]']    \n",
            " ization)                       480)                                                              \n",
            "                                                                                                  \n",
            " block4b_expand_activation (Act  (None, None, None,   0          ['block4b_expand_bn[0][0]']      \n",
            " ivation)                       480)                                                              \n",
            "                                                                                                  \n",
            " block4b_dwconv (DepthwiseConv2  (None, None, None,   4320       ['block4b_expand_activation[0][0]\n",
            " D)                             480)                             ']                               \n",
            "                                                                                                  \n",
            " block4b_bn (BatchNormalization  (None, None, None,   1920       ['block4b_dwconv[0][0]']         \n",
            " )                              480)                                                              \n",
            "                                                                                                  \n",
            " block4b_activation (Activation  (None, None, None,   0          ['block4b_bn[0][0]']             \n",
            " )                              480)                                                              \n",
            "                                                                                                  \n",
            " block4b_se_squeeze (GlobalAver  (None, 480)         0           ['block4b_activation[0][0]']     \n",
            " agePooling2D)                                                                                    \n",
            "                                                                                                  \n",
            " block4b_se_reshape (Reshape)   (None, 1, 1, 480)    0           ['block4b_se_squeeze[0][0]']     \n",
            "                                                                                                  \n",
            " block4b_se_reduce (Conv2D)     (None, 1, 1, 20)     9620        ['block4b_se_reshape[0][0]']     \n",
            "                                                                                                  \n",
            " block4b_se_expand (Conv2D)     (None, 1, 1, 480)    10080       ['block4b_se_reduce[0][0]']      \n",
            "                                                                                                  \n",
            " block4b_se_excite (Multiply)   (None, None, None,   0           ['block4b_activation[0][0]',     \n",
            "                                480)                              'block4b_se_expand[0][0]']      \n",
            "                                                                                                  \n",
            " block4b_project_conv (Conv2D)  (None, None, None,   38400       ['block4b_se_excite[0][0]']      \n",
            "                                80)                                                               \n",
            "                                                                                                  \n",
            " block4b_project_bn (BatchNorma  (None, None, None,   320        ['block4b_project_conv[0][0]']   \n",
            " lization)                      80)                                                               \n",
            "                                                                                                  \n",
            " block4b_drop (Dropout)         (None, None, None,   0           ['block4b_project_bn[0][0]']     \n",
            "                                80)                                                               \n",
            "                                                                                                  \n",
            " block4b_add (Add)              (None, None, None,   0           ['block4b_drop[0][0]',           \n",
            "                                80)                               'block4a_project_bn[0][0]']     \n",
            "                                                                                                  \n",
            " block4c_expand_conv (Conv2D)   (None, None, None,   38400       ['block4b_add[0][0]']            \n",
            "                                480)                                                              \n",
            "                                                                                                  \n",
            " block4c_expand_bn (BatchNormal  (None, None, None,   1920       ['block4c_expand_conv[0][0]']    \n",
            " ization)                       480)                                                              \n",
            "                                                                                                  \n",
            " block4c_expand_activation (Act  (None, None, None,   0          ['block4c_expand_bn[0][0]']      \n",
            " ivation)                       480)                                                              \n",
            "                                                                                                  \n",
            " block4c_dwconv (DepthwiseConv2  (None, None, None,   4320       ['block4c_expand_activation[0][0]\n",
            " D)                             480)                             ']                               \n",
            "                                                                                                  \n",
            " block4c_bn (BatchNormalization  (None, None, None,   1920       ['block4c_dwconv[0][0]']         \n",
            " )                              480)                                                              \n",
            "                                                                                                  \n",
            " block4c_activation (Activation  (None, None, None,   0          ['block4c_bn[0][0]']             \n",
            " )                              480)                                                              \n",
            "                                                                                                  \n",
            " block4c_se_squeeze (GlobalAver  (None, 480)         0           ['block4c_activation[0][0]']     \n",
            " agePooling2D)                                                                                    \n",
            "                                                                                                  \n",
            " block4c_se_reshape (Reshape)   (None, 1, 1, 480)    0           ['block4c_se_squeeze[0][0]']     \n",
            "                                                                                                  \n",
            " block4c_se_reduce (Conv2D)     (None, 1, 1, 20)     9620        ['block4c_se_reshape[0][0]']     \n",
            "                                                                                                  \n",
            " block4c_se_expand (Conv2D)     (None, 1, 1, 480)    10080       ['block4c_se_reduce[0][0]']      \n",
            "                                                                                                  \n",
            " block4c_se_excite (Multiply)   (None, None, None,   0           ['block4c_activation[0][0]',     \n",
            "                                480)                              'block4c_se_expand[0][0]']      \n",
            "                                                                                                  \n",
            " block4c_project_conv (Conv2D)  (None, None, None,   38400       ['block4c_se_excite[0][0]']      \n",
            "                                80)                                                               \n",
            "                                                                                                  \n",
            " block4c_project_bn (BatchNorma  (None, None, None,   320        ['block4c_project_conv[0][0]']   \n",
            " lization)                      80)                                                               \n",
            "                                                                                                  \n",
            " block4c_drop (Dropout)         (None, None, None,   0           ['block4c_project_bn[0][0]']     \n",
            "                                80)                                                               \n",
            "                                                                                                  \n",
            " block4c_add (Add)              (None, None, None,   0           ['block4c_drop[0][0]',           \n",
            "                                80)                               'block4b_add[0][0]']            \n",
            "                                                                                                  \n",
            " block5a_expand_conv (Conv2D)   (None, None, None,   38400       ['block4c_add[0][0]']            \n",
            "                                480)                                                              \n",
            "                                                                                                  \n",
            " block5a_expand_bn (BatchNormal  (None, None, None,   1920       ['block5a_expand_conv[0][0]']    \n",
            " ization)                       480)                                                              \n",
            "                                                                                                  \n",
            " block5a_expand_activation (Act  (None, None, None,   0          ['block5a_expand_bn[0][0]']      \n",
            " ivation)                       480)                                                              \n",
            "                                                                                                  \n",
            " block5a_dwconv (DepthwiseConv2  (None, None, None,   12000      ['block5a_expand_activation[0][0]\n",
            " D)                             480)                             ']                               \n",
            "                                                                                                  \n",
            " block5a_bn (BatchNormalization  (None, None, None,   1920       ['block5a_dwconv[0][0]']         \n",
            " )                              480)                                                              \n",
            "                                                                                                  \n",
            " block5a_activation (Activation  (None, None, None,   0          ['block5a_bn[0][0]']             \n",
            " )                              480)                                                              \n",
            "                                                                                                  \n",
            " block5a_se_squeeze (GlobalAver  (None, 480)         0           ['block5a_activation[0][0]']     \n",
            " agePooling2D)                                                                                    \n",
            "                                                                                                  \n",
            " block5a_se_reshape (Reshape)   (None, 1, 1, 480)    0           ['block5a_se_squeeze[0][0]']     \n",
            "                                                                                                  \n",
            " block5a_se_reduce (Conv2D)     (None, 1, 1, 20)     9620        ['block5a_se_reshape[0][0]']     \n",
            "                                                                                                  \n",
            " block5a_se_expand (Conv2D)     (None, 1, 1, 480)    10080       ['block5a_se_reduce[0][0]']      \n",
            "                                                                                                  \n",
            " block5a_se_excite (Multiply)   (None, None, None,   0           ['block5a_activation[0][0]',     \n",
            "                                480)                              'block5a_se_expand[0][0]']      \n",
            "                                                                                                  \n",
            " block5a_project_conv (Conv2D)  (None, None, None,   53760       ['block5a_se_excite[0][0]']      \n",
            "                                112)                                                              \n",
            "                                                                                                  \n",
            " block5a_project_bn (BatchNorma  (None, None, None,   448        ['block5a_project_conv[0][0]']   \n",
            " lization)                      112)                                                              \n",
            "                                                                                                  \n",
            " block5b_expand_conv (Conv2D)   (None, None, None,   75264       ['block5a_project_bn[0][0]']     \n",
            "                                672)                                                              \n",
            "                                                                                                  \n",
            " block5b_expand_bn (BatchNormal  (None, None, None,   2688       ['block5b_expand_conv[0][0]']    \n",
            " ization)                       672)                                                              \n",
            "                                                                                                  \n",
            " block5b_expand_activation (Act  (None, None, None,   0          ['block5b_expand_bn[0][0]']      \n",
            " ivation)                       672)                                                              \n",
            "                                                                                                  \n",
            " block5b_dwconv (DepthwiseConv2  (None, None, None,   16800      ['block5b_expand_activation[0][0]\n",
            " D)                             672)                             ']                               \n",
            "                                                                                                  \n",
            " block5b_bn (BatchNormalization  (None, None, None,   2688       ['block5b_dwconv[0][0]']         \n",
            " )                              672)                                                              \n",
            "                                                                                                  \n",
            " block5b_activation (Activation  (None, None, None,   0          ['block5b_bn[0][0]']             \n",
            " )                              672)                                                              \n",
            "                                                                                                  \n",
            " block5b_se_squeeze (GlobalAver  (None, 672)         0           ['block5b_activation[0][0]']     \n",
            " agePooling2D)                                                                                    \n",
            "                                                                                                  \n",
            " block5b_se_reshape (Reshape)   (None, 1, 1, 672)    0           ['block5b_se_squeeze[0][0]']     \n",
            "                                                                                                  \n",
            " block5b_se_reduce (Conv2D)     (None, 1, 1, 28)     18844       ['block5b_se_reshape[0][0]']     \n",
            "                                                                                                  \n",
            " block5b_se_expand (Conv2D)     (None, 1, 1, 672)    19488       ['block5b_se_reduce[0][0]']      \n",
            "                                                                                                  \n",
            " block5b_se_excite (Multiply)   (None, None, None,   0           ['block5b_activation[0][0]',     \n",
            "                                672)                              'block5b_se_expand[0][0]']      \n",
            "                                                                                                  \n",
            " block5b_project_conv (Conv2D)  (None, None, None,   75264       ['block5b_se_excite[0][0]']      \n",
            "                                112)                                                              \n",
            "                                                                                                  \n",
            " block5b_project_bn (BatchNorma  (None, None, None,   448        ['block5b_project_conv[0][0]']   \n",
            " lization)                      112)                                                              \n",
            "                                                                                                  \n",
            " block5b_drop (Dropout)         (None, None, None,   0           ['block5b_project_bn[0][0]']     \n",
            "                                112)                                                              \n",
            "                                                                                                  \n",
            " block5b_add (Add)              (None, None, None,   0           ['block5b_drop[0][0]',           \n",
            "                                112)                              'block5a_project_bn[0][0]']     \n",
            "                                                                                                  \n",
            " block5c_expand_conv (Conv2D)   (None, None, None,   75264       ['block5b_add[0][0]']            \n",
            "                                672)                                                              \n",
            "                                                                                                  \n",
            " block5c_expand_bn (BatchNormal  (None, None, None,   2688       ['block5c_expand_conv[0][0]']    \n",
            " ization)                       672)                                                              \n",
            "                                                                                                  \n",
            " block5c_expand_activation (Act  (None, None, None,   0          ['block5c_expand_bn[0][0]']      \n",
            " ivation)                       672)                                                              \n",
            "                                                                                                  \n",
            " block5c_dwconv (DepthwiseConv2  (None, None, None,   16800      ['block5c_expand_activation[0][0]\n",
            " D)                             672)                             ']                               \n",
            "                                                                                                  \n",
            " block5c_bn (BatchNormalization  (None, None, None,   2688       ['block5c_dwconv[0][0]']         \n",
            " )                              672)                                                              \n",
            "                                                                                                  \n",
            " block5c_activation (Activation  (None, None, None,   0          ['block5c_bn[0][0]']             \n",
            " )                              672)                                                              \n",
            "                                                                                                  \n",
            " block5c_se_squeeze (GlobalAver  (None, 672)         0           ['block5c_activation[0][0]']     \n",
            " agePooling2D)                                                                                    \n",
            "                                                                                                  \n",
            " block5c_se_reshape (Reshape)   (None, 1, 1, 672)    0           ['block5c_se_squeeze[0][0]']     \n",
            "                                                                                                  \n",
            " block5c_se_reduce (Conv2D)     (None, 1, 1, 28)     18844       ['block5c_se_reshape[0][0]']     \n",
            "                                                                                                  \n",
            " block5c_se_expand (Conv2D)     (None, 1, 1, 672)    19488       ['block5c_se_reduce[0][0]']      \n",
            "                                                                                                  \n",
            " block5c_se_excite (Multiply)   (None, None, None,   0           ['block5c_activation[0][0]',     \n",
            "                                672)                              'block5c_se_expand[0][0]']      \n",
            "                                                                                                  \n",
            " block5c_project_conv (Conv2D)  (None, None, None,   75264       ['block5c_se_excite[0][0]']      \n",
            "                                112)                                                              \n",
            "                                                                                                  \n",
            " block5c_project_bn (BatchNorma  (None, None, None,   448        ['block5c_project_conv[0][0]']   \n",
            " lization)                      112)                                                              \n",
            "                                                                                                  \n",
            " block5c_drop (Dropout)         (None, None, None,   0           ['block5c_project_bn[0][0]']     \n",
            "                                112)                                                              \n",
            "                                                                                                  \n",
            " block5c_add (Add)              (None, None, None,   0           ['block5c_drop[0][0]',           \n",
            "                                112)                              'block5b_add[0][0]']            \n",
            "                                                                                                  \n",
            " block6a_expand_conv (Conv2D)   (None, None, None,   75264       ['block5c_add[0][0]']            \n",
            "                                672)                                                              \n",
            "                                                                                                  \n",
            " block6a_expand_bn (BatchNormal  (None, None, None,   2688       ['block6a_expand_conv[0][0]']    \n",
            " ization)                       672)                                                              \n",
            "                                                                                                  \n",
            " block6a_expand_activation (Act  (None, None, None,   0          ['block6a_expand_bn[0][0]']      \n",
            " ivation)                       672)                                                              \n",
            "                                                                                                  \n",
            " block6a_dwconv_pad (ZeroPaddin  (None, None, None,   0          ['block6a_expand_activation[0][0]\n",
            " g2D)                           672)                             ']                               \n",
            "                                                                                                  \n",
            " block6a_dwconv (DepthwiseConv2  (None, None, None,   16800      ['block6a_dwconv_pad[0][0]']     \n",
            " D)                             672)                                                              \n",
            "                                                                                                  \n",
            " block6a_bn (BatchNormalization  (None, None, None,   2688       ['block6a_dwconv[0][0]']         \n",
            " )                              672)                                                              \n",
            "                                                                                                  \n",
            " block6a_activation (Activation  (None, None, None,   0          ['block6a_bn[0][0]']             \n",
            " )                              672)                                                              \n",
            "                                                                                                  \n",
            " block6a_se_squeeze (GlobalAver  (None, 672)         0           ['block6a_activation[0][0]']     \n",
            " agePooling2D)                                                                                    \n",
            "                                                                                                  \n",
            " block6a_se_reshape (Reshape)   (None, 1, 1, 672)    0           ['block6a_se_squeeze[0][0]']     \n",
            "                                                                                                  \n",
            " block6a_se_reduce (Conv2D)     (None, 1, 1, 28)     18844       ['block6a_se_reshape[0][0]']     \n",
            "                                                                                                  \n",
            " block6a_se_expand (Conv2D)     (None, 1, 1, 672)    19488       ['block6a_se_reduce[0][0]']      \n",
            "                                                                                                  \n",
            " block6a_se_excite (Multiply)   (None, None, None,   0           ['block6a_activation[0][0]',     \n",
            "                                672)                              'block6a_se_expand[0][0]']      \n",
            "                                                                                                  \n",
            " block6a_project_conv (Conv2D)  (None, None, None,   129024      ['block6a_se_excite[0][0]']      \n",
            "                                192)                                                              \n",
            "                                                                                                  \n",
            " block6a_project_bn (BatchNorma  (None, None, None,   768        ['block6a_project_conv[0][0]']   \n",
            " lization)                      192)                                                              \n",
            "                                                                                                  \n",
            " block6b_expand_conv (Conv2D)   (None, None, None,   221184      ['block6a_project_bn[0][0]']     \n",
            "                                1152)                                                             \n",
            "                                                                                                  \n",
            " block6b_expand_bn (BatchNormal  (None, None, None,   4608       ['block6b_expand_conv[0][0]']    \n",
            " ization)                       1152)                                                             \n",
            "                                                                                                  \n",
            " block6b_expand_activation (Act  (None, None, None,   0          ['block6b_expand_bn[0][0]']      \n",
            " ivation)                       1152)                                                             \n",
            "                                                                                                  \n",
            " block6b_dwconv (DepthwiseConv2  (None, None, None,   28800      ['block6b_expand_activation[0][0]\n",
            " D)                             1152)                            ']                               \n",
            "                                                                                                  \n",
            " block6b_bn (BatchNormalization  (None, None, None,   4608       ['block6b_dwconv[0][0]']         \n",
            " )                              1152)                                                             \n",
            "                                                                                                  \n",
            " block6b_activation (Activation  (None, None, None,   0          ['block6b_bn[0][0]']             \n",
            " )                              1152)                                                             \n",
            "                                                                                                  \n",
            " block6b_se_squeeze (GlobalAver  (None, 1152)        0           ['block6b_activation[0][0]']     \n",
            " agePooling2D)                                                                                    \n",
            "                                                                                                  \n",
            " block6b_se_reshape (Reshape)   (None, 1, 1, 1152)   0           ['block6b_se_squeeze[0][0]']     \n",
            "                                                                                                  \n",
            " block6b_se_reduce (Conv2D)     (None, 1, 1, 48)     55344       ['block6b_se_reshape[0][0]']     \n",
            "                                                                                                  \n",
            " block6b_se_expand (Conv2D)     (None, 1, 1, 1152)   56448       ['block6b_se_reduce[0][0]']      \n",
            "                                                                                                  \n",
            " block6b_se_excite (Multiply)   (None, None, None,   0           ['block6b_activation[0][0]',     \n",
            "                                1152)                             'block6b_se_expand[0][0]']      \n",
            "                                                                                                  \n",
            " block6b_project_conv (Conv2D)  (None, None, None,   221184      ['block6b_se_excite[0][0]']      \n",
            "                                192)                                                              \n",
            "                                                                                                  \n",
            " block6b_project_bn (BatchNorma  (None, None, None,   768        ['block6b_project_conv[0][0]']   \n",
            " lization)                      192)                                                              \n",
            "                                                                                                  \n",
            " block6b_drop (Dropout)         (None, None, None,   0           ['block6b_project_bn[0][0]']     \n",
            "                                192)                                                              \n",
            "                                                                                                  \n",
            " block6b_add (Add)              (None, None, None,   0           ['block6b_drop[0][0]',           \n",
            "                                192)                              'block6a_project_bn[0][0]']     \n",
            "                                                                                                  \n",
            " block6c_expand_conv (Conv2D)   (None, None, None,   221184      ['block6b_add[0][0]']            \n",
            "                                1152)                                                             \n",
            "                                                                                                  \n",
            " block6c_expand_bn (BatchNormal  (None, None, None,   4608       ['block6c_expand_conv[0][0]']    \n",
            " ization)                       1152)                                                             \n",
            "                                                                                                  \n",
            " block6c_expand_activation (Act  (None, None, None,   0          ['block6c_expand_bn[0][0]']      \n",
            " ivation)                       1152)                                                             \n",
            "                                                                                                  \n",
            " block6c_dwconv (DepthwiseConv2  (None, None, None,   28800      ['block6c_expand_activation[0][0]\n",
            " D)                             1152)                            ']                               \n",
            "                                                                                                  \n",
            " block6c_bn (BatchNormalization  (None, None, None,   4608       ['block6c_dwconv[0][0]']         \n",
            " )                              1152)                                                             \n",
            "                                                                                                  \n",
            " block6c_activation (Activation  (None, None, None,   0          ['block6c_bn[0][0]']             \n",
            " )                              1152)                                                             \n",
            "                                                                                                  \n",
            " block6c_se_squeeze (GlobalAver  (None, 1152)        0           ['block6c_activation[0][0]']     \n",
            " agePooling2D)                                                                                    \n",
            "                                                                                                  \n",
            " block6c_se_reshape (Reshape)   (None, 1, 1, 1152)   0           ['block6c_se_squeeze[0][0]']     \n",
            "                                                                                                  \n",
            " block6c_se_reduce (Conv2D)     (None, 1, 1, 48)     55344       ['block6c_se_reshape[0][0]']     \n",
            "                                                                                                  \n",
            " block6c_se_expand (Conv2D)     (None, 1, 1, 1152)   56448       ['block6c_se_reduce[0][0]']      \n",
            "                                                                                                  \n",
            " block6c_se_excite (Multiply)   (None, None, None,   0           ['block6c_activation[0][0]',     \n",
            "                                1152)                             'block6c_se_expand[0][0]']      \n",
            "                                                                                                  \n",
            " block6c_project_conv (Conv2D)  (None, None, None,   221184      ['block6c_se_excite[0][0]']      \n",
            "                                192)                                                              \n",
            "                                                                                                  \n",
            " block6c_project_bn (BatchNorma  (None, None, None,   768        ['block6c_project_conv[0][0]']   \n",
            " lization)                      192)                                                              \n",
            "                                                                                                  \n",
            " block6c_drop (Dropout)         (None, None, None,   0           ['block6c_project_bn[0][0]']     \n",
            "                                192)                                                              \n",
            "                                                                                                  \n",
            " block6c_add (Add)              (None, None, None,   0           ['block6c_drop[0][0]',           \n",
            "                                192)                              'block6b_add[0][0]']            \n",
            "                                                                                                  \n",
            " block6d_expand_conv (Conv2D)   (None, None, None,   221184      ['block6c_add[0][0]']            \n",
            "                                1152)                                                             \n",
            "                                                                                                  \n",
            " block6d_expand_bn (BatchNormal  (None, None, None,   4608       ['block6d_expand_conv[0][0]']    \n",
            " ization)                       1152)                                                             \n",
            "                                                                                                  \n",
            " block6d_expand_activation (Act  (None, None, None,   0          ['block6d_expand_bn[0][0]']      \n",
            " ivation)                       1152)                                                             \n",
            "                                                                                                  \n",
            " block6d_dwconv (DepthwiseConv2  (None, None, None,   28800      ['block6d_expand_activation[0][0]\n",
            " D)                             1152)                            ']                               \n",
            "                                                                                                  \n",
            " block6d_bn (BatchNormalization  (None, None, None,   4608       ['block6d_dwconv[0][0]']         \n",
            " )                              1152)                                                             \n",
            "                                                                                                  \n",
            " block6d_activation (Activation  (None, None, None,   0          ['block6d_bn[0][0]']             \n",
            " )                              1152)                                                             \n",
            "                                                                                                  \n",
            " block6d_se_squeeze (GlobalAver  (None, 1152)        0           ['block6d_activation[0][0]']     \n",
            " agePooling2D)                                                                                    \n",
            "                                                                                                  \n",
            " block6d_se_reshape (Reshape)   (None, 1, 1, 1152)   0           ['block6d_se_squeeze[0][0]']     \n",
            "                                                                                                  \n",
            " block6d_se_reduce (Conv2D)     (None, 1, 1, 48)     55344       ['block6d_se_reshape[0][0]']     \n",
            "                                                                                                  \n",
            " block6d_se_expand (Conv2D)     (None, 1, 1, 1152)   56448       ['block6d_se_reduce[0][0]']      \n",
            "                                                                                                  \n",
            " block6d_se_excite (Multiply)   (None, None, None,   0           ['block6d_activation[0][0]',     \n",
            "                                1152)                             'block6d_se_expand[0][0]']      \n",
            "                                                                                                  \n",
            " block6d_project_conv (Conv2D)  (None, None, None,   221184      ['block6d_se_excite[0][0]']      \n",
            "                                192)                                                              \n",
            "                                                                                                  \n",
            " block6d_project_bn (BatchNorma  (None, None, None,   768        ['block6d_project_conv[0][0]']   \n",
            " lization)                      192)                                                              \n",
            "                                                                                                  \n",
            " block6d_drop (Dropout)         (None, None, None,   0           ['block6d_project_bn[0][0]']     \n",
            "                                192)                                                              \n",
            "                                                                                                  \n",
            " block6d_add (Add)              (None, None, None,   0           ['block6d_drop[0][0]',           \n",
            "                                192)                              'block6c_add[0][0]']            \n",
            "                                                                                                  \n",
            " block7a_expand_conv (Conv2D)   (None, None, None,   221184      ['block6d_add[0][0]']            \n",
            "                                1152)                                                             \n",
            "                                                                                                  \n",
            " block7a_expand_bn (BatchNormal  (None, None, None,   4608       ['block7a_expand_conv[0][0]']    \n",
            " ization)                       1152)                                                             \n",
            "                                                                                                  \n",
            " block7a_expand_activation (Act  (None, None, None,   0          ['block7a_expand_bn[0][0]']      \n",
            " ivation)                       1152)                                                             \n",
            "                                                                                                  \n",
            " block7a_dwconv (DepthwiseConv2  (None, None, None,   10368      ['block7a_expand_activation[0][0]\n",
            " D)                             1152)                            ']                               \n",
            "                                                                                                  \n",
            " block7a_bn (BatchNormalization  (None, None, None,   4608       ['block7a_dwconv[0][0]']         \n",
            " )                              1152)                                                             \n",
            "                                                                                                  \n",
            " block7a_activation (Activation  (None, None, None,   0          ['block7a_bn[0][0]']             \n",
            " )                              1152)                                                             \n",
            "                                                                                                  \n",
            " block7a_se_squeeze (GlobalAver  (None, 1152)        0           ['block7a_activation[0][0]']     \n",
            " agePooling2D)                                                                                    \n",
            "                                                                                                  \n",
            " block7a_se_reshape (Reshape)   (None, 1, 1, 1152)   0           ['block7a_se_squeeze[0][0]']     \n",
            "                                                                                                  \n",
            " block7a_se_reduce (Conv2D)     (None, 1, 1, 48)     55344       ['block7a_se_reshape[0][0]']     \n",
            "                                                                                                  \n",
            " block7a_se_expand (Conv2D)     (None, 1, 1, 1152)   56448       ['block7a_se_reduce[0][0]']      \n",
            "                                                                                                  \n",
            " block7a_se_excite (Multiply)   (None, None, None,   0           ['block7a_activation[0][0]',     \n",
            "                                1152)                             'block7a_se_expand[0][0]']      \n",
            "                                                                                                  \n",
            " block7a_project_conv (Conv2D)  (None, None, None,   368640      ['block7a_se_excite[0][0]']      \n",
            "                                320)                                                              \n",
            "                                                                                                  \n",
            " block7a_project_bn (BatchNorma  (None, None, None,   1280       ['block7a_project_conv[0][0]']   \n",
            " lization)                      320)                                                              \n",
            "                                                                                                  \n",
            " top_conv (Conv2D)              (None, None, None,   409600      ['block7a_project_bn[0][0]']     \n",
            "                                1280)                                                             \n",
            "                                                                                                  \n",
            " top_bn (BatchNormalization)    (None, None, None,   5120        ['top_conv[0][0]']               \n",
            "                                1280)                                                             \n",
            "                                                                                                  \n",
            " top_activation (Activation)    (None, None, None,   0           ['top_bn[0][0]']                 \n",
            "                                1280)                                                             \n",
            "                                                                                                  \n",
            "==================================================================================================\n",
            "Total params: 4,049,571\n",
            "Trainable params: 0\n",
            "Non-trainable params: 4,049,571\n",
            "__________________________________________________________________________________________________\n"
          ]
        }
      ]
    },
    {
      "cell_type": "code",
      "source": [
        "model_0.summary() # summary of our model"
      ],
      "metadata": {
        "id": "UUf6F7v0qujj",
        "colab": {
          "base_uri": "https://localhost:8080/"
        },
        "outputId": "12282af7-c7ad-4607-9768-4bae331343f5"
      },
      "execution_count": null,
      "outputs": [
        {
          "output_type": "stream",
          "name": "stdout",
          "text": [
            "Model: \"model\"\n",
            "_________________________________________________________________\n",
            " Layer (type)                Output Shape              Param #   \n",
            "=================================================================\n",
            " input_layer (InputLayer)    [(None, 224, 224, 3)]     0         \n",
            "                                                                 \n",
            " efficientnetb0 (Functional)  (None, None, None, 1280)  4049571  \n",
            "                                                                 \n",
            " global_average_pooling_laye  (None, 1280)             0         \n",
            " r (GlobalAveragePooling2D)                                      \n",
            "                                                                 \n",
            " output_layer (Dense)        (None, 10)                12810     \n",
            "                                                                 \n",
            "=================================================================\n",
            "Total params: 4,062,381\n",
            "Trainable params: 12,810\n",
            "Non-trainable params: 4,049,571\n",
            "_________________________________________________________________\n"
          ]
        }
      ]
    },
    {
      "cell_type": "code",
      "source": [
        "plot_loss_curves(history_0) # plot the loss curves with the helper function from helper.py"
      ],
      "metadata": {
        "id": "tGdRbcbPq8RC",
        "colab": {
          "base_uri": "https://localhost:8080/",
          "height": 573
        },
        "outputId": "2c377e7d-d49f-4502-a1c4-415c765ca52e"
      },
      "execution_count": null,
      "outputs": [
        {
          "output_type": "display_data",
          "data": {
            "text/plain": [
              "<Figure size 432x288 with 1 Axes>"
            ],
            "image/png": "[encoded data removed]"
          },
          "metadata": {
            "needs_background": "light"
          }
        },
        {
          "output_type": "display_data",
          "data": {
            "text/plain": [
              "<Figure size 432x288 with 1 Axes>"
            ],
            "image/png": "[encoded data removed]"
          },
          "metadata": {
            "needs_background": "light"
          }
        }
      ]
    },
    {
      "cell_type": "markdown",
      "source": [
        "#### Get a feature vactor from a trained model\n",
        "\n",
        "`base_model` has a tensor of (None, 7, 7, 1280) but once it passes through the GlobalAveragePooling2D, it converts into (None, 1280)\n",
        "\n",
        "Try with a similar tensor (1, 4, 4, 3) to view this in action"
      ],
      "metadata": {
        "id": "x-CEKGl_rWAU"
      }
    },
    {
      "cell_type": "code",
      "source": [
        "input_shape = (1, 4, 4, 3) # define the input shape\n",
        "\n",
        "tf.random.set_seed(42)\n",
        "input_tensor = tf.random.normal(input_shape)\n",
        "print(f\"Random input tensor:\\n {input_tensor}\\n\") # create a random tensor\n",
        "\n",
        "global_average_pooling_tensor = tf.keras.layers.GlobalAveragePooling2D()(input_tensor) # pass the random tensor into the GlobalAveragePooling2D layer\n",
        "print(f\"2D global average pooled random tensor:\\n {global_average_pooling_tensor}\\n\")\n",
        "\n",
        "print(f\"Shape of input tensor: {input_tensor.shape}\") # shape of input vector\n",
        "print(f\"Shape of the Global Average Pooled 2D tensor: {global_average_pooling_tensor.shape}\") # shape of the vector after passing through"
      ],
      "metadata": {
        "id": "Sytor10Hr0eY",
        "colab": {
          "base_uri": "https://localhost:8080/"
        },
        "outputId": "8eebb2fa-59c9-49ec-c22d-65db7284cf5a"
      },
      "execution_count": null,
      "outputs": [
        {
          "output_type": "stream",
          "name": "stdout",
          "text": [
            "Random input tensor:\n",
            " [[[[ 0.3274685  -0.8426258   0.3194337 ]\n",
            "   [-1.4075519  -2.3880599  -1.0392479 ]\n",
            "   [-0.5573232   0.539707    1.6994323 ]\n",
            "   [ 0.28893656 -1.5066116  -0.2645474 ]]\n",
            "\n",
            "  [[-0.59722406 -1.9171132  -0.62044144]\n",
            "   [ 0.8504023  -0.40604794 -3.0258412 ]\n",
            "   [ 0.9058464   0.29855987 -0.22561555]\n",
            "   [-0.7616443  -1.8917141  -0.93847126]]\n",
            "\n",
            "  [[ 0.77852213 -0.47338897  0.97772694]\n",
            "   [ 0.24694404  0.20573747 -0.5256233 ]\n",
            "   [ 0.32410017  0.02545409 -0.10638497]\n",
            "   [-0.6369475   1.1603122   0.2507359 ]]\n",
            "\n",
            "  [[-0.41728503  0.4012578  -1.4145443 ]\n",
            "   [-0.5931857  -1.6617213   0.33567193]\n",
            "   [ 0.10815629  0.23479682 -0.56668764]\n",
            "   [-0.35819843  0.88698614  0.52744764]]]]\n",
            "\n",
            "2D global average pooled random tensor:\n",
            " [[-0.09368646 -0.45840448 -0.2885598 ]]\n",
            "\n",
            "Shape of input tensor: (1, 4, 4, 3)\n",
            "Shape of the Global Average Pooled 2D tensor: (1, 3)\n"
          ]
        }
      ]
    },
    {
      "cell_type": "markdown",
      "source": [
        "#### Replicate the Global Average Pooled 2D layer "
      ],
      "metadata": {
        "id": "HXVcu0XKtZ1I"
      }
    },
    {
      "cell_type": "code",
      "source": [
        "tf.reduce_mean(input_tensor, axis=[1, 2])"
      ],
      "metadata": {
        "id": "79Zrv9y3vtif",
        "colab": {
          "base_uri": "https://localhost:8080/"
        },
        "outputId": "a357de4a-6a4b-4bbb-e53c-ae845eb40765"
      },
      "execution_count": null,
      "outputs": [
        {
          "output_type": "execute_result",
          "data": {
            "text/plain": [
              "<tf.Tensor: shape=(1, 3), dtype=float32, numpy=array([[-0.09368646, -0.45840448, -0.2885598 ]], dtype=float32)>"
            ]
          },
          "metadata": {},
          "execution_count": 19
        }
      ]
    },
    {
      "cell_type": "markdown",
      "source": [
        "#### Try with Global Max Pooled 2D layer"
      ],
      "metadata": {
        "id": "S1C-l3z9vxmf"
      }
    },
    {
      "cell_type": "code",
      "source": [
        "global_max_pooling_tensor = tf.keras.layers.GlobalMaxPooling2D()(input_tensor)\n",
        "print(f\"2D Global Max Pooled random tensor:\\n {global_max_pooling_tensor}\\n\")\n",
        "print(f\"Shape of Global Max Pooled 2D tensor: {global_max_pooling_tensor.shape}\")"
      ],
      "metadata": {
        "id": "ywl4jF9XwVHT",
        "colab": {
          "base_uri": "https://localhost:8080/"
        },
        "outputId": "94e5255f-3b04-4ad9-d765-8b711d69c662"
      },
      "execution_count": null,
      "outputs": [
        {
          "output_type": "stream",
          "name": "stdout",
          "text": [
            "2D Global Max Pooled random tensor:\n",
            " [[0.9058464 1.1603122 1.6994323]]\n",
            "\n",
            "Shape of Global Max Pooled 2D tensor: (1, 3)\n"
          ]
        }
      ]
    },
    {
      "cell_type": "markdown",
      "source": [
        "#### Run a series of transfer learning experiments\n",
        "\n",
        "1. `model_1` => use feature extraction transfer learning with only 1% of the data with data augmentation\n",
        "2. `model_2` => use feature extraction transfer learning with 10% of the data with data augmentation\n",
        "3. `model_3` => use fine-tuning transfer learning with 10% of the data with data augmentation\n",
        "4. `model_4` => use fine-tuning transfer learning with 100% of the data with data augmentation"
      ],
      "metadata": {
        "id": "4pQyIaQTw6WB"
      }
    },
    {
      "cell_type": "markdown",
      "source": [
        "Get and preprocess the data for `model_1`"
      ],
      "metadata": {
        "id": "pMn5Q7KD0VyH"
      }
    },
    {
      "cell_type": "code",
      "source": [
        "!wget https://storage.googleapis.com/ztm_tf_course/food_vision/10_food_classes_1_percent.zip # import data with !wget\n",
        "\n",
        "unzip_data(\"10_food_classes_1_percent.zip\") # unzip the data with unzip_data() helper function"
      ],
      "metadata": {
        "id": "I4Dv_Cj3yaD8",
        "colab": {
          "base_uri": "https://localhost:8080/"
        },
        "outputId": "a2da2c3a-43e9-4f8d-83ce-18b287e9b882"
      },
      "execution_count": null,
      "outputs": [
        {
          "output_type": "stream",
          "name": "stdout",
          "text": [
            "--2022-05-19 03:35:05--  https://storage.googleapis.com/ztm_tf_course/food_vision/10_food_classes_1_percent.zip\n",
            "Resolving storage.googleapis.com (storage.googleapis.com)... 173.194.202.128, 74.125.199.128, 74.125.20.128, ...\n",
            "Connecting to storage.googleapis.com (storage.googleapis.com)|173.194.202.128|:443... connected.\n",
            "HTTP request sent, awaiting response... 200 OK\n",
            "Length: 133612354 (127M) [application/zip]\n",
            "Saving to: ‘10_food_classes_1_percent.zip’\n",
            "\n",
            "10_food_classes_1_p 100%[===================>] 127.42M   277MB/s    in 0.5s    \n",
            "\n",
            "2022-05-19 03:35:06 (277 MB/s) - ‘10_food_classes_1_percent.zip’ saved [133612354/133612354]\n",
            "\n"
          ]
        }
      ]
    },
    {
      "cell_type": "code",
      "source": [
        "train_dir_1_percent = \"10_food_classes_1_percent/train/\"\n",
        "test_dir = \"10_food_classes_1_percent/test/\" # create the training and test directories"
      ],
      "metadata": {
        "id": "GIVAtFUJzpnU"
      },
      "execution_count": null,
      "outputs": []
    },
    {
      "cell_type": "code",
      "source": [
        "walk_through_dir(\"10_food_classes_1_percent\") # walk through the directories with helper function from helper.py"
      ],
      "metadata": {
        "id": "y3uZ5Doe0DvV",
        "colab": {
          "base_uri": "https://localhost:8080/"
        },
        "outputId": "a62d2ff6-b103-4d13-bf15-914a6be276bb"
      },
      "execution_count": null,
      "outputs": [
        {
          "output_type": "stream",
          "name": "stdout",
          "text": [
            "There are 2 directories and 0 images in '10_food_classes_1_percent'.\n",
            "There are 10 directories and 0 images in '10_food_classes_1_percent/test'.\n",
            "There are 0 directories and 250 images in '10_food_classes_1_percent/test/sushi'.\n",
            "There are 0 directories and 250 images in '10_food_classes_1_percent/test/chicken_wings'.\n",
            "There are 0 directories and 250 images in '10_food_classes_1_percent/test/ice_cream'.\n",
            "There are 0 directories and 250 images in '10_food_classes_1_percent/test/grilled_salmon'.\n",
            "There are 0 directories and 250 images in '10_food_classes_1_percent/test/chicken_curry'.\n",
            "There are 0 directories and 250 images in '10_food_classes_1_percent/test/ramen'.\n",
            "There are 0 directories and 250 images in '10_food_classes_1_percent/test/hamburger'.\n",
            "There are 0 directories and 250 images in '10_food_classes_1_percent/test/fried_rice'.\n",
            "There are 0 directories and 250 images in '10_food_classes_1_percent/test/steak'.\n",
            "There are 0 directories and 250 images in '10_food_classes_1_percent/test/pizza'.\n",
            "There are 10 directories and 0 images in '10_food_classes_1_percent/train'.\n",
            "There are 0 directories and 7 images in '10_food_classes_1_percent/train/sushi'.\n",
            "There are 0 directories and 7 images in '10_food_classes_1_percent/train/chicken_wings'.\n",
            "There are 0 directories and 7 images in '10_food_classes_1_percent/train/ice_cream'.\n",
            "There are 0 directories and 7 images in '10_food_classes_1_percent/train/grilled_salmon'.\n",
            "There are 0 directories and 7 images in '10_food_classes_1_percent/train/chicken_curry'.\n",
            "There are 0 directories and 7 images in '10_food_classes_1_percent/train/ramen'.\n",
            "There are 0 directories and 7 images in '10_food_classes_1_percent/train/hamburger'.\n",
            "There are 0 directories and 7 images in '10_food_classes_1_percent/train/fried_rice'.\n",
            "There are 0 directories and 7 images in '10_food_classes_1_percent/train/steak'.\n",
            "There are 0 directories and 7 images in '10_food_classes_1_percent/train/pizza'.\n"
          ]
        }
      ]
    },
    {
      "cell_type": "code",
      "source": [
        "IMG_SIZE = (224, 224)\n",
        "train_data_1_percent = tf.keras.preprocessing.image_dataset_from_directory(train_dir_1_percent,\n",
        "                                                                           label_mode=\"categorical\",\n",
        "                                                                           image_size=IMG_SIZE,\n",
        "                                                                           batch_size=BATCH_SIZE)\n",
        "\n",
        "test_data = tf.keras.preprocessing.image_dataset_from_directory(test_dir,\n",
        "                                                                label_mode=\"categorical\",\n",
        "                                                                image_size=IMG_SIZE,\n",
        "                                                                batch_size=BATCH_SIZE) # set up data loaders"
      ],
      "metadata": {
        "id": "nmGJbYx00PkK",
        "colab": {
          "base_uri": "https://localhost:8080/"
        },
        "outputId": "12fbf2ad-7cc6-413f-c454-8397401261cb"
      },
      "execution_count": null,
      "outputs": [
        {
          "output_type": "stream",
          "name": "stdout",
          "text": [
            "Found 70 files belonging to 10 classes.\n",
            "Found 2500 files belonging to 10 classes.\n"
          ]
        }
      ]
    },
    {
      "cell_type": "markdown",
      "source": [
        "#### Add data augmentation into the model directly\n",
        "\n",
        "`tf.keras.layers.experimental.preprocessing()`"
      ],
      "metadata": {
        "id": "GdekzmXF1BkK"
      }
    },
    {
      "cell_type": "code",
      "source": [
        "print(tf.__version__)"
      ],
      "metadata": {
        "id": "ols0lCkU1Ubb",
        "colab": {
          "base_uri": "https://localhost:8080/"
        },
        "outputId": "7aa608ba-907e-452b-d71c-86bed0e4d523"
      },
      "execution_count": null,
      "outputs": [
        {
          "output_type": "stream",
          "name": "stdout",
          "text": [
            "2.8.0\n"
          ]
        }
      ]
    },
    {
      "cell_type": "code",
      "source": [
        "import tensorflow as tf\n",
        "from tensorflow import keras\n",
        "from tensorflow.keras import layers\n",
        "from tensorflow.keras.layers.experimental import preprocessing\n",
        "\n",
        "data_augmentation = keras.Sequential([\n",
        "                                      preprocessing.RandomFlip(\"horizontal\"),\n",
        "                                      preprocessing.RandomRotation(0.2),\n",
        "                                      preprocessing.RandomZoom(0.2),\n",
        "                                      preprocessing.RandomHeight(0.2),\n",
        "                                      preprocessing.RandomWidth(0.2),\n",
        "                                      # preprocessing.Rescale(1./255) # rescale for resnet50v2\n",
        "], name=\"data_augmentation\")"
      ],
      "metadata": {
        "id": "msCLY-Ay1b3W"
      },
      "execution_count": null,
      "outputs": []
    },
    {
      "cell_type": "markdown",
      "source": [
        "#### Data augmentation is turned on during training and turned off during testing"
      ],
      "metadata": {
        "id": "2Xw1oZGn2ieH"
      }
    },
    {
      "cell_type": "markdown",
      "source": [
        "#### Visualize the data augmentation layer"
      ],
      "metadata": {
        "id": "KkUwrI4-YT8V"
      }
    },
    {
      "cell_type": "markdown",
      "source": [
        "View a random image and compare it with its augmented version"
      ],
      "metadata": {
        "id": "xTMsqpheYgNp"
      }
    },
    {
      "cell_type": "code",
      "source": [
        "import matplotlib.pyplot as plt\n",
        "import matplotlib.image as mpimg\n",
        "import os\n",
        "import random\n",
        "import tensorflow as tf\n",
        "\n",
        "target_class = random.choice(train_data_1_percent.class_names)\n",
        "target_dir = \"10_food_classes_1_percent/train/\" + target_class\n",
        "random_image = random.choice(os.listdir(target_dir))\n",
        "random_image_path = target_dir + \"/\" + random_image\n",
        "\n",
        "img = mpimg.imread(random_image_path) # read in and plot the original random image\n",
        "plt.imshow(img)\n",
        "plt.title(f\"Original random image from class {target_class}\")\n",
        "plt.axis=False\n",
        "\n",
        "augmented_image = data_augmentation(tf.expand_dims(img, axis=0), training=True) # plot the augmented image\n",
        "plt.figure()\n",
        "plt.imshow(tf.squeeze(augmented_image)/255.)\n",
        "plt.title(f\"Augmented random image from class {target_class}\")\n",
        "plt.axis=False"
      ],
      "metadata": {
        "id": "V9_a-j7eYmlG",
        "colab": {
          "base_uri": "https://localhost:8080/",
          "height": 545
        },
        "outputId": "59a3a582-1de3-46e1-9ebc-92dbeff52ba3"
      },
      "execution_count": null,
      "outputs": [
        {
          "output_type": "display_data",
          "data": {
            "text/plain": [
              "<Figure size 432x288 with 1 Axes>"
            ],
            "image/png": "[encoded data removed]"
          },
          "metadata": {
            "needs_background": "light"
          }
        },
        {
          "output_type": "display_data",
          "data": {
            "text/plain": [
              "<Figure size 432x288 with 1 Axes>"
            ],
            "image/png": "[encoded data removed]"
          },
          "metadata": {
            "needs_background": "light"
          }
        }
      ]
    },
    {
      "cell_type": "markdown",
      "source": [
        "#### `model_1`: Feature extraction transfer learning on 1% of the data with data augmentation"
      ],
      "metadata": {
        "id": "ReYG6dhfaG4J"
      }
    },
    {
      "cell_type": "code",
      "source": [
        "# set up input shape and base model, freezing the base model layers\n",
        "input_shape = (224, 224, 3)\n",
        "base_model = tf.keras.applications.EfficientNetB0(include_top=False)\n",
        "base_model.trainable = False\n",
        "\n",
        "# create the input layer\n",
        "inputs = layers.Input(shape=input_shape, name=\"input_layer\")\n",
        "\n",
        "# add in data augmentation Sequential model as a layer\n",
        "x = data_augmentation(inputs)\n",
        "\n",
        "# give base_model the inputs\n",
        "x = base_model(x, training=False)\n",
        "\n",
        "# pool output features of the base_model\n",
        "x = layers.GlobalAveragePooling2D(name=\"global_average_pooling_layer\")(x)\n",
        "\n",
        "# add a Dense layer as the output\n",
        "outputs = layers.Dense(10, activation=\"softmax\", name=\"output_layer\")(x)\n",
        "\n",
        "# create the model using the input and outputs\n",
        "model_1 = keras.Model(inputs, outputs)\n",
        "\n",
        "# compile the model\n",
        "model_1.compile(loss=\"categorical_crossentropy\",\n",
        "                optimizer=tf.keras.optimizers.Adam(),\n",
        "                metrics=[\"accuracy\"])\n",
        "\n",
        "# fit the model\n",
        "history_1 = model_1.fit(train_data_1_percent,\n",
        "                        epochs=5,\n",
        "                        steps_per_epoch=len(train_data_1_percent),\n",
        "                        validation_data=test_data,\n",
        "                        validation_steps=int(0.25 * len(test_data)),\n",
        "                        callbacks=[create_tensorboard_callback(dir_name=\"transfer_learning\",\n",
        "                                                               experiment_name=\"1_percent_data_aug\")])"
      ],
      "metadata": {
        "id": "1VmG3zfybxZP",
        "colab": {
          "base_uri": "https://localhost:8080/"
        },
        "outputId": "9a94ce07-3d45-4c33-dce8-15ddda2f78c7"
      },
      "execution_count": null,
      "outputs": [
        {
          "output_type": "stream",
          "name": "stdout",
          "text": [
            "Saving TensorBoard log files to: transfer_learning/1_percent_data_aug/20220519-033511\n",
            "Epoch 1/5\n",
            "3/3 [==============================] - 11s 2s/step - loss: 2.3912 - accuracy: 0.1286 - val_loss: 2.2415 - val_accuracy: 0.1694\n",
            "Epoch 2/5\n",
            "3/3 [==============================] - 3s 1s/step - loss: 2.1167 - accuracy: 0.2429 - val_loss: 2.1241 - val_accuracy: 0.2171\n",
            "Epoch 3/5\n",
            "3/3 [==============================] - 4s 2s/step - loss: 2.0062 - accuracy: 0.3429 - val_loss: 2.0152 - val_accuracy: 0.2862\n",
            "Epoch 4/5\n",
            "3/3 [==============================] - 7s 3s/step - loss: 1.8314 - accuracy: 0.4571 - val_loss: 1.9185 - val_accuracy: 0.3618\n",
            "Epoch 5/5\n",
            "3/3 [==============================] - 3s 1s/step - loss: 1.6273 - accuracy: 0.6286 - val_loss: 1.8537 - val_accuracy: 0.3914\n"
          ]
        }
      ]
    },
    {
      "cell_type": "code",
      "source": [
        "model_1.summary()"
      ],
      "metadata": {
        "id": "ZrLDFI-oeKaA",
        "colab": {
          "base_uri": "https://localhost:8080/"
        },
        "outputId": "2667e136-785a-46eb-b076-049c7067179c"
      },
      "execution_count": null,
      "outputs": [
        {
          "output_type": "stream",
          "name": "stdout",
          "text": [
            "Model: \"model_1\"\n",
            "_________________________________________________________________\n",
            " Layer (type)                Output Shape              Param #   \n",
            "=================================================================\n",
            " input_layer (InputLayer)    [(None, 224, 224, 3)]     0         \n",
            "                                                                 \n",
            " data_augmentation (Sequenti  (None, None, None, 3)    0         \n",
            " al)                                                             \n",
            "                                                                 \n",
            " efficientnetb0 (Functional)  (None, None, None, 1280)  4049571  \n",
            "                                                                 \n",
            " global_average_pooling_laye  (None, 1280)             0         \n",
            " r (GlobalAveragePooling2D)                                      \n",
            "                                                                 \n",
            " output_layer (Dense)        (None, 10)                12810     \n",
            "                                                                 \n",
            "=================================================================\n",
            "Total params: 4,062,381\n",
            "Trainable params: 12,810\n",
            "Non-trainable params: 4,049,571\n",
            "_________________________________________________________________\n"
          ]
        }
      ]
    },
    {
      "cell_type": "code",
      "source": [
        "results_1_percent_data_aug = model_1.evaluate(test_data)\n",
        "results_1_percent_data_aug"
      ],
      "metadata": {
        "id": "MJ0B367XvwKb",
        "colab": {
          "base_uri": "https://localhost:8080/"
        },
        "outputId": "98ced32f-2480-4d5e-96cf-99abdfe91e88"
      },
      "execution_count": null,
      "outputs": [
        {
          "output_type": "stream",
          "name": "stdout",
          "text": [
            "79/79 [==============================] - 8s 91ms/step - loss: 1.8475 - accuracy: 0.4124\n"
          ]
        },
        {
          "output_type": "execute_result",
          "data": {
            "text/plain": [
              "[1.8474836349487305, 0.4124000072479248]"
            ]
          },
          "metadata": {},
          "execution_count": 30
        }
      ]
    },
    {
      "cell_type": "code",
      "source": [
        "plot_loss_curves(history_1) # use plot_loss_curves function from helper.py"
      ],
      "metadata": {
        "id": "fbz4Hjz9v6sO",
        "colab": {
          "base_uri": "https://localhost:8080/",
          "height": 573
        },
        "outputId": "061a2af9-bd7c-45af-8f43-c557cf7a402a"
      },
      "execution_count": null,
      "outputs": [
        {
          "output_type": "display_data",
          "data": {
            "text/plain": [
              "<Figure size 432x288 with 1 Axes>"
            ],
            "image/png": "[encoded data removed]"
          },
          "metadata": {
            "needs_background": "light"
          }
        },
        {
          "output_type": "display_data",
          "data": {
            "text/plain": [
              "<Figure size 432x288 with 1 Axes>"
            ],
            "image/png": "[encoded data removed]"
          },
          "metadata": {
            "needs_background": "light"
          }
        }
      ]
    },
    {
      "cell_type": "markdown",
      "source": [
        "#### `model_2`: Feature extraction transfer learning on 10% data and data augmentation"
      ],
      "metadata": {
        "id": "wVCXRjw_wfr4"
      }
    },
    {
      "cell_type": "code",
      "source": [
        "!wget https://storage.googleapis.com/ztm_tf_course/food_vision/10_food_classes_10_percent.zip # get the data with !wget\n",
        "\n",
        "train_dir_10_percent = \"10_food_classes_10_percent/train/\"\n",
        "test_dir = \"10_food_classes_10_percent/test/\""
      ],
      "metadata": {
        "colab": {
          "base_uri": "https://localhost:8080/"
        },
        "id": "VV-OOzwlrlsD",
        "outputId": "32fb6867-6d94-4c90-81af-1b223b994220"
      },
      "execution_count": null,
      "outputs": [
        {
          "output_type": "stream",
          "name": "stdout",
          "text": [
            "--2022-05-19 03:35:55--  https://storage.googleapis.com/ztm_tf_course/food_vision/10_food_classes_10_percent.zip\n",
            "Resolving storage.googleapis.com (storage.googleapis.com)... 74.125.195.128, 142.250.99.128, 173.194.202.128, ...\n",
            "Connecting to storage.googleapis.com (storage.googleapis.com)|74.125.195.128|:443... connected.\n",
            "HTTP request sent, awaiting response... 200 OK\n",
            "Length: 168546183 (161M) [application/zip]\n",
            "Saving to: ‘10_food_classes_10_percent.zip.1’\n",
            "\n",
            "10_food_classes_10_ 100%[===================>] 160.74M   239MB/s    in 0.7s    \n",
            "\n",
            "2022-05-19 03:35:55 (239 MB/s) - ‘10_food_classes_10_percent.zip.1’ saved [168546183/168546183]\n",
            "\n"
          ]
        }
      ]
    },
    {
      "cell_type": "code",
      "source": [
        "walk_through_dir(\"10_food_classes_10_percent\") # helper function from helper.py"
      ],
      "metadata": {
        "colab": {
          "base_uri": "https://localhost:8080/"
        },
        "id": "JCMjyBr6szhi",
        "outputId": "4343d649-fe1f-4e3a-e1fb-fe633e095823"
      },
      "execution_count": null,
      "outputs": [
        {
          "output_type": "stream",
          "name": "stdout",
          "text": [
            "There are 2 directories and 0 images in '10_food_classes_10_percent'.\n",
            "There are 10 directories and 0 images in '10_food_classes_10_percent/test'.\n",
            "There are 0 directories and 250 images in '10_food_classes_10_percent/test/sushi'.\n",
            "There are 0 directories and 250 images in '10_food_classes_10_percent/test/chicken_wings'.\n",
            "There are 0 directories and 250 images in '10_food_classes_10_percent/test/ice_cream'.\n",
            "There are 0 directories and 250 images in '10_food_classes_10_percent/test/grilled_salmon'.\n",
            "There are 0 directories and 250 images in '10_food_classes_10_percent/test/chicken_curry'.\n",
            "There are 0 directories and 250 images in '10_food_classes_10_percent/test/ramen'.\n",
            "There are 0 directories and 250 images in '10_food_classes_10_percent/test/hamburger'.\n",
            "There are 0 directories and 250 images in '10_food_classes_10_percent/test/fried_rice'.\n",
            "There are 0 directories and 250 images in '10_food_classes_10_percent/test/steak'.\n",
            "There are 0 directories and 250 images in '10_food_classes_10_percent/test/pizza'.\n",
            "There are 10 directories and 0 images in '10_food_classes_10_percent/train'.\n",
            "There are 0 directories and 75 images in '10_food_classes_10_percent/train/sushi'.\n",
            "There are 0 directories and 75 images in '10_food_classes_10_percent/train/chicken_wings'.\n",
            "There are 0 directories and 75 images in '10_food_classes_10_percent/train/ice_cream'.\n",
            "There are 0 directories and 75 images in '10_food_classes_10_percent/train/grilled_salmon'.\n",
            "There are 0 directories and 75 images in '10_food_classes_10_percent/train/chicken_curry'.\n",
            "There are 0 directories and 75 images in '10_food_classes_10_percent/train/ramen'.\n",
            "There are 0 directories and 75 images in '10_food_classes_10_percent/train/hamburger'.\n",
            "There are 0 directories and 75 images in '10_food_classes_10_percent/train/fried_rice'.\n",
            "There are 0 directories and 75 images in '10_food_classes_10_percent/train/steak'.\n",
            "There are 0 directories and 75 images in '10_food_classes_10_percent/train/pizza'.\n"
          ]
        }
      ]
    },
    {
      "cell_type": "code",
      "source": [
        "import tensorflow as tf\n",
        "\n",
        "IMG_SIZE = (224, 224)\n",
        "train_data_10_percent = tf.keras.preprocessing.image_dataset_from_directory(train_dir_10_percent,\n",
        "                                                                            label_mode=\"categorical\",\n",
        "                                                                            image_size=IMG_SIZE,\n",
        "                                                                            batch_size=BATCH_SIZE) # set data inputs\n",
        "\n",
        "test_data = tf.keras.preprocessing.image_dataset_from_directory(test_dir,\n",
        "                                                                label_mode=\"categorical\",\n",
        "                                                                image_size=IMG_SIZE,\n",
        "                                                                batch_size=BATCH_SIZE)\n",
        "                                                               "
      ],
      "metadata": {
        "colab": {
          "base_uri": "https://localhost:8080/"
        },
        "id": "f64QZ8_Sr3Dh",
        "outputId": "cb41c80a-e30c-4e96-ea2d-aecab6730d82"
      },
      "execution_count": null,
      "outputs": [
        {
          "output_type": "stream",
          "name": "stdout",
          "text": [
            "Found 750 files belonging to 10 classes.\n",
            "Found 2500 files belonging to 10 classes.\n"
          ]
        }
      ]
    },
    {
      "cell_type": "code",
      "source": [
        "data_augmentation.summary()"
      ],
      "metadata": {
        "colab": {
          "base_uri": "https://localhost:8080/"
        },
        "id": "5oS3kY6GslEi",
        "outputId": "2c182345-5bda-4866-90a1-35de1d9e3e18"
      },
      "execution_count": null,
      "outputs": [
        {
          "output_type": "stream",
          "name": "stdout",
          "text": [
            "Model: \"data_augmentation\"\n",
            "_________________________________________________________________\n",
            " Layer (type)                Output Shape              Param #   \n",
            "=================================================================\n",
            " random_flip (RandomFlip)    (None, None, None, 3)     0         \n",
            "                                                                 \n",
            " random_rotation (RandomRota  (None, None, None, 3)    0         \n",
            " tion)                                                           \n",
            "                                                                 \n",
            " random_zoom (RandomZoom)    (None, None, None, 3)     0         \n",
            "                                                                 \n",
            " random_height (RandomHeight  (None, None, None, 3)    0         \n",
            " )                                                               \n",
            "                                                                 \n",
            " random_width (RandomWidth)  (None, None, None, 3)     0         \n",
            "                                                                 \n",
            "=================================================================\n",
            "Total params: 0\n",
            "Trainable params: 0\n",
            "Non-trainable params: 0\n",
            "_________________________________________________________________\n"
          ]
        }
      ]
    },
    {
      "cell_type": "markdown",
      "source": [
        "#### Create `model_2` with data augmentation"
      ],
      "metadata": {
        "id": "AS0JaLwLtC5o"
      }
    },
    {
      "cell_type": "code",
      "source": [
        "from tensorflow.keras import layers\n",
        "from tensorflow.keras.layers.experimental import preprocessing \n",
        "from tensorflow.keras.models import Sequential # import dependencies\n",
        "\n",
        "# build the data augmentation layer\n",
        "data_augmentation = Sequential([\n",
        "                                preprocessing.RandomFlip(\"horizontal\"),\n",
        "                                preprocessing.RandomHeight(0.2),\n",
        "                                preprocessing.RandomWidth(0.2),\n",
        "                                preprocessing.RandomZoom(0.2),\n",
        "                                preprocessing.RandomRotation(0.2)\n",
        "                                # preprocessing.Rescaling(1./255)\n",
        "], name=\"data_augmentation\")\n",
        "\n",
        "# set up the input shape \n",
        "input_shape = (224, 224, 3)\n",
        "\n",
        "# create a frozen base model\n",
        "base_model = tf.keras.applications.EfficientNetB0(include_top=False)\n",
        "base_model.trainable = False\n",
        "\n",
        "# create the inputs and outputs\n",
        "inputs = layers.Input(shape=input_shape, name=\"input_layer\")\n",
        "x = data_augmentation(inputs) # augment our training images\n",
        "x = base_model(x, training=False) # pass augmented images in inference mode and batchnorm do not get updated\n",
        "x = layers.GlobalAveragePooling2D(name=\"global_average_pooling_2D\")(x)\n",
        "outputs = layers.Dense(10, activation=\"softmax\", name=\"output_layer\")(x)\n",
        "model_2 = tf.keras.Model(inputs, outputs)\n",
        "\n",
        "# compile the model\n",
        "model_2.compile(loss=\"categorical_crossentropy\",\n",
        "                optimizer=tf.keras.optimizers.Adam(),\n",
        "                metrics=[\"accuracy\"])"
      ],
      "metadata": {
        "id": "GVjuKs4otLHj"
      },
      "execution_count": null,
      "outputs": []
    },
    {
      "cell_type": "code",
      "source": [
        "model_2.summary()"
      ],
      "metadata": {
        "colab": {
          "base_uri": "https://localhost:8080/"
        },
        "id": "d3Ra0a8puc12",
        "outputId": "5ad4afc3-49a7-4ce6-f3ba-91eef5690dff"
      },
      "execution_count": null,
      "outputs": [
        {
          "output_type": "stream",
          "name": "stdout",
          "text": [
            "Model: \"model_2\"\n",
            "_________________________________________________________________\n",
            " Layer (type)                Output Shape              Param #   \n",
            "=================================================================\n",
            " input_layer (InputLayer)    [(None, 224, 224, 3)]     0         \n",
            "                                                                 \n",
            " data_augmentation (Sequenti  (None, 224, 224, 3)      0         \n",
            " al)                                                             \n",
            "                                                                 \n",
            " efficientnetb0 (Functional)  (None, None, None, 1280)  4049571  \n",
            "                                                                 \n",
            " global_average_pooling_2D (  (None, 1280)             0         \n",
            " GlobalAveragePooling2D)                                         \n",
            "                                                                 \n",
            " output_layer (Dense)        (None, 10)                12810     \n",
            "                                                                 \n",
            "=================================================================\n",
            "Total params: 4,062,381\n",
            "Trainable params: 12,810\n",
            "Non-trainable params: 4,049,571\n",
            "_________________________________________________________________\n"
          ]
        }
      ]
    },
    {
      "cell_type": "code",
      "source": [
        "model_0.summary()"
      ],
      "metadata": {
        "colab": {
          "base_uri": "https://localhost:8080/"
        },
        "id": "Rc9qEOkQwyui",
        "outputId": "e4aa689b-1755-45ab-cab7-0240d919f780"
      },
      "execution_count": null,
      "outputs": [
        {
          "output_type": "stream",
          "name": "stdout",
          "text": [
            "Model: \"model\"\n",
            "_________________________________________________________________\n",
            " Layer (type)                Output Shape              Param #   \n",
            "=================================================================\n",
            " input_layer (InputLayer)    [(None, 224, 224, 3)]     0         \n",
            "                                                                 \n",
            " efficientnetb0 (Functional)  (None, None, None, 1280)  4049571  \n",
            "                                                                 \n",
            " global_average_pooling_laye  (None, 1280)             0         \n",
            " r (GlobalAveragePooling2D)                                      \n",
            "                                                                 \n",
            " output_layer (Dense)        (None, 10)                12810     \n",
            "                                                                 \n",
            "=================================================================\n",
            "Total params: 4,062,381\n",
            "Trainable params: 12,810\n",
            "Non-trainable params: 4,049,571\n",
            "_________________________________________________________________\n"
          ]
        }
      ]
    },
    {
      "cell_type": "markdown",
      "source": [
        "#### Create a ModelCheckpoint callback\n",
        "\n",
        "* Saves our model during training."
      ],
      "metadata": {
        "id": "46AHtfSgxEWX"
      }
    },
    {
      "cell_type": "code",
      "source": [
        "# set checkpoint path\n",
        "checkpoint_path = \"ten_percent_model_checkpoints_weights/checkpoint.ckpt\"\n",
        "\n",
        "# create a model checkpoint callback that saves the weights only\n",
        "checkpoint_callback = tf.keras.callbacks.ModelCheckpoint(filepath=checkpoint_path,\n",
        "                                                         save_weights_only=True,\n",
        "                                                         save_best_only=False,\n",
        "                                                         save_freq=\"epoch\", # save the epoch\n",
        "                                                         verbose=1)"
      ],
      "metadata": {
        "id": "Q2aUJ6OOxLyr"
      },
      "execution_count": null,
      "outputs": []
    },
    {
      "cell_type": "markdown",
      "source": [
        "#### Fit `model_2` and pass in the ModelCheckpoint callback function"
      ],
      "metadata": {
        "id": "Z8ZLy_qRy7iF"
      }
    },
    {
      "cell_type": "code",
      "source": [
        "initial_epochs = 5 # fit the model saving checkpoint every epoch\n",
        "history_2 = model_2.fit(train_data_10_percent,\n",
        "                        epochs=initial_epochs,\n",
        "                        steps_per_epoch=len(train_data_10_percent),\n",
        "                        validation_data=test_data,\n",
        "                        validation_steps=int(0.25 * len(test_data)),\n",
        "                        callbacks=[create_tensorboard_callback(dir_name=\"transfer_learning\",\n",
        "                                                               experiment_name=\"10_percent_data_aug\"),\n",
        "                                   checkpoint_callback])"
      ],
      "metadata": {
        "colab": {
          "base_uri": "https://localhost:8080/"
        },
        "id": "lQ-VPpHtzLAQ",
        "outputId": "a49a036b-4b4a-4607-d047-41722d8109e3"
      },
      "execution_count": null,
      "outputs": [
        {
          "output_type": "stream",
          "name": "stdout",
          "text": [
            "Saving TensorBoard log files to: transfer_learning/10_percent_data_aug/20220519-033559\n",
            "Epoch 1/5\n",
            "24/24 [==============================] - ETA: 0s - loss: 2.0278 - accuracy: 0.3240\n",
            "Epoch 1: saving model to ten_percent_model_checkpoints_weights/checkpoint.ckpt\n",
            "24/24 [==============================] - 21s 555ms/step - loss: 2.0278 - accuracy: 0.3240 - val_loss: 1.5083 - val_accuracy: 0.6447\n",
            "Epoch 2/5\n",
            "24/24 [==============================] - ETA: 0s - loss: 1.3804 - accuracy: 0.6720\n",
            "Epoch 2: saving model to ten_percent_model_checkpoints_weights/checkpoint.ckpt\n",
            "24/24 [==============================] - 11s 419ms/step - loss: 1.3804 - accuracy: 0.6720 - val_loss: 1.0662 - val_accuracy: 0.7533\n",
            "Epoch 3/5\n",
            "24/24 [==============================] - ETA: 0s - loss: 1.0732 - accuracy: 0.7307\n",
            "Epoch 3: saving model to ten_percent_model_checkpoints_weights/checkpoint.ckpt\n",
            "24/24 [==============================] - 11s 442ms/step - loss: 1.0732 - accuracy: 0.7307 - val_loss: 0.8667 - val_accuracy: 0.7829\n",
            "Epoch 4/5\n",
            "24/24 [==============================] - ETA: 0s - loss: 0.9047 - accuracy: 0.7760\n",
            "Epoch 4: saving model to ten_percent_model_checkpoints_weights/checkpoint.ckpt\n",
            "24/24 [==============================] - 10s 387ms/step - loss: 0.9047 - accuracy: 0.7760 - val_loss: 0.7304 - val_accuracy: 0.8059\n",
            "Epoch 5/5\n",
            "24/24 [==============================] - ETA: 0s - loss: 0.8144 - accuracy: 0.8000\n",
            "Epoch 5: saving model to ten_percent_model_checkpoints_weights/checkpoint.ckpt\n",
            "24/24 [==============================] - 13s 541ms/step - loss: 0.8144 - accuracy: 0.8000 - val_loss: 0.7110 - val_accuracy: 0.7928\n"
          ]
        }
      ]
    },
    {
      "cell_type": "code",
      "source": [
        "model_0.evaluate(test_data)"
      ],
      "metadata": {
        "colab": {
          "base_uri": "https://localhost:8080/"
        },
        "id": "S_UYIQzsz90f",
        "outputId": "03d7fca5-8cb0-46d7-c14b-264178f74b5e"
      },
      "execution_count": null,
      "outputs": [
        {
          "output_type": "stream",
          "name": "stdout",
          "text": [
            "79/79 [==============================] - 9s 86ms/step - loss: 0.6159 - accuracy: 0.8328\n"
          ]
        },
        {
          "output_type": "execute_result",
          "data": {
            "text/plain": [
              "[0.615874707698822, 0.8327999711036682]"
            ]
          },
          "metadata": {},
          "execution_count": 41
        }
      ]
    },
    {
      "cell_type": "code",
      "source": [
        "results_10_percent_data_aug = model_2.evaluate(test_data)\n",
        "results_10_percent_data_aug"
      ],
      "metadata": {
        "colab": {
          "base_uri": "https://localhost:8080/"
        },
        "id": "exUG5kTX0Ozw",
        "outputId": "794a0912-917f-4d21-e661-f4cae2edd7b4"
      },
      "execution_count": null,
      "outputs": [
        {
          "output_type": "stream",
          "name": "stdout",
          "text": [
            "79/79 [==============================] - 7s 83ms/step - loss: 0.7009 - accuracy: 0.8064\n"
          ]
        },
        {
          "output_type": "execute_result",
          "data": {
            "text/plain": [
              "[0.7008739113807678, 0.8064000010490417]"
            ]
          },
          "metadata": {},
          "execution_count": 42
        }
      ]
    },
    {
      "cell_type": "code",
      "source": [
        "# plot model's loss curves\n",
        "plot_loss_curves(history_2)"
      ],
      "metadata": {
        "colab": {
          "base_uri": "https://localhost:8080/"
        },
        "id": "WYmow9Xd0Rzd",
        "outputId": "ee08ae5f-a75b-4449-a4fb-d7e96589c8cf"
      },
      "execution_count": null,
      "outputs": [
        {
          "output_type": "display_data",
          "data": {
            "text/plain": [
              "<Figure size 432x288 with 1 Axes>"
            ],
            "image/png": "[encoded data removed]"
          },
          "metadata": {
            "needs_background": "light"
          }
        },
        {
          "output_type": "display_data",
          "data": {
            "text/plain": [
              "<Figure size 432x288 with 1 Axes>"
            ],
            "image/png": "[encoded data removed]"
          },
          "metadata": {
            "needs_background": "light"
          }
        }
      ]
    },
    {
      "cell_type": "markdown",
      "source": [
        "#### Load in checkpointed weights which returns a model to a specific checkpoint"
      ],
      "metadata": {
        "id": "ynCXE5ZQ0mwV"
      }
    },
    {
      "cell_type": "code",
      "source": [
        "# load in saved model weights and evaluate the model\n",
        "model_2.load_weights(checkpoint_path)"
      ],
      "metadata": {
        "colab": {
          "base_uri": "https://localhost:8080/"
        },
        "id": "pInxVGDk1D4k",
        "outputId": "72ca02ed-b448-4745-8fc9-cb447abfc719"
      },
      "execution_count": null,
      "outputs": [
        {
          "output_type": "execute_result",
          "data": {
            "text/plain": [
              "<tensorflow.python.training.tracking.util.CheckpointLoadStatus at 0x7f8e141c3590>"
            ]
          },
          "metadata": {},
          "execution_count": 44
        }
      ]
    },
    {
      "cell_type": "code",
      "source": [
        "loaded_weights_model_results = model_2.evaluate(test_data) # evaluate model_2 with loaded weights"
      ],
      "metadata": {
        "colab": {
          "base_uri": "https://localhost:8080/"
        },
        "id": "5Bmao0fk1SU9",
        "outputId": "42b96e20-ecc4-452f-dd71-70af3068d05a"
      },
      "execution_count": null,
      "outputs": [
        {
          "output_type": "stream",
          "name": "stdout",
          "text": [
            "79/79 [==============================] - 7s 77ms/step - loss: 0.7009 - accuracy: 0.8064\n"
          ]
        }
      ]
    },
    {
      "cell_type": "code",
      "source": [
        "results_10_percent_data_aug == loaded_weights_model_results"
      ],
      "metadata": {
        "colab": {
          "base_uri": "https://localhost:8080/"
        },
        "id": "ULLNOGgV1gG7",
        "outputId": "d7aeb282-c446-44fc-ceb0-9ef2c711d413"
      },
      "execution_count": null,
      "outputs": [
        {
          "output_type": "execute_result",
          "data": {
            "text/plain": [
              "False"
            ]
          },
          "metadata": {},
          "execution_count": 46
        }
      ]
    },
    {
      "cell_type": "code",
      "source": [
        "results_10_percent_data_aug"
      ],
      "metadata": {
        "colab": {
          "base_uri": "https://localhost:8080/"
        },
        "id": "JTzBXBin1r-k",
        "outputId": "b954d91a-bd52-454c-91bf-c476a41bf972"
      },
      "execution_count": null,
      "outputs": [
        {
          "output_type": "execute_result",
          "data": {
            "text/plain": [
              "[0.7008739113807678, 0.8064000010490417]"
            ]
          },
          "metadata": {},
          "execution_count": 47
        }
      ]
    },
    {
      "cell_type": "code",
      "source": [
        "loaded_weights_model_results"
      ],
      "metadata": {
        "colab": {
          "base_uri": "https://localhost:8080/"
        },
        "id": "q3DfKIYR1v1E",
        "outputId": "9b6f6231-cdf2-44fd-cf52-e02ca0195781"
      },
      "execution_count": null,
      "outputs": [
        {
          "output_type": "execute_result",
          "data": {
            "text/plain": [
              "[0.7008740305900574, 0.8064000010490417]"
            ]
          },
          "metadata": {},
          "execution_count": 48
        }
      ]
    },
    {
      "cell_type": "markdown",
      "source": [
        "#### Check to see if model results are very close"
      ],
      "metadata": {
        "id": "IEMLqrC11x48"
      }
    },
    {
      "cell_type": "code",
      "source": [
        "import numpy as np\n",
        "np.isclose(np.array(results_10_percent_data_aug), np.array(loaded_weights_model_results))"
      ],
      "metadata": {
        "colab": {
          "base_uri": "https://localhost:8080/"
        },
        "id": "NylXFeXE131q",
        "outputId": "cd95ea69-14eb-44d5-cdb3-de6b47ede861"
      },
      "execution_count": null,
      "outputs": [
        {
          "output_type": "execute_result",
          "data": {
            "text/plain": [
              "array([ True,  True])"
            ]
          },
          "metadata": {},
          "execution_count": 49
        }
      ]
    },
    {
      "cell_type": "code",
      "source": [
        "# check the difference between the 2 results\n",
        "print(np.array(results_10_percent_data_aug) - np.array(loaded_weights_model_results))"
      ],
      "metadata": {
        "colab": {
          "base_uri": "https://localhost:8080/"
        },
        "id": "PdCCuhcm2HVo",
        "outputId": "9858e3a2-b4ff-4c9f-ae7c-982101d5ab8d"
      },
      "execution_count": null,
      "outputs": [
        {
          "output_type": "stream",
          "name": "stdout",
          "text": [
            "[-1.1920929e-07  0.0000000e+00]\n"
          ]
        }
      ]
    },
    {
      "cell_type": "markdown",
      "source": [
        "#### `model_3`: Fine-tuning an existing model on 10% of the data\n",
        "\n",
        "* Fine-tuning usually works best after training a feature extraction model for a few epochs with large amounts of custom data"
      ],
      "metadata": {
        "id": "YnnzC9JX2R8a"
      }
    },
    {
      "cell_type": "code",
      "source": [
        "# layers in the loaded model\n",
        "model_2.layers"
      ],
      "metadata": {
        "colab": {
          "base_uri": "https://localhost:8080/"
        },
        "id": "-26aNuXc23jw",
        "outputId": "8fcc73db-a48c-47fc-d8b9-0bfad6c0302b"
      },
      "execution_count": null,
      "outputs": [
        {
          "output_type": "execute_result",
          "data": {
            "text/plain": [
              "[<keras.engine.input_layer.InputLayer at 0x7f8ec49e0910>,\n",
              " <keras.engine.sequential.Sequential at 0x7f8ec730d1d0>,\n",
              " <keras.engine.functional.Functional at 0x7f8ec6e07dd0>,\n",
              " <keras.layers.pooling.GlobalAveragePooling2D at 0x7f8ec730db10>,\n",
              " <keras.layers.core.dense.Dense at 0x7f8ec6de1f10>]"
            ]
          },
          "metadata": {},
          "execution_count": 51
        }
      ]
    },
    {
      "cell_type": "code",
      "source": [
        "for layer in model_2.layers:\n",
        "  print(layer, layer.trainable) # check if the layers are trainable"
      ],
      "metadata": {
        "colab": {
          "base_uri": "https://localhost:8080/"
        },
        "id": "vsq3ruDz3_bx",
        "outputId": "c56e29f7-3ebe-49ee-997a-d77d4c5052c5"
      },
      "execution_count": null,
      "outputs": [
        {
          "output_type": "stream",
          "name": "stdout",
          "text": [
            "<keras.engine.input_layer.InputLayer object at 0x7f8ec49e0910> True\n",
            "<keras.engine.sequential.Sequential object at 0x7f8ec730d1d0> True\n",
            "<keras.engine.functional.Functional object at 0x7f8ec6e07dd0> False\n",
            "<keras.layers.pooling.GlobalAveragePooling2D object at 0x7f8ec730db10> True\n",
            "<keras.layers.core.dense.Dense object at 0x7f8ec6de1f10> True\n"
          ]
        }
      ]
    },
    {
      "cell_type": "code",
      "source": [
        "for i, layer in enumerate(model_2.layers[2].layers):\n",
        "  print(i, layer.name, layer.trainable) # check the layers with EfficientNetB0 layer"
      ],
      "metadata": {
        "colab": {
          "base_uri": "https://localhost:8080/"
        },
        "id": "gvhj1XaU4G-8",
        "outputId": "c4e05d39-f286-48cd-c8f3-89666e59908f"
      },
      "execution_count": null,
      "outputs": [
        {
          "output_type": "stream",
          "name": "stdout",
          "text": [
            "0 input_3 False\n",
            "1 rescaling_2 False\n",
            "2 normalization_2 False\n",
            "3 stem_conv_pad False\n",
            "4 stem_conv False\n",
            "5 stem_bn False\n",
            "6 stem_activation False\n",
            "7 block1a_dwconv False\n",
            "8 block1a_bn False\n",
            "9 block1a_activation False\n",
            "10 block1a_se_squeeze False\n",
            "11 block1a_se_reshape False\n",
            "12 block1a_se_reduce False\n",
            "13 block1a_se_expand False\n",
            "14 block1a_se_excite False\n",
            "15 block1a_project_conv False\n",
            "16 block1a_project_bn False\n",
            "17 block2a_expand_conv False\n",
            "18 block2a_expand_bn False\n",
            "19 block2a_expand_activation False\n",
            "20 block2a_dwconv_pad False\n",
            "21 block2a_dwconv False\n",
            "22 block2a_bn False\n",
            "23 block2a_activation False\n",
            "24 block2a_se_squeeze False\n",
            "25 block2a_se_reshape False\n",
            "26 block2a_se_reduce False\n",
            "27 block2a_se_expand False\n",
            "28 block2a_se_excite False\n",
            "29 block2a_project_conv False\n",
            "30 block2a_project_bn False\n",
            "31 block2b_expand_conv False\n",
            "32 block2b_expand_bn False\n",
            "33 block2b_expand_activation False\n",
            "34 block2b_dwconv False\n",
            "35 block2b_bn False\n",
            "36 block2b_activation False\n",
            "37 block2b_se_squeeze False\n",
            "38 block2b_se_reshape False\n",
            "39 block2b_se_reduce False\n",
            "40 block2b_se_expand False\n",
            "41 block2b_se_excite False\n",
            "42 block2b_project_conv False\n",
            "43 block2b_project_bn False\n",
            "44 block2b_drop False\n",
            "45 block2b_add False\n",
            "46 block3a_expand_conv False\n",
            "47 block3a_expand_bn False\n",
            "48 block3a_expand_activation False\n",
            "49 block3a_dwconv_pad False\n",
            "50 block3a_dwconv False\n",
            "51 block3a_bn False\n",
            "52 block3a_activation False\n",
            "53 block3a_se_squeeze False\n",
            "54 block3a_se_reshape False\n",
            "55 block3a_se_reduce False\n",
            "56 block3a_se_expand False\n",
            "57 block3a_se_excite False\n",
            "58 block3a_project_conv False\n",
            "59 block3a_project_bn False\n",
            "60 block3b_expand_conv False\n",
            "61 block3b_expand_bn False\n",
            "62 block3b_expand_activation False\n",
            "63 block3b_dwconv False\n",
            "64 block3b_bn False\n",
            "65 block3b_activation False\n",
            "66 block3b_se_squeeze False\n",
            "67 block3b_se_reshape False\n",
            "68 block3b_se_reduce False\n",
            "69 block3b_se_expand False\n",
            "70 block3b_se_excite False\n",
            "71 block3b_project_conv False\n",
            "72 block3b_project_bn False\n",
            "73 block3b_drop False\n",
            "74 block3b_add False\n",
            "75 block4a_expand_conv False\n",
            "76 block4a_expand_bn False\n",
            "77 block4a_expand_activation False\n",
            "78 block4a_dwconv_pad False\n",
            "79 block4a_dwconv False\n",
            "80 block4a_bn False\n",
            "81 block4a_activation False\n",
            "82 block4a_se_squeeze False\n",
            "83 block4a_se_reshape False\n",
            "84 block4a_se_reduce False\n",
            "85 block4a_se_expand False\n",
            "86 block4a_se_excite False\n",
            "87 block4a_project_conv False\n",
            "88 block4a_project_bn False\n",
            "89 block4b_expand_conv False\n",
            "90 block4b_expand_bn False\n",
            "91 block4b_expand_activation False\n",
            "92 block4b_dwconv False\n",
            "93 block4b_bn False\n",
            "94 block4b_activation False\n",
            "95 block4b_se_squeeze False\n",
            "96 block4b_se_reshape False\n",
            "97 block4b_se_reduce False\n",
            "98 block4b_se_expand False\n",
            "99 block4b_se_excite False\n",
            "100 block4b_project_conv False\n",
            "101 block4b_project_bn False\n",
            "102 block4b_drop False\n",
            "103 block4b_add False\n",
            "104 block4c_expand_conv False\n",
            "105 block4c_expand_bn False\n",
            "106 block4c_expand_activation False\n",
            "107 block4c_dwconv False\n",
            "108 block4c_bn False\n",
            "109 block4c_activation False\n",
            "110 block4c_se_squeeze False\n",
            "111 block4c_se_reshape False\n",
            "112 block4c_se_reduce False\n",
            "113 block4c_se_expand False\n",
            "114 block4c_se_excite False\n",
            "115 block4c_project_conv False\n",
            "116 block4c_project_bn False\n",
            "117 block4c_drop False\n",
            "118 block4c_add False\n",
            "119 block5a_expand_conv False\n",
            "120 block5a_expand_bn False\n",
            "121 block5a_expand_activation False\n",
            "122 block5a_dwconv False\n",
            "123 block5a_bn False\n",
            "124 block5a_activation False\n",
            "125 block5a_se_squeeze False\n",
            "126 block5a_se_reshape False\n",
            "127 block5a_se_reduce False\n",
            "128 block5a_se_expand False\n",
            "129 block5a_se_excite False\n",
            "130 block5a_project_conv False\n",
            "131 block5a_project_bn False\n",
            "132 block5b_expand_conv False\n",
            "133 block5b_expand_bn False\n",
            "134 block5b_expand_activation False\n",
            "135 block5b_dwconv False\n",
            "136 block5b_bn False\n",
            "137 block5b_activation False\n",
            "138 block5b_se_squeeze False\n",
            "139 block5b_se_reshape False\n",
            "140 block5b_se_reduce False\n",
            "141 block5b_se_expand False\n",
            "142 block5b_se_excite False\n",
            "143 block5b_project_conv False\n",
            "144 block5b_project_bn False\n",
            "145 block5b_drop False\n",
            "146 block5b_add False\n",
            "147 block5c_expand_conv False\n",
            "148 block5c_expand_bn False\n",
            "149 block5c_expand_activation False\n",
            "150 block5c_dwconv False\n",
            "151 block5c_bn False\n",
            "152 block5c_activation False\n",
            "153 block5c_se_squeeze False\n",
            "154 block5c_se_reshape False\n",
            "155 block5c_se_reduce False\n",
            "156 block5c_se_expand False\n",
            "157 block5c_se_excite False\n",
            "158 block5c_project_conv False\n",
            "159 block5c_project_bn False\n",
            "160 block5c_drop False\n",
            "161 block5c_add False\n",
            "162 block6a_expand_conv False\n",
            "163 block6a_expand_bn False\n",
            "164 block6a_expand_activation False\n",
            "165 block6a_dwconv_pad False\n",
            "166 block6a_dwconv False\n",
            "167 block6a_bn False\n",
            "168 block6a_activation False\n",
            "169 block6a_se_squeeze False\n",
            "170 block6a_se_reshape False\n",
            "171 block6a_se_reduce False\n",
            "172 block6a_se_expand False\n",
            "173 block6a_se_excite False\n",
            "174 block6a_project_conv False\n",
            "175 block6a_project_bn False\n",
            "176 block6b_expand_conv False\n",
            "177 block6b_expand_bn False\n",
            "178 block6b_expand_activation False\n",
            "179 block6b_dwconv False\n",
            "180 block6b_bn False\n",
            "181 block6b_activation False\n",
            "182 block6b_se_squeeze False\n",
            "183 block6b_se_reshape False\n",
            "184 block6b_se_reduce False\n",
            "185 block6b_se_expand False\n",
            "186 block6b_se_excite False\n",
            "187 block6b_project_conv False\n",
            "188 block6b_project_bn False\n",
            "189 block6b_drop False\n",
            "190 block6b_add False\n",
            "191 block6c_expand_conv False\n",
            "192 block6c_expand_bn False\n",
            "193 block6c_expand_activation False\n",
            "194 block6c_dwconv False\n",
            "195 block6c_bn False\n",
            "196 block6c_activation False\n",
            "197 block6c_se_squeeze False\n",
            "198 block6c_se_reshape False\n",
            "199 block6c_se_reduce False\n",
            "200 block6c_se_expand False\n",
            "201 block6c_se_excite False\n",
            "202 block6c_project_conv False\n",
            "203 block6c_project_bn False\n",
            "204 block6c_drop False\n",
            "205 block6c_add False\n",
            "206 block6d_expand_conv False\n",
            "207 block6d_expand_bn False\n",
            "208 block6d_expand_activation False\n",
            "209 block6d_dwconv False\n",
            "210 block6d_bn False\n",
            "211 block6d_activation False\n",
            "212 block6d_se_squeeze False\n",
            "213 block6d_se_reshape False\n",
            "214 block6d_se_reduce False\n",
            "215 block6d_se_expand False\n",
            "216 block6d_se_excite False\n",
            "217 block6d_project_conv False\n",
            "218 block6d_project_bn False\n",
            "219 block6d_drop False\n",
            "220 block6d_add False\n",
            "221 block7a_expand_conv False\n",
            "222 block7a_expand_bn False\n",
            "223 block7a_expand_activation False\n",
            "224 block7a_dwconv False\n",
            "225 block7a_bn False\n",
            "226 block7a_activation False\n",
            "227 block7a_se_squeeze False\n",
            "228 block7a_se_reshape False\n",
            "229 block7a_se_reduce False\n",
            "230 block7a_se_expand False\n",
            "231 block7a_se_excite False\n",
            "232 block7a_project_conv False\n",
            "233 block7a_project_bn False\n",
            "234 top_conv False\n",
            "235 top_bn False\n",
            "236 top_activation False\n"
          ]
        }
      ]
    },
    {
      "cell_type": "code",
      "source": [
        "# check the number of trainable variables are in the base_model\n",
        "print(len(model_2.layers[2].trainable_variables))"
      ],
      "metadata": {
        "colab": {
          "base_uri": "https://localhost:8080/"
        },
        "id": "mUFnRzja4kPv",
        "outputId": "96399471-9c17-4164-dfa4-4c46319bf792"
      },
      "execution_count": null,
      "outputs": [
        {
          "output_type": "stream",
          "name": "stdout",
          "text": [
            "0\n"
          ]
        }
      ]
    },
    {
      "cell_type": "markdown",
      "source": [
        "#### Set the last 10 layers of the `base_model.trainable == True` "
      ],
      "metadata": {
        "id": "hzCvuMvv5JoE"
      }
    },
    {
      "cell_type": "code",
      "source": [
        "base_model.trainable = True\n",
        "\n",
        "for layer in base_model.layers[:-10]:\n",
        "  layer.trainable = False # freeze all layers except the last 10\n",
        "\n",
        "# recompile the model\n",
        "model_2.compile(loss=\"categorical_crossentropy\",\n",
        "                optimizer=tf.keras.optimizers.Adam(learning_rate=0.0001), # lower the learning rate by 10x when fine-tuning\n",
        "                metrics=[\"accuracy\"])"
      ],
      "metadata": {
        "id": "VVZSws_E5nQY"
      },
      "execution_count": null,
      "outputs": []
    },
    {
      "cell_type": "code",
      "source": [
        "# check which layers are trainable\n",
        "for layer_number, layer in enumerate(model_1.layers[2].layers):\n",
        "  print(layer_number, layer.name, layer.trainable)"
      ],
      "metadata": {
        "colab": {
          "base_uri": "https://localhost:8080/"
        },
        "id": "HaD7J0hH6ISs",
        "outputId": "972249df-1e40-419c-f0b4-3b4a60521baa"
      },
      "execution_count": null,
      "outputs": [
        {
          "output_type": "stream",
          "name": "stdout",
          "text": [
            "0 input_3 False\n",
            "1 rescaling_2 False\n",
            "2 normalization_2 False\n",
            "3 stem_conv_pad False\n",
            "4 stem_conv False\n",
            "5 stem_bn False\n",
            "6 stem_activation False\n",
            "7 block1a_dwconv False\n",
            "8 block1a_bn False\n",
            "9 block1a_activation False\n",
            "10 block1a_se_squeeze False\n",
            "11 block1a_se_reshape False\n",
            "12 block1a_se_reduce False\n",
            "13 block1a_se_expand False\n",
            "14 block1a_se_excite False\n",
            "15 block1a_project_conv False\n",
            "16 block1a_project_bn False\n",
            "17 block2a_expand_conv False\n",
            "18 block2a_expand_bn False\n",
            "19 block2a_expand_activation False\n",
            "20 block2a_dwconv_pad False\n",
            "21 block2a_dwconv False\n",
            "22 block2a_bn False\n",
            "23 block2a_activation False\n",
            "24 block2a_se_squeeze False\n",
            "25 block2a_se_reshape False\n",
            "26 block2a_se_reduce False\n",
            "27 block2a_se_expand False\n",
            "28 block2a_se_excite False\n",
            "29 block2a_project_conv False\n",
            "30 block2a_project_bn False\n",
            "31 block2b_expand_conv False\n",
            "32 block2b_expand_bn False\n",
            "33 block2b_expand_activation False\n",
            "34 block2b_dwconv False\n",
            "35 block2b_bn False\n",
            "36 block2b_activation False\n",
            "37 block2b_se_squeeze False\n",
            "38 block2b_se_reshape False\n",
            "39 block2b_se_reduce False\n",
            "40 block2b_se_expand False\n",
            "41 block2b_se_excite False\n",
            "42 block2b_project_conv False\n",
            "43 block2b_project_bn False\n",
            "44 block2b_drop False\n",
            "45 block2b_add False\n",
            "46 block3a_expand_conv False\n",
            "47 block3a_expand_bn False\n",
            "48 block3a_expand_activation False\n",
            "49 block3a_dwconv_pad False\n",
            "50 block3a_dwconv False\n",
            "51 block3a_bn False\n",
            "52 block3a_activation False\n",
            "53 block3a_se_squeeze False\n",
            "54 block3a_se_reshape False\n",
            "55 block3a_se_reduce False\n",
            "56 block3a_se_expand False\n",
            "57 block3a_se_excite False\n",
            "58 block3a_project_conv False\n",
            "59 block3a_project_bn False\n",
            "60 block3b_expand_conv False\n",
            "61 block3b_expand_bn False\n",
            "62 block3b_expand_activation False\n",
            "63 block3b_dwconv False\n",
            "64 block3b_bn False\n",
            "65 block3b_activation False\n",
            "66 block3b_se_squeeze False\n",
            "67 block3b_se_reshape False\n",
            "68 block3b_se_reduce False\n",
            "69 block3b_se_expand False\n",
            "70 block3b_se_excite False\n",
            "71 block3b_project_conv False\n",
            "72 block3b_project_bn False\n",
            "73 block3b_drop False\n",
            "74 block3b_add False\n",
            "75 block4a_expand_conv False\n",
            "76 block4a_expand_bn False\n",
            "77 block4a_expand_activation False\n",
            "78 block4a_dwconv_pad False\n",
            "79 block4a_dwconv False\n",
            "80 block4a_bn False\n",
            "81 block4a_activation False\n",
            "82 block4a_se_squeeze False\n",
            "83 block4a_se_reshape False\n",
            "84 block4a_se_reduce False\n",
            "85 block4a_se_expand False\n",
            "86 block4a_se_excite False\n",
            "87 block4a_project_conv False\n",
            "88 block4a_project_bn False\n",
            "89 block4b_expand_conv False\n",
            "90 block4b_expand_bn False\n",
            "91 block4b_expand_activation False\n",
            "92 block4b_dwconv False\n",
            "93 block4b_bn False\n",
            "94 block4b_activation False\n",
            "95 block4b_se_squeeze False\n",
            "96 block4b_se_reshape False\n",
            "97 block4b_se_reduce False\n",
            "98 block4b_se_expand False\n",
            "99 block4b_se_excite False\n",
            "100 block4b_project_conv False\n",
            "101 block4b_project_bn False\n",
            "102 block4b_drop False\n",
            "103 block4b_add False\n",
            "104 block4c_expand_conv False\n",
            "105 block4c_expand_bn False\n",
            "106 block4c_expand_activation False\n",
            "107 block4c_dwconv False\n",
            "108 block4c_bn False\n",
            "109 block4c_activation False\n",
            "110 block4c_se_squeeze False\n",
            "111 block4c_se_reshape False\n",
            "112 block4c_se_reduce False\n",
            "113 block4c_se_expand False\n",
            "114 block4c_se_excite False\n",
            "115 block4c_project_conv False\n",
            "116 block4c_project_bn False\n",
            "117 block4c_drop False\n",
            "118 block4c_add False\n",
            "119 block5a_expand_conv False\n",
            "120 block5a_expand_bn False\n",
            "121 block5a_expand_activation False\n",
            "122 block5a_dwconv False\n",
            "123 block5a_bn False\n",
            "124 block5a_activation False\n",
            "125 block5a_se_squeeze False\n",
            "126 block5a_se_reshape False\n",
            "127 block5a_se_reduce False\n",
            "128 block5a_se_expand False\n",
            "129 block5a_se_excite False\n",
            "130 block5a_project_conv False\n",
            "131 block5a_project_bn False\n",
            "132 block5b_expand_conv False\n",
            "133 block5b_expand_bn False\n",
            "134 block5b_expand_activation False\n",
            "135 block5b_dwconv False\n",
            "136 block5b_bn False\n",
            "137 block5b_activation False\n",
            "138 block5b_se_squeeze False\n",
            "139 block5b_se_reshape False\n",
            "140 block5b_se_reduce False\n",
            "141 block5b_se_expand False\n",
            "142 block5b_se_excite False\n",
            "143 block5b_project_conv False\n",
            "144 block5b_project_bn False\n",
            "145 block5b_drop False\n",
            "146 block5b_add False\n",
            "147 block5c_expand_conv False\n",
            "148 block5c_expand_bn False\n",
            "149 block5c_expand_activation False\n",
            "150 block5c_dwconv False\n",
            "151 block5c_bn False\n",
            "152 block5c_activation False\n",
            "153 block5c_se_squeeze False\n",
            "154 block5c_se_reshape False\n",
            "155 block5c_se_reduce False\n",
            "156 block5c_se_expand False\n",
            "157 block5c_se_excite False\n",
            "158 block5c_project_conv False\n",
            "159 block5c_project_bn False\n",
            "160 block5c_drop False\n",
            "161 block5c_add False\n",
            "162 block6a_expand_conv False\n",
            "163 block6a_expand_bn False\n",
            "164 block6a_expand_activation False\n",
            "165 block6a_dwconv_pad False\n",
            "166 block6a_dwconv False\n",
            "167 block6a_bn False\n",
            "168 block6a_activation False\n",
            "169 block6a_se_squeeze False\n",
            "170 block6a_se_reshape False\n",
            "171 block6a_se_reduce False\n",
            "172 block6a_se_expand False\n",
            "173 block6a_se_excite False\n",
            "174 block6a_project_conv False\n",
            "175 block6a_project_bn False\n",
            "176 block6b_expand_conv False\n",
            "177 block6b_expand_bn False\n",
            "178 block6b_expand_activation False\n",
            "179 block6b_dwconv False\n",
            "180 block6b_bn False\n",
            "181 block6b_activation False\n",
            "182 block6b_se_squeeze False\n",
            "183 block6b_se_reshape False\n",
            "184 block6b_se_reduce False\n",
            "185 block6b_se_expand False\n",
            "186 block6b_se_excite False\n",
            "187 block6b_project_conv False\n",
            "188 block6b_project_bn False\n",
            "189 block6b_drop False\n",
            "190 block6b_add False\n",
            "191 block6c_expand_conv False\n",
            "192 block6c_expand_bn False\n",
            "193 block6c_expand_activation False\n",
            "194 block6c_dwconv False\n",
            "195 block6c_bn False\n",
            "196 block6c_activation False\n",
            "197 block6c_se_squeeze False\n",
            "198 block6c_se_reshape False\n",
            "199 block6c_se_reduce False\n",
            "200 block6c_se_expand False\n",
            "201 block6c_se_excite False\n",
            "202 block6c_project_conv False\n",
            "203 block6c_project_bn False\n",
            "204 block6c_drop False\n",
            "205 block6c_add False\n",
            "206 block6d_expand_conv False\n",
            "207 block6d_expand_bn False\n",
            "208 block6d_expand_activation False\n",
            "209 block6d_dwconv False\n",
            "210 block6d_bn False\n",
            "211 block6d_activation False\n",
            "212 block6d_se_squeeze False\n",
            "213 block6d_se_reshape False\n",
            "214 block6d_se_reduce False\n",
            "215 block6d_se_expand False\n",
            "216 block6d_se_excite False\n",
            "217 block6d_project_conv False\n",
            "218 block6d_project_bn False\n",
            "219 block6d_drop False\n",
            "220 block6d_add False\n",
            "221 block7a_expand_conv False\n",
            "222 block7a_expand_bn False\n",
            "223 block7a_expand_activation False\n",
            "224 block7a_dwconv False\n",
            "225 block7a_bn False\n",
            "226 block7a_activation False\n",
            "227 block7a_se_squeeze True\n",
            "228 block7a_se_reshape True\n",
            "229 block7a_se_reduce True\n",
            "230 block7a_se_expand True\n",
            "231 block7a_se_excite True\n",
            "232 block7a_project_conv True\n",
            "233 block7a_project_bn True\n",
            "234 top_conv True\n",
            "235 top_bn True\n",
            "236 top_activation True\n"
          ]
        }
      ]
    },
    {
      "cell_type": "code",
      "source": [
        "print(len(model_2.trainable_variables)) # number of trainable variables"
      ],
      "metadata": {
        "colab": {
          "base_uri": "https://localhost:8080/"
        },
        "id": "5uH2YA2X7oa-",
        "outputId": "8554156a-929c-4e91-bc26-8b2a2e5809aa"
      },
      "execution_count": null,
      "outputs": [
        {
          "output_type": "stream",
          "name": "stdout",
          "text": [
            "12\n"
          ]
        }
      ]
    },
    {
      "cell_type": "code",
      "source": [
        "model_2.trainable_variables"
      ],
      "metadata": {
        "colab": {
          "base_uri": "https://localhost:8080/"
        },
        "id": "2tGKM8TD744V",
        "outputId": "c9e9da2c-e8da-42b9-e7b7-8f04423c6eaa"
      },
      "execution_count": null,
      "outputs": [
        {
          "output_type": "execute_result",
          "data": {
            "text/plain": [
              "[<tf.Variable 'block7a_se_reduce/kernel:0' shape=(1, 1, 1152, 48) dtype=float32, numpy=\n",
              " array([[[[-0.05485657,  0.07178846,  0.01534605, ..., -0.09284662,\n",
              "            0.0104828 , -0.02693838],\n",
              "          [-0.03157939,  0.02819107, -0.05579546, ...,  0.00487578,\n",
              "            0.12001809, -0.06901816],\n",
              "          [-0.07792544,  0.12601745,  0.03935236, ...,  0.03086486,\n",
              "           -0.01581392,  0.1306234 ],\n",
              "          ...,\n",
              "          [-0.07692936,  0.19920062,  0.17471024, ...,  0.03312391,\n",
              "           -0.04528928, -0.09214652],\n",
              "          [ 0.01010198,  0.06855008,  0.05820991, ...,  0.00131649,\n",
              "           -0.08952942, -0.00476829],\n",
              "          [ 0.03583075, -0.01228165,  0.04561347, ..., -0.00822134,\n",
              "           -0.07354517, -0.06507882]]]], dtype=float32)>,\n",
              " <tf.Variable 'block7a_se_reduce/bias:0' shape=(48,) dtype=float32, numpy=\n",
              " array([-0.10886215, -0.13624744, -0.15257476,  0.14799541, -0.08512902,\n",
              "        -0.12059905, -0.08779966, -0.08187538, -0.06925284, -0.12518929,\n",
              "        -0.0819265 , -0.1259736 , -0.09993652, -0.10109923, -0.13398036,\n",
              "        -0.09867296, -0.09382621, -0.11011569, -0.1063069 , -0.09003814,\n",
              "        -0.04766154, -0.06743164, -0.13778378, -0.10579358, -0.10130141,\n",
              "        -0.13948615,  0.13246794, -0.03255463, -0.11809722, -0.04813838,\n",
              "        -0.13148174, -0.05429332, -0.0448516 , -0.11129897, -0.08523702,\n",
              "        -0.13361962, -0.07146074, -0.13821687, -0.0614575 , -0.02393492,\n",
              "        -0.08265438, -0.13204956, -0.10251977, -0.12446474, -0.1350065 ,\n",
              "        -0.06927117, -0.07627591, -0.08064308], dtype=float32)>,\n",
              " <tf.Variable 'block7a_se_expand/kernel:0' shape=(1, 1, 48, 1152) dtype=float32, numpy=\n",
              " array([[[[ 0.01703347, -0.09556078, -0.12866898, ..., -0.11176323,\n",
              "           -0.12041699,  0.07214174],\n",
              "          [ 0.11851509,  0.09440814, -0.07513665, ..., -0.10720892,\n",
              "            0.15331012,  0.00920153],\n",
              "          [-0.03525457, -0.05621038,  0.03370081, ...,  0.0058019 ,\n",
              "            0.08038238,  0.02380909],\n",
              "          ...,\n",
              "          [-0.16428104,  0.14296436, -0.07728611, ..., -0.03546136,\n",
              "            0.03369582, -0.19963196],\n",
              "          [-0.01133208, -0.0060606 ,  0.10776694, ...,  0.01572948,\n",
              "           -0.06349678, -0.05537278],\n",
              "          [-0.09189203, -0.05271737, -0.08292874, ..., -0.03266691,\n",
              "           -0.15144289, -0.13922407]]]], dtype=float32)>,\n",
              " <tf.Variable 'block7a_se_expand/bias:0' shape=(1152,) dtype=float32, numpy=\n",
              " array([ 0.04515592,  0.0518708 ,  0.08215576, ..., -0.02809454,\n",
              "         0.06679371,  0.14091711], dtype=float32)>,\n",
              " <tf.Variable 'block7a_project_conv/kernel:0' shape=(1, 1, 1152, 320) dtype=float32, numpy=\n",
              " array([[[[ 0.04719412, -0.03508057,  0.18866068, ...,  0.00667723,\n",
              "            0.01607844, -0.06703078],\n",
              "          [-0.10309057,  0.01945817,  0.03923143, ..., -0.09136088,\n",
              "            0.07520416,  0.09395675],\n",
              "          [-0.0786793 ,  0.02817695, -0.03047303, ...,  0.01593926,\n",
              "            0.13013661, -0.05727762],\n",
              "          ...,\n",
              "          [ 0.01056576, -0.02389853,  0.15035501, ...,  0.04682408,\n",
              "            0.03543943, -0.0752975 ],\n",
              "          [-0.06144901, -0.0928897 ,  0.05499939, ...,  0.16682369,\n",
              "            0.08615127, -0.02209447],\n",
              "          [-0.04315694,  0.1413447 ,  0.00528443, ..., -0.00220996,\n",
              "            0.1894294 , -0.11107358]]]], dtype=float32)>,\n",
              " <tf.Variable 'block7a_project_bn/gamma:0' shape=(320,) dtype=float32, numpy=\n",
              " array([2.6341524, 3.6408505, 2.6395326, 2.6145833, 2.6313312, 2.6202953,\n",
              "        2.5319185, 2.5870585, 2.688308 , 2.6000342, 2.9978335, 2.537907 ,\n",
              "        2.6381385, 2.716591 , 2.558281 , 2.4929833, 2.644765 , 2.462597 ,\n",
              "        2.6660817, 2.5237637, 2.6011422, 2.824746 , 2.5168786, 2.5305552,\n",
              "        2.7185206, 2.7899334, 2.682837 , 2.5672472, 2.4950414, 2.607678 ,\n",
              "        2.6045194, 2.5780609, 2.63664  , 2.5805535, 2.5575125, 2.5273108,\n",
              "        2.5634987, 2.7832053, 2.6418092, 2.604934 , 2.5325363, 2.6006708,\n",
              "        2.6354814, 2.5668874, 2.7951095, 2.646076 , 3.0281844, 2.6361535,\n",
              "        3.1250885, 2.635435 , 2.5462308, 2.6689003, 2.5725474, 2.5831702,\n",
              "        2.5835443, 2.656816 , 2.5504594, 2.6580045, 2.642674 , 2.548922 ,\n",
              "        2.5658593, 2.5088289, 2.8326697, 2.6741598, 2.724444 , 2.6740642,\n",
              "        2.6301656, 2.6501355, 2.5464098, 2.584042 , 2.5088935, 2.6053326,\n",
              "        2.548359 , 2.742098 , 2.6033902, 2.5825214, 2.6483955, 2.685057 ,\n",
              "        2.6903856, 2.7595356, 2.6767306, 2.650072 , 2.6561706, 2.6387742,\n",
              "        2.5386903, 2.6601446, 2.585036 , 2.581829 , 2.493314 , 2.5478692,\n",
              "        2.7056026, 2.5470285, 2.6166646, 2.7911394, 2.5091803, 2.5457087,\n",
              "        2.4962032, 2.616603 , 2.8938844, 2.5239155, 2.5611029, 2.5762894,\n",
              "        2.6258383, 2.7690558, 2.6246526, 2.573153 , 2.63151  , 2.6664348,\n",
              "        2.5510879, 2.633915 , 2.5973866, 2.6333516, 2.5894468, 2.5375085,\n",
              "        2.7006404, 2.6648164, 2.5562012, 2.6261616, 2.5598128, 2.515569 ,\n",
              "        2.643523 , 2.6532161, 2.7102292, 2.5004933, 2.8885357, 2.5730307,\n",
              "        2.6309655, 2.5566099, 2.542208 , 2.5430515, 2.95321  , 2.530806 ,\n",
              "        2.6387343, 2.610428 , 2.580837 , 2.6031556, 2.668818 , 2.549356 ,\n",
              "        2.6471393, 2.5472634, 2.669148 , 2.59522  , 2.6507857, 2.4828112,\n",
              "        2.601118 , 2.593023 , 2.549623 , 2.534933 , 2.7077003, 2.5183656,\n",
              "        2.6026828, 2.985571 , 2.6405106, 2.7155428, 2.5788558, 2.6546528,\n",
              "        2.5677054, 2.4542222, 2.7947254, 2.5911338, 2.6567724, 2.5698543,\n",
              "        2.50019  , 2.5938528, 2.6083398, 2.5553062, 2.5281339, 2.5907693,\n",
              "        2.5921338, 2.6407883, 2.5940228, 2.6011744, 2.6939318, 2.5788543,\n",
              "        2.611848 , 2.5353673, 2.5492253, 2.6692536, 2.5442774, 2.6057358,\n",
              "        2.545667 , 2.699785 , 2.5898273, 2.6510255, 2.6357298, 2.5392187,\n",
              "        3.0744135, 2.5465763, 2.62727  , 2.8991907, 2.6765053, 2.5408316,\n",
              "        2.6696007, 2.663587 , 2.6330073, 2.6307907, 2.557663 , 2.6597102,\n",
              "        2.7168522, 3.0360131, 2.4636025, 2.5911775, 2.6008296, 2.6731155,\n",
              "        2.6936364, 2.716485 , 2.680393 , 2.7018907, 2.7021012, 2.5174494,\n",
              "        2.604642 , 2.6076188, 2.6755745, 2.5452864, 2.5664885, 2.8462067,\n",
              "        2.7362747, 2.666304 , 2.5056198, 2.5951312, 2.5824764, 2.6146016,\n",
              "        2.642559 , 2.5692267, 2.792615 , 2.6337516, 2.4910922, 2.6466959,\n",
              "        2.6380413, 2.5529966, 2.565908 , 2.5560148, 2.640346 , 2.6173239,\n",
              "        2.6475196, 2.6759052, 3.218808 , 2.5925794, 2.5743115, 2.6601744,\n",
              "        2.6724327, 2.631072 , 2.562081 , 2.5806832, 2.512028 , 2.6604302,\n",
              "        2.5478892, 2.5730498, 2.6972325, 2.5915775, 2.6661477, 2.6339667,\n",
              "        2.6636207, 2.5320785, 2.6257393, 2.622644 , 2.508248 , 2.6330373,\n",
              "        2.599642 , 2.6596751, 2.6126783, 2.6051974, 2.652374 , 2.6319253,\n",
              "        2.8959923, 2.6422274, 2.6246538, 2.4762268, 2.631236 , 2.4831147,\n",
              "        2.6260679, 2.519754 , 2.619554 , 2.8796465, 2.614829 , 2.58701  ,\n",
              "        2.5688565, 2.6110027, 2.6058009, 2.5786552, 2.6547408, 2.5492873,\n",
              "        2.6010828, 2.8261983, 2.5328765, 2.689091 , 2.5229828, 2.5879102,\n",
              "        2.7365847, 2.7272425, 2.6959665, 2.6330662, 2.5203118, 2.688423 ,\n",
              "        2.5512888, 3.3626828, 2.5781293, 2.50825  , 2.5737724, 2.621484 ,\n",
              "        2.6324031, 2.6176171, 2.5813835, 2.5144784, 2.633849 , 2.8199816,\n",
              "        2.6682093, 2.599474 , 2.6375234, 2.684862 , 2.525223 , 2.6976318,\n",
              "        2.6058314, 2.5276728, 2.4987195, 2.572669 , 2.5587776, 2.5677974,\n",
              "        2.838972 , 2.619664 ], dtype=float32)>,\n",
              " <tf.Variable 'block7a_project_bn/beta:0' shape=(320,) dtype=float32, numpy=\n",
              " array([ 2.72746431e-04, -4.64200834e-03,  1.81363500e-03, -1.35792862e-03,\n",
              "        -1.83621727e-04,  7.23875011e-04, -7.06277788e-04, -3.28818336e-04,\n",
              "        -1.00322848e-03,  5.77372033e-04, -3.32189701e-03, -8.64792033e-04,\n",
              "         1.79181120e-03, -8.18454195e-04, -1.69087423e-03,  2.51508714e-03,\n",
              "        -1.26882526e-03, -3.69476293e-05, -2.75014690e-03, -3.24349292e-03,\n",
              "         2.12383200e-03, -9.11651237e-04, -2.34528631e-03, -1.68305065e-03,\n",
              "        -7.17351562e-04,  2.03338059e-04, -1.06290297e-03, -1.05257204e-03,\n",
              "         7.56997324e-04,  8.66741582e-04,  4.24314709e-03,  5.80201682e-04,\n",
              "        -1.42630236e-03,  3.64625268e-03,  1.12341705e-03,  1.69936311e-03,\n",
              "         1.08880980e-03,  4.06244246e-04,  1.67966017e-03, -3.07304901e-04,\n",
              "         2.56448926e-04, -2.74889544e-03, -2.60693108e-04,  6.29616028e-04,\n",
              "         5.18684392e-04,  5.06498793e-04, -1.75745424e-03, -2.50845333e-03,\n",
              "         3.29580111e-03,  2.34114681e-03,  1.78862875e-03, -1.96675933e-03,\n",
              "        -2.85300863e-04,  2.95514881e-04,  1.76551077e-03,  2.14295986e-04,\n",
              "        -2.74702528e-04, -4.98560366e-05, -2.33496467e-05,  6.49673748e-05,\n",
              "         3.62340477e-04, -9.65728366e-04, -2.40365812e-03, -3.28422553e-04,\n",
              "         1.72259891e-03, -9.60275298e-04, -1.24948169e-03, -1.23629603e-03,\n",
              "        -4.82999487e-04,  1.66278379e-03, -1.42891321e-03, -8.51270393e-04,\n",
              "         2.50486657e-03,  1.03739847e-03,  4.44977719e-04, -4.01280500e-04,\n",
              "        -6.51122653e-04,  7.47022335e-04, -1.48657290e-03,  5.63821697e-04,\n",
              "        -2.27600569e-03,  1.02134841e-03,  1.50884001e-03, -4.78561968e-04,\n",
              "        -2.13380903e-04,  3.12323740e-04,  1.69344270e-03,  7.68164638e-04,\n",
              "        -1.42305926e-03, -1.06511544e-03,  8.57689520e-05, -1.03630626e-03,\n",
              "        -5.28990058e-04, -6.56761054e-04, -1.05450675e-03,  1.19510374e-03,\n",
              "        -3.83046397e-04, -2.39993151e-05, -6.99702534e-04, -1.11313257e-03,\n",
              "         1.15426502e-03, -3.16569209e-03,  1.56251244e-05, -5.30554564e-04,\n",
              "        -1.35117490e-03, -1.99875431e-04, -1.27230806e-03,  3.45696841e-04,\n",
              "        -1.73765479e-03,  8.10689293e-04, -7.09120708e-04,  1.19463378e-03,\n",
              "        -1.29504187e-03, -1.42769760e-03, -2.05490855e-03,  3.33959106e-05,\n",
              "        -9.67560452e-04,  2.18152488e-03,  2.38515713e-05,  4.46808335e-05,\n",
              "        -2.04296876e-03, -1.20915414e-03, -9.56242220e-05,  4.59675764e-04,\n",
              "         3.40061216e-03,  2.13403418e-03, -5.79986838e-04,  1.29770138e-03,\n",
              "        -1.09179609e-03,  9.54744522e-04, -8.50354671e-04, -1.00062031e-03,\n",
              "         1.42553748e-04,  3.43387743e-04, -5.74955542e-04, -2.38789900e-04,\n",
              "        -1.63314794e-03,  1.01994854e-04,  2.63368245e-03,  1.79869402e-03,\n",
              "        -1.25590130e-03, -2.92626093e-03,  9.38380021e-04, -3.11836222e-04,\n",
              "        -4.31053893e-04, -1.59043982e-03,  1.84826949e-03,  1.48812158e-03,\n",
              "        -2.77693220e-03, -8.86596739e-04, -2.36758046e-04, -7.58587732e-04,\n",
              "         1.39371923e-03, -4.49905143e-04,  5.05587144e-04, -9.97542636e-04,\n",
              "         1.03000528e-03,  2.86184740e-03, -1.79313810e-03, -6.55176118e-04,\n",
              "        -2.65727611e-03,  7.20865792e-04,  1.30724453e-03, -4.23565325e-05,\n",
              "         6.62169245e-04, -4.66128025e-04,  2.81012943e-03,  1.82552508e-03,\n",
              "         5.87477058e-04, -4.03790065e-04,  8.74075748e-04,  7.78581234e-05,\n",
              "         1.90386223e-03, -1.54897827e-03,  2.25501688e-04,  5.10995567e-04,\n",
              "         2.55123922e-03,  8.13688268e-04, -7.14337279e-04, -5.06902405e-04,\n",
              "         2.85416422e-03,  7.83873023e-04, -1.10656860e-04,  9.32446972e-04,\n",
              "         2.40951893e-03, -6.86718326e-04, -2.52255704e-03,  2.18124787e-05,\n",
              "         1.05487206e-05,  8.27186217e-04, -1.75172405e-03, -1.25424110e-03,\n",
              "         8.82197171e-04, -5.65536728e-04, -1.00640114e-03, -3.75324744e-04,\n",
              "         1.51518488e-03, -1.22928934e-04,  8.04806245e-04,  4.69992170e-04,\n",
              "        -5.85276866e-04, -1.16747025e-04, -3.51934647e-03,  1.32238166e-03,\n",
              "         1.72750279e-03,  2.94423138e-04,  2.98701430e-04,  4.09114582e-04,\n",
              "        -5.18784160e-04, -2.73050228e-03,  1.59792858e-03,  2.05026925e-04,\n",
              "         7.29332387e-04, -8.44324881e-04,  1.73368491e-03, -1.31481164e-03,\n",
              "        -1.38368423e-03,  3.16325552e-03,  1.51809235e-03,  8.39646265e-04,\n",
              "         6.18721606e-05, -2.25067860e-03, -1.54738067e-04,  7.56336085e-04,\n",
              "        -1.71400257e-03,  6.03145338e-04, -5.99783496e-04,  9.78035154e-04,\n",
              "        -2.15801597e-03,  9.26407811e-04,  6.17332407e-04,  2.00839248e-03,\n",
              "         3.08294198e-03, -7.05075916e-04,  3.08018411e-03, -2.07686680e-03,\n",
              "        -3.42484983e-03,  8.07445089e-04, -1.29282055e-03, -1.24681287e-03,\n",
              "         6.63550978e-04,  1.38722942e-03, -1.00464269e-03,  2.45917181e-04,\n",
              "        -1.47426047e-03, -2.40818423e-04,  2.99509428e-03,  1.09945354e-03,\n",
              "         8.59148684e-04,  1.50627500e-06, -1.17584574e-03,  4.68704355e-04,\n",
              "         8.43120288e-05,  1.58117816e-03,  1.44869217e-03, -1.08577078e-03,\n",
              "        -9.88185639e-04,  2.09095539e-03,  1.32484653e-03, -1.08445913e-03,\n",
              "        -8.18771659e-04, -1.73332344e-03, -6.66451058e-04, -1.59535231e-03,\n",
              "         3.21470387e-03,  1.90356874e-03,  7.54604407e-04, -2.53299979e-04,\n",
              "         1.34878664e-03, -1.87308283e-03,  1.15370855e-03, -1.05404225e-03,\n",
              "        -1.19788572e-03,  1.14590931e-03,  1.14154675e-04, -5.62238798e-04,\n",
              "         1.96290808e-03,  8.19200242e-04, -1.13923859e-03, -1.30361354e-03,\n",
              "         1.50869356e-03, -1.18403800e-03, -2.32256460e-03,  1.89215309e-04,\n",
              "        -4.54480432e-05, -1.98359881e-03,  1.85492670e-03, -2.23364055e-04,\n",
              "        -8.34366656e-04,  2.03655963e-03,  1.67561357e-03,  1.62004714e-03,\n",
              "        -3.21354310e-04,  3.61894118e-03, -5.57434803e-04, -1.67479762e-03,\n",
              "         1.03459624e-03,  4.82435600e-04, -2.24323105e-03, -1.16618583e-03,\n",
              "         1.39774487e-03, -3.93694296e-04,  1.31923391e-03, -8.33242026e-04,\n",
              "        -1.68927254e-05, -2.22254661e-03, -4.09675704e-04,  2.92616361e-03,\n",
              "        -1.78410482e-04, -1.21830043e-03,  3.88241722e-03,  7.66222889e-04,\n",
              "        -1.43284255e-04, -1.88554521e-03,  8.52050260e-04,  1.40042137e-03,\n",
              "         2.37329234e-03,  7.15036993e-04, -2.30495381e-04,  3.50229093e-03],\n",
              "       dtype=float32)>,\n",
              " <tf.Variable 'top_conv/kernel:0' shape=(1, 1, 320, 1280) dtype=float32, numpy=\n",
              " array([[[[ 0.010654  ,  0.04302309, -0.05814039, ...,  0.07820047,\n",
              "            0.09309781,  0.13512692],\n",
              "          [ 0.18291403,  0.0635317 ,  0.1210966 , ...,  0.10852515,\n",
              "            0.09180524,  0.25709218],\n",
              "          [-0.01965742,  0.02730735,  0.02497241, ...,  0.10817309,\n",
              "            0.11124102,  0.03874104],\n",
              "          ...,\n",
              "          [ 0.16707249,  0.0034612 , -0.04011405, ...,  0.07070784,\n",
              "           -0.03778364,  0.04866563],\n",
              "          [-0.03250833, -0.03533007, -0.08403775, ..., -0.04473848,\n",
              "           -0.06186406,  0.05368444],\n",
              "          [ 0.14157134, -0.01509961, -0.20079431, ..., -0.10574265,\n",
              "           -0.04939263,  0.04458737]]]], dtype=float32)>,\n",
              " <tf.Variable 'top_bn/gamma:0' shape=(1280,) dtype=float32, numpy=\n",
              " array([2.656564 , 2.543096 , 2.3632998, ..., 2.7232573, 2.503377 ,\n",
              "        2.161115 ], dtype=float32)>,\n",
              " <tf.Variable 'top_bn/beta:0' shape=(1280,) dtype=float32, numpy=\n",
              " array([-2.2949498, -2.3487396, -2.0764754, ..., -2.4685047, -2.2737474,\n",
              "        -1.4324068], dtype=float32)>,\n",
              " <tf.Variable 'output_layer/kernel:0' shape=(1280, 10) dtype=float32, numpy=\n",
              " array([[-0.00165368, -0.02499521,  0.06131018, ..., -0.06088879,\n",
              "         -0.00254598,  0.04531876],\n",
              "        [-0.04957357, -0.04269587, -0.11962059, ...,  0.12651922,\n",
              "          0.02405321,  0.0689878 ],\n",
              "        [-0.04344669, -0.03013851,  0.05546048, ..., -0.08400121,\n",
              "          0.02543923, -0.03416617],\n",
              "        ...,\n",
              "        [-0.00241945,  0.07311762, -0.03214952, ..., -0.01054967,\n",
              "          0.07063394, -0.02208923],\n",
              "        [-0.02904747, -0.01763189, -0.00459862, ...,  0.02173633,\n",
              "          0.03676016, -0.0235561 ],\n",
              "        [ 0.03415994,  0.00804031,  0.01194548, ..., -0.03594091,\n",
              "          0.00559634,  0.00708642]], dtype=float32)>,\n",
              " <tf.Variable 'output_layer/bias:0' shape=(10,) dtype=float32, numpy=\n",
              " array([ 0.00409863, -0.01178022,  0.01227398, -0.01038631,  0.00345535,\n",
              "         0.00971144,  0.01629586,  0.00176986, -0.00944301, -0.00209903],\n",
              "       dtype=float32)>]"
            ]
          },
          "metadata": {},
          "execution_count": 58
        }
      ]
    },
    {
      "cell_type": "markdown",
      "source": [
        "#### Fine-tune the model for another 5 epochs"
      ],
      "metadata": {
        "id": "8_Y-rJrd78Od"
      }
    },
    {
      "cell_type": "code",
      "source": [
        "fine_tune_epochs = initial_epochs + 5\n",
        "\n",
        "# refit the model\n",
        "history_2_fine = model_2.fit(train_data_10_percent,\n",
        "                              epochs=fine_tune_epochs,\n",
        "                              steps_per_epoch=len(train_data_10_percent),\n",
        "                              validation_data=test_data,\n",
        "                              validation_steps=int(0.25 * len(test_data)),\n",
        "                              initial_epoch=history_2.epoch[-1], # start training from the previuos last epoch\n",
        "                              callbacks=[create_tensorboard_callback(dir_name=\"transfer_learning\",\n",
        "                                                                     experiment_name=\"10_percent_fine_tune_last_10\")])"
      ],
      "metadata": {
        "colab": {
          "base_uri": "https://localhost:8080/"
        },
        "id": "KwSXznZT8T8S",
        "outputId": "55a49d27-4fc1-42b8-95b4-fa72e39d21b0"
      },
      "execution_count": null,
      "outputs": [
        {
          "output_type": "stream",
          "name": "stdout",
          "text": [
            "Saving TensorBoard log files to: transfer_learning/10_percent_fine_tune_last_10/20220519-033743\n",
            "Epoch 5/10\n",
            "24/24 [==============================] - 21s 477ms/step - loss: 0.7066 - accuracy: 0.8067 - val_loss: 0.5469 - val_accuracy: 0.8158\n",
            "Epoch 6/10\n",
            "24/24 [==============================] - 10s 373ms/step - loss: 0.5626 - accuracy: 0.8187 - val_loss: 0.5064 - val_accuracy: 0.8224\n",
            "Epoch 7/10\n",
            "24/24 [==============================] - 11s 448ms/step - loss: 0.4751 - accuracy: 0.8613 - val_loss: 0.5427 - val_accuracy: 0.8026\n",
            "Epoch 8/10\n",
            "24/24 [==============================] - 10s 404ms/step - loss: 0.4479 - accuracy: 0.8600 - val_loss: 0.4975 - val_accuracy: 0.8289\n",
            "Epoch 9/10\n",
            "24/24 [==============================] - 9s 364ms/step - loss: 0.4012 - accuracy: 0.8760 - val_loss: 0.4943 - val_accuracy: 0.8322\n",
            "Epoch 10/10\n",
            "24/24 [==============================] - 9s 359ms/step - loss: 0.3921 - accuracy: 0.8733 - val_loss: 0.5206 - val_accuracy: 0.8322\n"
          ]
        }
      ]
    },
    {
      "cell_type": "code",
      "source": [
        "# evaluate the fine-tuned model\n",
        "results_fine_tune_10_percent = model_2.evaluate(test_data)"
      ],
      "metadata": {
        "colab": {
          "base_uri": "https://localhost:8080/"
        },
        "id": "QsSfaVEY9ZOF",
        "outputId": "0840f3a2-6727-4e41-e6f7-bdee47d99509"
      },
      "execution_count": null,
      "outputs": [
        {
          "output_type": "stream",
          "name": "stdout",
          "text": [
            "79/79 [==============================] - 7s 89ms/step - loss: 0.4766 - accuracy: 0.8400\n"
          ]
        }
      ]
    },
    {
      "cell_type": "code",
      "source": [
        "results_10_percent_data_aug # results_fine_tune_10_percent has a better accuracy than results_10_percent_data_aug"
      ],
      "metadata": {
        "colab": {
          "base_uri": "https://localhost:8080/"
        },
        "id": "-WVnsih096nP",
        "outputId": "88b4b996-9cdd-4aaf-daaf-f99fa2899ca8"
      },
      "execution_count": null,
      "outputs": [
        {
          "output_type": "execute_result",
          "data": {
            "text/plain": [
              "[0.7008739113807678, 0.8064000010490417]"
            ]
          },
          "metadata": {},
          "execution_count": 61
        }
      ]
    },
    {
      "cell_type": "code",
      "source": [
        "plot_loss_curves(history_2_fine) # inaccurate because the plot_loss_curves only shows the first 5 epochs when we ran 10 epochs"
      ],
      "metadata": {
        "colab": {
          "base_uri": "https://localhost:8080/",
          "height": 573
        },
        "id": "Xz81aWXd9_Sd",
        "outputId": "03517b6d-06d0-443c-86f6-aabe8e833fae"
      },
      "execution_count": null,
      "outputs": [
        {
          "output_type": "display_data",
          "data": {
            "text/plain": [
              "<Figure size 432x288 with 1 Axes>"
            ],
            "image/png": "[encoded data removed]"
          },
          "metadata": {
            "needs_background": "light"
          }
        },
        {
          "output_type": "display_data",
          "data": {
            "text/plain": [
              "<Figure size 432x288 with 1 Axes>"
            ],
            "image/png": "[encoded data removed]"
          },
          "metadata": {
            "needs_background": "light"
          }
        }
      ]
    },
    {
      "cell_type": "markdown",
      "source": [
        "#### Create a function to compare training histories"
      ],
      "metadata": {
        "id": "87e98DbR-mKm"
      }
    },
    {
      "cell_type": "code",
      "source": [
        "def compare_historys(original_history, new_history, initial_epochs=5):\n",
        "  \"\"\"\n",
        "  Compare 2 tensorflow history objects.\n",
        "  \"\"\"\n",
        "\n",
        "  # get the original measurements\n",
        "  acc = original_history.history[\"accuracy\"]\n",
        "  loss = original_history.history[\"loss\"]\n",
        "\n",
        "  val_acc = original_history.history['val_accuracy']\n",
        "  val_loss = original_history.history[\"val_loss\"]\n",
        "\n",
        "  # add both historys\n",
        "  total_acc = acc + new_history.history[\"accuracy\"]\n",
        "  total_loss = loss + new_history.history[\"loss\"]\n",
        "\n",
        "  total_val_acc = val_acc + new_history.history[\"val_accuracy\"]\n",
        "  total_val_loss = val_loss + new_history.history[\"val_loss\"]\n",
        "\n",
        "  # plot accuracy and vsal_accuracy\n",
        "  plt.figure(figsize=(8, 8))\n",
        "  plt.subplot(2, 1, 1)\n",
        "  plt.plot(total_acc, label=\"Training Accuracy\")\n",
        "  plt.plot(total_val_acc, label=\"Training Val Accuracy\")\n",
        "  plt.plot([initial_epochs-1, initial_epochs-1], plt.ylim(), label=\"Start Fine-Tuning\")\n",
        "  plt.legend(loc=\"lower right\")\n",
        "  plt.title(\"Training and Validation Accuracy\")\n",
        "\n",
        "  # plot loss and val_loss\n",
        "  plt.figure(figsize=(8, 8))\n",
        "  plt.subplot(2, 1, 2)\n",
        "  plt.plot(total_loss, label=\"Training Loss\")\n",
        "  plt.plot(total_val_loss, label=\"Training Val Loss\")\n",
        "  plt.plot([initial_epochs-1, initial_epochs-1], plt.ylim(), label=\"Start Fine-Tuning\")\n",
        "  plt.legend(loc=\"lower right\")\n",
        "  plt.title(\"Training and Validation Loss\")"
      ],
      "metadata": {
        "id": "JJPgGkDH-5hT"
      },
      "execution_count": null,
      "outputs": []
    },
    {
      "cell_type": "code",
      "source": [
        "compare_historys(history_2,\n",
        "                 history_2_fine,\n",
        "                 initial_epochs=5)"
      ],
      "metadata": {
        "colab": {
          "base_uri": "https://localhost:8080/",
          "height": 507
        },
        "id": "e8cDIZIvAkw-",
        "outputId": "c1854a45-e7b7-43c0-c9ee-0a5bbf4736df"
      },
      "execution_count": null,
      "outputs": [
        {
          "output_type": "display_data",
          "data": {
            "text/plain": [
              "<Figure size 576x576 with 1 Axes>"
            ],
            "image/png": "[encoded data removed]"
          },
          "metadata": {
            "needs_background": "light"
          }
        },
        {
          "output_type": "display_data",
          "data": {
            "text/plain": [
              "<Figure size 576x576 with 1 Axes>"
            ],
            "image/png": "[encoded data removed]"
          },
          "metadata": {
            "needs_background": "light"
          }
        }
      ]
    },
    {
      "cell_type": "markdown",
      "source": [
        "#### `model_4`: Fine-tuning an existing model on 100% of the data with data augmentation"
      ],
      "metadata": {
        "id": "TAWjEY_9Aw9c"
      }
    },
    {
      "cell_type": "code",
      "source": [
        "!wget https://storage.googleapis.com/ztm_tf_course/food_vision/10_food_classes_all_data.zip # import 100% of the data\n",
        "\n",
        "unzip_data(\"10_food_classes_all_data.zip\") # unzip with helper function and use path name after the last \"/\""
      ],
      "metadata": {
        "colab": {
          "base_uri": "https://localhost:8080/"
        },
        "id": "ZNfW29U6Yxs0",
        "outputId": "601d0d90-9511-478c-8386-78692450243d"
      },
      "execution_count": null,
      "outputs": [
        {
          "output_type": "stream",
          "name": "stdout",
          "text": [
            "--2022-05-19 03:39:16--  https://storage.googleapis.com/ztm_tf_course/food_vision/10_food_classes_all_data.zip\n",
            "Resolving storage.googleapis.com (storage.googleapis.com)... 74.125.20.128, 74.125.197.128, 74.125.142.128, ...\n",
            "Connecting to storage.googleapis.com (storage.googleapis.com)|74.125.20.128|:443... connected.\n",
            "HTTP request sent, awaiting response... 200 OK\n",
            "Length: 519183241 (495M) [application/zip]\n",
            "Saving to: ‘10_food_classes_all_data.zip’\n",
            "\n",
            "10_food_classes_all 100%[===================>] 495.13M   235MB/s    in 2.1s    \n",
            "\n",
            "2022-05-19 03:39:19 (235 MB/s) - ‘10_food_classes_all_data.zip’ saved [519183241/519183241]\n",
            "\n"
          ]
        }
      ]
    },
    {
      "cell_type": "markdown",
      "source": [
        "#### Set up training and test directories"
      ],
      "metadata": {
        "id": "kyw8OTYIZVB8"
      }
    },
    {
      "cell_type": "code",
      "source": [
        "train_dir_all_data = \"10_food_classes_all_data/train/\"\n",
        "test_dir = \"10_food_classes_all_data/test/\""
      ],
      "metadata": {
        "id": "VcGGejuaZc7G"
      },
      "execution_count": null,
      "outputs": []
    },
    {
      "cell_type": "code",
      "source": [
        "walk_through_dir(\"10_food_classes_all_data\") # walk through path"
      ],
      "metadata": {
        "colab": {
          "base_uri": "https://localhost:8080/"
        },
        "id": "VyfiZHK0Zmrt",
        "outputId": "c82b23a6-ff30-4634-bc1c-ccd3ae95f4a2"
      },
      "execution_count": null,
      "outputs": [
        {
          "output_type": "stream",
          "name": "stdout",
          "text": [
            "There are 2 directories and 0 images in '10_food_classes_all_data'.\n",
            "There are 10 directories and 0 images in '10_food_classes_all_data/test'.\n",
            "There are 0 directories and 250 images in '10_food_classes_all_data/test/sushi'.\n",
            "There are 0 directories and 250 images in '10_food_classes_all_data/test/chicken_wings'.\n",
            "There are 0 directories and 250 images in '10_food_classes_all_data/test/ice_cream'.\n",
            "There are 0 directories and 250 images in '10_food_classes_all_data/test/grilled_salmon'.\n",
            "There are 0 directories and 250 images in '10_food_classes_all_data/test/chicken_curry'.\n",
            "There are 0 directories and 250 images in '10_food_classes_all_data/test/ramen'.\n",
            "There are 0 directories and 250 images in '10_food_classes_all_data/test/hamburger'.\n",
            "There are 0 directories and 250 images in '10_food_classes_all_data/test/fried_rice'.\n",
            "There are 0 directories and 250 images in '10_food_classes_all_data/test/steak'.\n",
            "There are 0 directories and 250 images in '10_food_classes_all_data/test/pizza'.\n",
            "There are 10 directories and 0 images in '10_food_classes_all_data/train'.\n",
            "There are 0 directories and 750 images in '10_food_classes_all_data/train/sushi'.\n",
            "There are 0 directories and 750 images in '10_food_classes_all_data/train/chicken_wings'.\n",
            "There are 0 directories and 750 images in '10_food_classes_all_data/train/ice_cream'.\n",
            "There are 0 directories and 750 images in '10_food_classes_all_data/train/grilled_salmon'.\n",
            "There are 0 directories and 750 images in '10_food_classes_all_data/train/chicken_curry'.\n",
            "There are 0 directories and 750 images in '10_food_classes_all_data/train/ramen'.\n",
            "There are 0 directories and 750 images in '10_food_classes_all_data/train/hamburger'.\n",
            "There are 0 directories and 750 images in '10_food_classes_all_data/train/fried_rice'.\n",
            "There are 0 directories and 750 images in '10_food_classes_all_data/train/steak'.\n",
            "There are 0 directories and 750 images in '10_food_classes_all_data/train/pizza'.\n"
          ]
        }
      ]
    },
    {
      "cell_type": "markdown",
      "source": [
        "#### Convert data into tensors"
      ],
      "metadata": {
        "id": "lCbAomQLZtec"
      }
    },
    {
      "cell_type": "code",
      "source": [
        "import tensorflow as tf\n",
        "IMG_SIZE = (224, 224)\n",
        "train_data_10_classes_full = tf.keras.preprocessing.image_dataset_from_directory(train_dir_all_data,\n",
        "                                                                                 label_mode=\"categorical\",\n",
        "                                                                                 image_size=IMG_SIZE,\n",
        "                                                                                 batch_size=BATCH_SIZE)\n",
        "\n",
        "test_data = tf.keras.preprocessing.image_dataset_from_directory(test_dir,\n",
        "                                                                label_mode=\"categorical\",\n",
        "                                                                image_size=IMG_SIZE,\n",
        "                                                                batch_size=BATCH_SIZE)"
      ],
      "metadata": {
        "colab": {
          "base_uri": "https://localhost:8080/"
        },
        "id": "mH012WRVZyZ3",
        "outputId": "fc9f5ee0-063d-451b-ddfe-b42adc41ea4c"
      },
      "execution_count": null,
      "outputs": [
        {
          "output_type": "stream",
          "name": "stdout",
          "text": [
            "Found 7500 files belonging to 10 classes.\n",
            "Found 2500 files belonging to 10 classes.\n"
          ]
        }
      ]
    },
    {
      "cell_type": "markdown",
      "source": [
        "#### Test dataset is the same throughout all models"
      ],
      "metadata": {
        "id": "0eUnxFPHaYbU"
      }
    },
    {
      "cell_type": "code",
      "source": [
        "model_2.evaluate(test_data)"
      ],
      "metadata": {
        "colab": {
          "base_uri": "https://localhost:8080/"
        },
        "id": "7IbKHK19aulG",
        "outputId": "6145edd0-3b28-49b2-922c-70c16e7bd28d"
      },
      "execution_count": null,
      "outputs": [
        {
          "output_type": "stream",
          "name": "stdout",
          "text": [
            "79/79 [==============================] - 7s 80ms/step - loss: 0.4766 - accuracy: 0.8400\n"
          ]
        },
        {
          "output_type": "execute_result",
          "data": {
            "text/plain": [
              "[0.47656533122062683, 0.8399999737739563]"
            ]
          },
          "metadata": {},
          "execution_count": 69
        }
      ]
    },
    {
      "cell_type": "code",
      "source": [
        "results_fine_tune_10_percent"
      ],
      "metadata": {
        "colab": {
          "base_uri": "https://localhost:8080/"
        },
        "id": "EnnyZxt4a2Xr",
        "outputId": "c096ea3a-f5e1-48e8-b0e5-dc8567b21eba"
      },
      "execution_count": null,
      "outputs": [
        {
          "output_type": "execute_result",
          "data": {
            "text/plain": [
              "[0.4765653908252716, 0.8399999737739563]"
            ]
          },
          "metadata": {},
          "execution_count": 70
        }
      ]
    },
    {
      "cell_type": "code",
      "source": [
        "model_2.evaluate(test_data)[0] == results_fine_tune_10_percent[0] # verify loss between both results"
      ],
      "metadata": {
        "colab": {
          "base_uri": "https://localhost:8080/"
        },
        "id": "vGpBnbxma6rt",
        "outputId": "992467ad-fa13-4912-e36a-8156da84ed40"
      },
      "execution_count": null,
      "outputs": [
        {
          "output_type": "stream",
          "name": "stdout",
          "text": [
            "79/79 [==============================] - 6s 72ms/step - loss: 0.4766 - accuracy: 0.8400\n"
          ]
        },
        {
          "output_type": "execute_result",
          "data": {
            "text/plain": [
              "False"
            ]
          },
          "metadata": {},
          "execution_count": 73
        }
      ]
    },
    {
      "cell_type": "markdown",
      "source": [
        "#### Revert back `model_2` weights to train a fine tuned model\n",
        "\n",
        "- The same stage where the model was fine-tune from"
      ],
      "metadata": {
        "id": "qbsn6h0bbEqK"
      }
    },
    {
      "cell_type": "code",
      "source": [
        "model_2.load_weights(checkpoint_path)"
      ],
      "metadata": {
        "colab": {
          "base_uri": "https://localhost:8080/"
        },
        "id": "ixh8scPtb5SN",
        "outputId": "b3877a75-7d29-4cdc-d1be-bb4cb3127050"
      },
      "execution_count": null,
      "outputs": [
        {
          "output_type": "execute_result",
          "data": {
            "text/plain": [
              "<tensorflow.python.training.tracking.util.CheckpointLoadStatus at 0x7f8e3cea5410>"
            ]
          },
          "metadata": {},
          "execution_count": 74
        }
      ]
    },
    {
      "cell_type": "code",
      "source": [
        "model_2.evaluate(test_data) # evaluate from the point before fine-tuning"
      ],
      "metadata": {
        "colab": {
          "base_uri": "https://localhost:8080/"
        },
        "id": "z5ay1Sktb9hP",
        "outputId": "0e93f901-8b12-433a-9064-dbda12ede3a5"
      },
      "execution_count": null,
      "outputs": [
        {
          "output_type": "stream",
          "name": "stdout",
          "text": [
            "79/79 [==============================] - 7s 84ms/step - loss: 0.7009 - accuracy: 0.8064\n"
          ]
        },
        {
          "output_type": "execute_result",
          "data": {
            "text/plain": [
              "[0.7008739709854126, 0.8064000010490417]"
            ]
          },
          "metadata": {},
          "execution_count": 75
        }
      ]
    },
    {
      "cell_type": "code",
      "source": [
        "results_10_percent_data_aug # model_2 is reverted back into its initial stage"
      ],
      "metadata": {
        "colab": {
          "base_uri": "https://localhost:8080/"
        },
        "id": "X8DIEOxEcKJ_",
        "outputId": "eb563cda-782c-44db-dd83-6f61048deed9"
      },
      "execution_count": null,
      "outputs": [
        {
          "output_type": "execute_result",
          "data": {
            "text/plain": [
              "[0.7008739113807678, 0.8064000010490417]"
            ]
          },
          "metadata": {},
          "execution_count": 77
        }
      ]
    },
    {
      "cell_type": "markdown",
      "source": [
        "#### Steps we have done:\n",
        "\n",
        "1. Trained a feature extraction transfer learning model for 5 epochs on 10% of the data with data augmentation and we saved the model's weights using `ModelCheckpoint` callback\n",
        "2. Fine-tuned the same model on 10% of the data for a further 5 epochs with the top 10 layers unfrozen\n",
        "3. Saved the results and training logs each time\n",
        "4. Reloaded the model from step 1 to do the same steps as steps 2 except we are using 100% of the data instead of 10% only"
      ],
      "metadata": {
        "id": "IoEqkbOHcPYd"
      }
    },
    {
      "cell_type": "code",
      "source": [
        "# check which layers are trainable\n",
        "for layer_number, layer in enumerate(model_2.layers):\n",
        "  print(layer_number, layer.name, layer.trainable)"
      ],
      "metadata": {
        "colab": {
          "base_uri": "https://localhost:8080/"
        },
        "id": "x1yQnQGmdO9H",
        "outputId": "3da217f2-5782-4993-b466-a8ef79eff1fc"
      },
      "execution_count": null,
      "outputs": [
        {
          "output_type": "stream",
          "name": "stdout",
          "text": [
            "0 input_layer True\n",
            "1 data_augmentation True\n",
            "2 efficientnetb0 True\n",
            "3 global_average_pooling_2D True\n",
            "4 output_layer True\n"
          ]
        }
      ]
    },
    {
      "cell_type": "code",
      "source": [
        "for layer_number, layer in enumerate(model_2.layers[2].layers):\n",
        "  print(layer_number, layer.name, layer.trainable)"
      ],
      "metadata": {
        "colab": {
          "base_uri": "https://localhost:8080/"
        },
        "id": "iG1NlCNhdajH",
        "outputId": "47aa2c0d-4382-40a7-dc9a-7bdf403fad45"
      },
      "execution_count": null,
      "outputs": [
        {
          "output_type": "stream",
          "name": "stdout",
          "text": [
            "0 input_3 False\n",
            "1 rescaling_2 False\n",
            "2 normalization_2 False\n",
            "3 stem_conv_pad False\n",
            "4 stem_conv False\n",
            "5 stem_bn False\n",
            "6 stem_activation False\n",
            "7 block1a_dwconv False\n",
            "8 block1a_bn False\n",
            "9 block1a_activation False\n",
            "10 block1a_se_squeeze False\n",
            "11 block1a_se_reshape False\n",
            "12 block1a_se_reduce False\n",
            "13 block1a_se_expand False\n",
            "14 block1a_se_excite False\n",
            "15 block1a_project_conv False\n",
            "16 block1a_project_bn False\n",
            "17 block2a_expand_conv False\n",
            "18 block2a_expand_bn False\n",
            "19 block2a_expand_activation False\n",
            "20 block2a_dwconv_pad False\n",
            "21 block2a_dwconv False\n",
            "22 block2a_bn False\n",
            "23 block2a_activation False\n",
            "24 block2a_se_squeeze False\n",
            "25 block2a_se_reshape False\n",
            "26 block2a_se_reduce False\n",
            "27 block2a_se_expand False\n",
            "28 block2a_se_excite False\n",
            "29 block2a_project_conv False\n",
            "30 block2a_project_bn False\n",
            "31 block2b_expand_conv False\n",
            "32 block2b_expand_bn False\n",
            "33 block2b_expand_activation False\n",
            "34 block2b_dwconv False\n",
            "35 block2b_bn False\n",
            "36 block2b_activation False\n",
            "37 block2b_se_squeeze False\n",
            "38 block2b_se_reshape False\n",
            "39 block2b_se_reduce False\n",
            "40 block2b_se_expand False\n",
            "41 block2b_se_excite False\n",
            "42 block2b_project_conv False\n",
            "43 block2b_project_bn False\n",
            "44 block2b_drop False\n",
            "45 block2b_add False\n",
            "46 block3a_expand_conv False\n",
            "47 block3a_expand_bn False\n",
            "48 block3a_expand_activation False\n",
            "49 block3a_dwconv_pad False\n",
            "50 block3a_dwconv False\n",
            "51 block3a_bn False\n",
            "52 block3a_activation False\n",
            "53 block3a_se_squeeze False\n",
            "54 block3a_se_reshape False\n",
            "55 block3a_se_reduce False\n",
            "56 block3a_se_expand False\n",
            "57 block3a_se_excite False\n",
            "58 block3a_project_conv False\n",
            "59 block3a_project_bn False\n",
            "60 block3b_expand_conv False\n",
            "61 block3b_expand_bn False\n",
            "62 block3b_expand_activation False\n",
            "63 block3b_dwconv False\n",
            "64 block3b_bn False\n",
            "65 block3b_activation False\n",
            "66 block3b_se_squeeze False\n",
            "67 block3b_se_reshape False\n",
            "68 block3b_se_reduce False\n",
            "69 block3b_se_expand False\n",
            "70 block3b_se_excite False\n",
            "71 block3b_project_conv False\n",
            "72 block3b_project_bn False\n",
            "73 block3b_drop False\n",
            "74 block3b_add False\n",
            "75 block4a_expand_conv False\n",
            "76 block4a_expand_bn False\n",
            "77 block4a_expand_activation False\n",
            "78 block4a_dwconv_pad False\n",
            "79 block4a_dwconv False\n",
            "80 block4a_bn False\n",
            "81 block4a_activation False\n",
            "82 block4a_se_squeeze False\n",
            "83 block4a_se_reshape False\n",
            "84 block4a_se_reduce False\n",
            "85 block4a_se_expand False\n",
            "86 block4a_se_excite False\n",
            "87 block4a_project_conv False\n",
            "88 block4a_project_bn False\n",
            "89 block4b_expand_conv False\n",
            "90 block4b_expand_bn False\n",
            "91 block4b_expand_activation False\n",
            "92 block4b_dwconv False\n",
            "93 block4b_bn False\n",
            "94 block4b_activation False\n",
            "95 block4b_se_squeeze False\n",
            "96 block4b_se_reshape False\n",
            "97 block4b_se_reduce False\n",
            "98 block4b_se_expand False\n",
            "99 block4b_se_excite False\n",
            "100 block4b_project_conv False\n",
            "101 block4b_project_bn False\n",
            "102 block4b_drop False\n",
            "103 block4b_add False\n",
            "104 block4c_expand_conv False\n",
            "105 block4c_expand_bn False\n",
            "106 block4c_expand_activation False\n",
            "107 block4c_dwconv False\n",
            "108 block4c_bn False\n",
            "109 block4c_activation False\n",
            "110 block4c_se_squeeze False\n",
            "111 block4c_se_reshape False\n",
            "112 block4c_se_reduce False\n",
            "113 block4c_se_expand False\n",
            "114 block4c_se_excite False\n",
            "115 block4c_project_conv False\n",
            "116 block4c_project_bn False\n",
            "117 block4c_drop False\n",
            "118 block4c_add False\n",
            "119 block5a_expand_conv False\n",
            "120 block5a_expand_bn False\n",
            "121 block5a_expand_activation False\n",
            "122 block5a_dwconv False\n",
            "123 block5a_bn False\n",
            "124 block5a_activation False\n",
            "125 block5a_se_squeeze False\n",
            "126 block5a_se_reshape False\n",
            "127 block5a_se_reduce False\n",
            "128 block5a_se_expand False\n",
            "129 block5a_se_excite False\n",
            "130 block5a_project_conv False\n",
            "131 block5a_project_bn False\n",
            "132 block5b_expand_conv False\n",
            "133 block5b_expand_bn False\n",
            "134 block5b_expand_activation False\n",
            "135 block5b_dwconv False\n",
            "136 block5b_bn False\n",
            "137 block5b_activation False\n",
            "138 block5b_se_squeeze False\n",
            "139 block5b_se_reshape False\n",
            "140 block5b_se_reduce False\n",
            "141 block5b_se_expand False\n",
            "142 block5b_se_excite False\n",
            "143 block5b_project_conv False\n",
            "144 block5b_project_bn False\n",
            "145 block5b_drop False\n",
            "146 block5b_add False\n",
            "147 block5c_expand_conv False\n",
            "148 block5c_expand_bn False\n",
            "149 block5c_expand_activation False\n",
            "150 block5c_dwconv False\n",
            "151 block5c_bn False\n",
            "152 block5c_activation False\n",
            "153 block5c_se_squeeze False\n",
            "154 block5c_se_reshape False\n",
            "155 block5c_se_reduce False\n",
            "156 block5c_se_expand False\n",
            "157 block5c_se_excite False\n",
            "158 block5c_project_conv False\n",
            "159 block5c_project_bn False\n",
            "160 block5c_drop False\n",
            "161 block5c_add False\n",
            "162 block6a_expand_conv False\n",
            "163 block6a_expand_bn False\n",
            "164 block6a_expand_activation False\n",
            "165 block6a_dwconv_pad False\n",
            "166 block6a_dwconv False\n",
            "167 block6a_bn False\n",
            "168 block6a_activation False\n",
            "169 block6a_se_squeeze False\n",
            "170 block6a_se_reshape False\n",
            "171 block6a_se_reduce False\n",
            "172 block6a_se_expand False\n",
            "173 block6a_se_excite False\n",
            "174 block6a_project_conv False\n",
            "175 block6a_project_bn False\n",
            "176 block6b_expand_conv False\n",
            "177 block6b_expand_bn False\n",
            "178 block6b_expand_activation False\n",
            "179 block6b_dwconv False\n",
            "180 block6b_bn False\n",
            "181 block6b_activation False\n",
            "182 block6b_se_squeeze False\n",
            "183 block6b_se_reshape False\n",
            "184 block6b_se_reduce False\n",
            "185 block6b_se_expand False\n",
            "186 block6b_se_excite False\n",
            "187 block6b_project_conv False\n",
            "188 block6b_project_bn False\n",
            "189 block6b_drop False\n",
            "190 block6b_add False\n",
            "191 block6c_expand_conv False\n",
            "192 block6c_expand_bn False\n",
            "193 block6c_expand_activation False\n",
            "194 block6c_dwconv False\n",
            "195 block6c_bn False\n",
            "196 block6c_activation False\n",
            "197 block6c_se_squeeze False\n",
            "198 block6c_se_reshape False\n",
            "199 block6c_se_reduce False\n",
            "200 block6c_se_expand False\n",
            "201 block6c_se_excite False\n",
            "202 block6c_project_conv False\n",
            "203 block6c_project_bn False\n",
            "204 block6c_drop False\n",
            "205 block6c_add False\n",
            "206 block6d_expand_conv False\n",
            "207 block6d_expand_bn False\n",
            "208 block6d_expand_activation False\n",
            "209 block6d_dwconv False\n",
            "210 block6d_bn False\n",
            "211 block6d_activation False\n",
            "212 block6d_se_squeeze False\n",
            "213 block6d_se_reshape False\n",
            "214 block6d_se_reduce False\n",
            "215 block6d_se_expand False\n",
            "216 block6d_se_excite False\n",
            "217 block6d_project_conv False\n",
            "218 block6d_project_bn False\n",
            "219 block6d_drop False\n",
            "220 block6d_add False\n",
            "221 block7a_expand_conv False\n",
            "222 block7a_expand_bn False\n",
            "223 block7a_expand_activation False\n",
            "224 block7a_dwconv False\n",
            "225 block7a_bn False\n",
            "226 block7a_activation False\n",
            "227 block7a_se_squeeze True\n",
            "228 block7a_se_reshape True\n",
            "229 block7a_se_reduce True\n",
            "230 block7a_se_expand True\n",
            "231 block7a_se_excite True\n",
            "232 block7a_project_conv True\n",
            "233 block7a_project_bn True\n",
            "234 top_conv True\n",
            "235 top_bn True\n",
            "236 top_activation True\n"
          ]
        }
      ]
    },
    {
      "cell_type": "code",
      "source": [
        "# compile the model\n",
        "model_2.compile(loss=\"categorical_crossentropy\",\n",
        "                optimizer=tf.keras.optimizers.Adam(learning_rate=0.0001), # advised to lower learning rate by 10x\n",
        "                metrics=[\"accuracy\"])"
      ],
      "metadata": {
        "id": "QMW4KOfxdqqR"
      },
      "execution_count": null,
      "outputs": []
    },
    {
      "cell_type": "code",
      "source": [
        "fine_tune_epochs = initial_epochs + 5\n",
        "\n",
        "history_4 = model_2.fit(train_data_10_classes_full,\n",
        "                        epochs=fine_tune_epochs,\n",
        "                        steps_per_epoch=len(train_data_10_classes_full),\n",
        "                        validation_data=test_data,\n",
        "                        validation_steps=int(0.25 * len(test_data)),\n",
        "                        initial_epoch=history_2.epoch[-1], # history.epoch[-1]\n",
        "                        callbacks=[create_tensorboard_callback(dir_name=\"transfer_learning\",\n",
        "                                                               experiment_name=\"full_10_classes_fine_tune_last_10\")])"
      ],
      "metadata": {
        "colab": {
          "base_uri": "https://localhost:8080/"
        },
        "id": "ITRY18v5eQVc",
        "outputId": "4eb3a8fe-31b6-4738-938a-d78988ec817f"
      },
      "execution_count": null,
      "outputs": [
        {
          "output_type": "stream",
          "name": "stdout",
          "text": [
            "Saving TensorBoard log files to: transfer_learning/full_10_classes_fine_tune_last_10/20220519-040529\n",
            "Epoch 5/10\n",
            "235/235 [==============================] - 61s 232ms/step - loss: 0.7349 - accuracy: 0.7612 - val_loss: 0.3901 - val_accuracy: 0.8734\n",
            "Epoch 6/10\n",
            "235/235 [==============================] - 54s 229ms/step - loss: 0.6056 - accuracy: 0.7979 - val_loss: 0.3219 - val_accuracy: 0.8980\n",
            "Epoch 7/10\n",
            "235/235 [==============================] - 51s 217ms/step - loss: 0.5261 - accuracy: 0.8305 - val_loss: 0.3005 - val_accuracy: 0.8947\n",
            "Epoch 8/10\n",
            "235/235 [==============================] - 43s 182ms/step - loss: 0.4860 - accuracy: 0.8412 - val_loss: 0.2746 - val_accuracy: 0.9062\n",
            "Epoch 9/10\n",
            "235/235 [==============================] - 41s 172ms/step - loss: 0.4546 - accuracy: 0.8531 - val_loss: 0.2910 - val_accuracy: 0.8980\n",
            "Epoch 10/10\n",
            "235/235 [==============================] - 38s 162ms/step - loss: 0.4159 - accuracy: 0.8647 - val_loss: 0.2534 - val_accuracy: 0.9046\n"
          ]
        }
      ]
    },
    {
      "cell_type": "code",
      "source": [
        "results_fine_tune_full_data = model_2.evaluate(test_data) # evaluate on all data\n",
        "results_fine_tune_full_data"
      ],
      "metadata": {
        "colab": {
          "base_uri": "https://localhost:8080/"
        },
        "id": "7PbRoOB3fKG_",
        "outputId": "2ebd958d-e2a1-42b8-d0e8-a33af79690bc"
      },
      "execution_count": null,
      "outputs": [
        {
          "output_type": "stream",
          "name": "stdout",
          "text": [
            "79/79 [==============================] - 7s 72ms/step - loss: 0.3115 - accuracy: 0.8960\n"
          ]
        },
        {
          "output_type": "execute_result",
          "data": {
            "text/plain": [
              "[0.31152665615081787, 0.8960000276565552]"
            ]
          },
          "metadata": {},
          "execution_count": 88
        }
      ]
    },
    {
      "cell_type": "code",
      "source": [
        "compare_historys(original_history=history_2,\n",
        "                 new_history=history_4,\n",
        "                 initial_epochs=5)"
      ],
      "metadata": {
        "colab": {
          "base_uri": "https://localhost:8080/",
          "height": 507
        },
        "id": "sZh7XO9Df_-t",
        "outputId": "d072ddb8-1802-42b2-8852-246ea98abd13"
      },
      "execution_count": null,
      "outputs": [
        {
          "output_type": "display_data",
          "data": {
            "text/plain": [
              "<Figure size 576x576 with 1 Axes>"
            ],
            "image/png": "[encoded data removed]"
          },
          "metadata": {
            "needs_background": "light"
          }
        },
        {
          "output_type": "display_data",
          "data": {
            "text/plain": [
              "<Figure size 576x576 with 1 Axes>"
            ],
            "image/png": "[encoded data removed]"
          },
          "metadata": {
            "needs_background": "light"
          }
        }
      ]
    },
    {
      "cell_type": "markdown",
      "source": [
        "#### View our experiment results in TensorBoard (public view)"
      ],
      "metadata": {
        "id": "lPwKw5OqgaE2"
      }
    },
    {
      "cell_type": "code",
      "source": [
        "!tensorboard dev upload --logdir ./transfer_learning/ \\\n",
        "  --name \"Transfer Learning Experiments with 10 Food 101 Classes\" \\\n",
        "  --description \"A series of different transfer learning experiments with varying amounts of data and fine-tuning.\" \\\n",
        "  --one_shot # exits the uploader once it finishes uploading"
      ],
      "metadata": {
        "colab": {
          "base_uri": "https://localhost:8080/"
        },
        "id": "zSz4c9xhhnFd",
        "outputId": "f710e185-952a-4e90-8682-7a7f6793278a"
      },
      "execution_count": null,
      "outputs": [
        {
          "output_type": "stream",
          "name": "stdout",
          "text": [
            "\n",
            "New experiment created. View your TensorBoard at: https://tensorboard.dev/experiment/AZ3BQxbeS6mfzV8kvzzdqA/\n",
            "\n",
            "\u001b[1m[2022-05-19T04:32:05]\u001b[0m Started scanning logdir.\n",
            "\u001b[1m[2022-05-19T04:32:10]\u001b[0m Total uploaded: 162 scalars, 0 tensors, 5 binary objects (4.1 MB)\n",
            "\u001b[1m[2022-05-19T04:32:10]\u001b[0m Done scanning logdir.\n",
            "\n",
            "\n",
            "Done. View your TensorBoard at https://tensorboard.dev/experiment/AZ3BQxbeS6mfzV8kvzzdqA/\n"
          ]
        }
      ]
    },
    {
      "cell_type": "markdown",
      "source": [
        "#### Delete from TensorBoard"
      ],
      "metadata": {
        "id": "Oy8QTd6nilDO"
      }
    },
    {
      "cell_type": "code",
      "source": [
        "!tensorboard dev list"
      ],
      "metadata": {
        "colab": {
          "base_uri": "https://localhost:8080/"
        },
        "id": "OJ7RmBuFl3os",
        "outputId": "42b69f21-9814-4a1b-acaf-41bd5beb9719"
      },
      "execution_count": null,
      "outputs": [
        {
          "output_type": "stream",
          "name": "stdout",
          "text": [
            "https://tensorboard.dev/experiment/AZ3BQxbeS6mfzV8kvzzdqA/\n",
            "\tName                 Transfer Learning Experiments with 10 Food 101 Classes\n",
            "\tDescription          A series of different transfer learning experiments with varying amounts of data and fine-tuning.\n",
            "\tId                   AZ3BQxbeS6mfzV8kvzzdqA\n",
            "\tCreated              2022-05-19 04:32:05 (1 minute ago)\n",
            "\tUpdated              2022-05-19 04:32:10 (1 minute ago)\n",
            "\tRuns                 10\n",
            "\tTags                 5\n",
            "\tScalars              162\n",
            "\tTensor bytes         0\n",
            "\tBinary object bytes  4322439\n",
            "https://tensorboard.dev/experiment/tObLgKL4Ql21I27lX4kBcg/\n",
            "\tName                 Transfer Learning Experiments with 10 Food 101 Classes\n",
            "\tDescription          A series of different transfer learning experiments with varying amounts of data and fine-tuning\n",
            "\tId                   tObLgKL4Ql21I27lX4kBcg\n",
            "\tCreated              2022-05-19 04:20:23 (13 minutes ago)\n",
            "\tUpdated              2022-05-19 04:20:27 (13 minutes ago)\n",
            "\tRuns                 8\n",
            "\tTags                 5\n",
            "\tScalars              132\n",
            "\tTensor bytes         0\n",
            "\tBinary object bytes  3507013\n",
            "Total: 2 experiment(s)\n"
          ]
        }
      ]
    },
    {
      "cell_type": "code",
      "source": [
        "# delete an experiment\n",
        "# !tensorboard dev delete --experiment_id AZ3BQxbeS6mfzV8kvzzdqA "
      ],
      "metadata": {
        "id": "spiIEPTzl6GI"
      },
      "execution_count": null,
      "outputs": []
    }
  ]
}